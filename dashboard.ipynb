{
 "cells": [
  {
   "cell_type": "markdown",
   "metadata": {},
   "source": [
    "# San Francisco Rental Prices Dashboard\n",
    "\n",
    "In this notebook, you will compile the visualizations from the previous analysis into functions that can be used for a Panel dashboard."
   ]
  },
  {
   "cell_type": "code",
   "execution_count": 96,
   "metadata": {},
   "outputs": [],
   "source": [
    "# imports\n",
    "import panel as pn\n",
    "pn.extension('plotly')\n",
    "import plotly.express as px\n",
    "import pandas as pd\n",
    "import hvplot.pandas\n",
    "import matplotlib.pyplot as plt\n",
    "import os\n",
    "from pathlib import Path\n",
    "from dotenv import load_dotenv"
   ]
  },
  {
   "cell_type": "code",
   "execution_count": 97,
   "metadata": {},
   "outputs": [],
   "source": [
    "# Read the Mapbox API key\n",
    "load_dotenv()\n",
    "map_box_api = os.getenv(\"mapbox\")\n",
    "px.set_mapbox_access_token(map_box_api)"
   ]
  },
  {
   "cell_type": "markdown",
   "metadata": {},
   "source": [
    "# Import Data"
   ]
  },
  {
   "cell_type": "code",
   "execution_count": 98,
   "metadata": {},
   "outputs": [],
   "source": [
    "# Import the necessary CSVs to Pandas DataFrames\n",
    "file_path = Path(\"Data/sfo_neighborhoods_census_data.csv\")\n",
    "sfo_data = pd.read_csv(file_path, index_col=\"year\")\n",
    "n_path = Path(\"Data/neighborhoods_coordinates.csv\")\n",
    "neighb_df = pd.read_csv(n_path)\n",
    "neighb_df = neighb_df.rename(columns = {'Neighborhood':'neighborhood'})\n",
    "neighb_df = neighb_df.set_index('neighborhood')                 "
   ]
  },
  {
   "cell_type": "markdown",
   "metadata": {},
   "source": [
    "- - -"
   ]
  },
  {
   "cell_type": "markdown",
   "metadata": {},
   "source": [
    "## Panel Visualizations\n",
    "\n",
    "In this section, you will copy the code for each plot type from your analysis notebook and place it into separate functions that Panel can use to create panes for the dashboard. \n",
    "\n",
    "These functions will convert the plot object to a Panel pane.\n",
    "\n",
    "Be sure to include any DataFrame transformation/manipulation code required along with the plotting code.\n",
    "\n",
    "Return a Panel pane object from each function that can be used to build the dashboard.\n",
    "\n",
    "Note: Remove any `.show()` lines from the code. We want to return the plots instead of showing them. The Panel dashboard will then display the plots."
   ]
  },
  {
   "cell_type": "code",
   "execution_count": 122,
   "metadata": {},
   "outputs": [],
   "source": [
    "# Define Panel Visualization Functions\n",
    "def housing_units_per_year():\n",
    "    \"\"\"Housing Units Per Year.\"\"\"\n",
    "    # YOUR CODE HERE!\n",
    "    sum_housing_units = sfo_data[\"housing_units\"].groupby(by = \"year\").max()\n",
    "    x = sum_housing_units.hvplot.line()\n",
    "    return(x)\n",
    "\n",
    "def average_gross_rent():\n",
    "#     \"\"\"Average Gross Rent in San Francisco Per Year.\"\"\"   \n",
    "    avg_list = [\"sale_price_sqr_foot\", \"gross_rent\"]\n",
    "    avg_df = sfo_data[avg_list].groupby(by = \"year\").mean()\n",
    "    avg_df = avg_df.hvplot.line(y=\"gross_rent\")\n",
    "    return (avg_df)\n",
    "\n",
    "def average_sales_price():\n",
    "#     \"\"\"Average Sales Price Per Year.\"\"\"\n",
    "  \n",
    "    avg_list = [\"sale_price_sqr_foot\", \"gross_rent\"]\n",
    "    avg_df = sfo_data[avg_list].groupby(by = \"year\").mean()\n",
    "    avg_df = avg_df.hvplot.line(y=\"sale_price_sqr_foot\")\n",
    "    return (avg_df)\n",
    "\n",
    "def average_price_by_neighborhood():\n",
    "    #     \"\"\"Average Prices by Neighborhood.\"\"\"\n",
    "    \n",
    "    gr_list = ['year','neighborhood']\n",
    "    avg_list = [\"sale_price_sqr_foot\",\"gross_rent\"]\n",
    "    List_of_n=sfo_data[\"neighborhood\"].tolist()\n",
    "    mean_values = sfo_data.reset_index()\n",
    "\n",
    "    x=mean_values.set_index(keys = gr_list)\n",
    "\n",
    "    avg_prices = x[avg_list].groupby(by=gr_list).mean()\n",
    "    # avg_prices=avg_prices.reset_index\n",
    "    avg_prices.head()\n",
    "\n",
    "    return (avg_prices.hvplot.line(groupby='neighborhood'))\n",
    " \n",
    "    \n",
    "    \n",
    "    \n",
    "\n",
    "def top_most_expensive_neighborhoods():\n",
    "#     \"\"\"Top 10 Most Expensive Neighborhoods.\"\"\"\n",
    "    gr_list = ['year','neighborhood']\n",
    "    avg_list = [\"sale_price_sqr_foot\",\"gross_rent\"]\n",
    "    List_of_n=sfo_data[\"neighborhood\"].tolist()\n",
    "    mean_values = sfo_data.reset_index()\n",
    "\n",
    "    x=mean_values.set_index(keys = gr_list)\n",
    "\n",
    "    avg_prices = x[avg_list].groupby(by=gr_list).mean()\n",
    "    avg_prices_exp = avg_prices.reset_index()\n",
    "    avg_prices_exp = avg_prices_exp[[\"neighborhood\",\"sale_price_sqr_foot\"]]\n",
    "    avg_prices_exp = avg_prices_exp.sort_values(by = \"sale_price_sqr_foot\" ,ascending=False)\n",
    "    most_exp_10 = avg_prices_exp[:10]\n",
    "    return(most_exp_10.hvplot.line(groupby='neighborhood'))\n",
    "\n",
    "# def most_expensive_neighborhoods_rent_sales():\n",
    "#     \"\"\"Comparison of Rent and Sales Prices of Most Expensive Neighborhoods.\"\"\"   \n",
    "    \n",
    "#     # YOUR CODE HERE!\n",
    "\n",
    "    \n",
    "    \n",
    "# def parallel_coordinates():\n",
    "#     \"\"\"Parallel Coordinates Plot.\"\"\"\n",
    "\n",
    "#     # YOUR CODE HERE!\n",
    "\n",
    "\n",
    "\n",
    "# def parallel_categories():\n",
    "#     \"\"\"Parallel Categories Plot.\"\"\"\n",
    "    \n",
    "#     # YOUR CODE HERE!\n",
    "\n",
    "\n",
    "\n",
    "# def neighborhood_map():\n",
    "#     \"\"\"Neighborhood Map.\"\"\"\n",
    "\n",
    "#     # YOUR CODE HERE!\n",
    "\n",
    "\n",
    "# def sunburst():\n",
    "#     \"\"\"Sunburst Plot.\"\"\"\n",
    "    \n",
    "    # YOUR CODE HERE!"
   ]
  },
  {
   "cell_type": "markdown",
   "metadata": {},
   "source": [
    "## Panel Dashboard\n",
    "\n",
    "In this section, you will combine all of the plots into a single dashboard view using Panel. Be creative with your dashboard design!"
   ]
  },
  {
   "cell_type": "code",
   "execution_count": 123,
   "metadata": {},
   "outputs": [],
   "source": [
    "# Create a Title for the Dashboard\n",
    "# YOUR CODE HERE!\n",
    "\n",
    "\n",
    "# Create a tab layout for the dashboard\n",
    "tab = pn.Column(\"## PLOTS\", housing_units_per_year() ,average_gross_rent(),average_sales_price(),average_price_by_neighborhood(),top_most_expensive_neighborhoods())\n",
    "  \n",
    "# Create the dashboard\n",
    "sf_dashboard = pn.Tabs(\"SF Data\", tab)\n"
   ]
  },
  {
   "cell_type": "markdown",
   "metadata": {},
   "source": [
    "## Serve the Panel Dashboard"
   ]
  },
  {
   "cell_type": "code",
   "execution_count": 124,
   "metadata": {
    "scrolled": true
   },
   "outputs": [
    {
     "data": {},
     "metadata": {},
     "output_type": "display_data"
    },
    {
     "data": {},
     "metadata": {},
     "output_type": "display_data"
    },
    {
     "data": {
      "application/vnd.holoviews_exec.v0+json": "",
      "text/html": [
       "<div id='5818'>\n",
       "\n",
       "\n",
       "\n",
       "\n",
       "\n",
       "  <div class=\"bk-root\" id=\"a3eea7f3-6069-40e2-9c41-c4ed1e53b006\" data-root-id=\"5818\"></div>\n",
       "</div>\n",
       "<script type=\"application/javascript\">(function(root) {\n",
       "  function embed_document(root) {\n",
       "    var docs_json = {\"9d37faac-15ce-4321-948a-b9fa36bcc645\":{\"roots\":{\"references\":[{\"attributes\":{\"source\":{\"id\":\"5978\"}},\"id\":\"5985\",\"type\":\"CDSView\"},{\"attributes\":{},\"id\":\"5864\",\"type\":\"BasicTickFormatter\"},{\"attributes\":{\"css_classes\":[\"markdown\"],\"margin\":[5,5,5,5],\"name\":\"Markdown12325\",\"text\":\"&lt;p&gt;SF Data&lt;/p&gt;\"},\"id\":\"5819\",\"type\":\"panel.models.markup.HTML\"},{\"attributes\":{\"data_source\":{\"id\":\"5978\"},\"glyph\":{\"id\":\"5981\"},\"hover_glyph\":null,\"muted_glyph\":{\"id\":\"5983\"},\"nonselection_glyph\":{\"id\":\"5982\"},\"selection_glyph\":null,\"view\":{\"id\":\"5985\"}},\"id\":\"5984\",\"type\":\"GlyphRenderer\"},{\"attributes\":{},\"id\":\"6189\",\"type\":\"LinearScale\"},{\"attributes\":{\"data\":{\"index\":[346,226],\"sale_price_sqr_foot\":{\"__ndarray__\":\"CX+Y2WeloUAwvuxv4ymUQA==\",\"dtype\":\"float64\",\"order\":\"little\",\"shape\":[2]}},\"selected\":{\"id\":\"6215\"},\"selection_policy\":{\"id\":\"6235\"}},\"id\":\"6214\",\"type\":\"ColumnDataSource\"},{\"attributes\":{\"css_classes\":[\"markdown\"],\"margin\":[5,5,5,5],\"name\":\"Markdown12289\",\"text\":\"&lt;h2&gt;PLOTS&lt;/h2&gt;\"},\"id\":\"5822\",\"type\":\"panel.models.markup.HTML\"},{\"attributes\":{\"margin\":[0,0,0,0],\"tabs\":[{\"id\":\"5820\"},{\"id\":\"6250\"}]},\"id\":\"5818\",\"type\":\"Tabs\"},{\"attributes\":{},\"id\":\"5965\",\"type\":\"SaveTool\"},{\"attributes\":{\"children\":[{\"id\":\"6184\"},{\"id\":\"6246\"}],\"margin\":[0,0,0,0],\"name\":\"Row12316\"},\"id\":\"6180\",\"type\":\"Row\"},{\"attributes\":{},\"id\":\"5966\",\"type\":\"PanTool\"},{\"attributes\":{},\"id\":\"5969\",\"type\":\"ResetTool\"},{\"attributes\":{},\"id\":\"5967\",\"type\":\"WheelZoomTool\"},{\"attributes\":{},\"id\":\"5831\",\"type\":\"LinearScale\"},{\"attributes\":{},\"id\":\"5844\",\"type\":\"PanTool\"},{\"attributes\":{},\"id\":\"5995\",\"type\":\"UnionRenderers\"},{\"attributes\":{\"overlay\":{\"id\":\"5848\"}},\"id\":\"5846\",\"type\":\"BoxZoomTool\"},{\"attributes\":{\"overlay\":{\"id\":\"5970\"}},\"id\":\"5968\",\"type\":\"BoxZoomTool\"},{\"attributes\":{},\"id\":\"5845\",\"type\":\"WheelZoomTool\"},{\"attributes\":{},\"id\":\"5847\",\"type\":\"ResetTool\"},{\"attributes\":{},\"id\":\"5843\",\"type\":\"SaveTool\"},{\"attributes\":{\"end\":385410.2,\"reset_end\":385410.2,\"reset_start\":371391.8,\"start\":371391.8,\"tags\":[[[\"housing_units\",\"housing_units\",null]]]},\"id\":\"5824\",\"type\":\"Range1d\"},{\"attributes\":{\"child\":{\"id\":\"5821\"},\"name\":\"Column12324\",\"title\":\"Column12324\"},\"id\":\"6250\",\"type\":\"Panel\"},{\"attributes\":{\"line_alpha\":0.1,\"line_color\":\"#1f77b3\",\"line_width\":2,\"x\":{\"field\":\"year\"},\"y\":{\"field\":\"housing_units\"}},\"id\":\"5860\",\"type\":\"Line\"},{\"attributes\":{\"axis_label\":\"year\",\"bounds\":\"auto\",\"formatter\":{\"id\":\"5864\"},\"major_label_orientation\":\"horizontal\",\"ticker\":{\"id\":\"5836\"}},\"id\":\"5835\",\"type\":\"LinearAxis\"},{\"attributes\":{\"below\":[{\"id\":\"6020\"}],\"center\":[{\"id\":\"6023\"},{\"id\":\"6027\"}],\"left\":[{\"id\":\"6024\"}],\"margin\":[5,5,5,5],\"min_border_bottom\":10,\"min_border_left\":10,\"min_border_right\":10,\"min_border_top\":10,\"plot_height\":300,\"plot_width\":700,\"renderers\":[{\"id\":\"6051\"},{\"id\":\"6069\"}],\"right\":[{\"id\":\"6061\"}],\"sizing_mode\":\"fixed\",\"title\":{\"id\":\"6012\"},\"toolbar\":{\"id\":\"6034\"},\"x_range\":{\"id\":\"5823\"},\"x_scale\":{\"id\":\"6016\"},\"y_range\":{\"id\":\"6008\"},\"y_scale\":{\"id\":\"6018\"}},\"id\":\"6011\",\"subtype\":\"Figure\",\"type\":\"Plot\"},{\"attributes\":{\"source\":{\"id\":\"5856\"}},\"id\":\"5863\",\"type\":\"CDSView\"},{\"attributes\":{\"source\":{\"id\":\"6063\"}},\"id\":\"6070\",\"type\":\"CDSView\"},{\"attributes\":{\"below\":[{\"id\":\"5835\"}],\"center\":[{\"id\":\"5838\"},{\"id\":\"5842\"}],\"left\":[{\"id\":\"5839\"}],\"margin\":[5,5,5,5],\"min_border_bottom\":10,\"min_border_left\":10,\"min_border_right\":10,\"min_border_top\":10,\"plot_height\":300,\"plot_width\":700,\"renderers\":[{\"id\":\"5862\"}],\"sizing_mode\":\"fixed\",\"title\":{\"id\":\"5827\"},\"toolbar\":{\"id\":\"5849\"},\"x_range\":{\"id\":\"5823\"},\"x_scale\":{\"id\":\"5831\"},\"y_range\":{\"id\":\"5824\"},\"y_scale\":{\"id\":\"5833\"}},\"id\":\"5826\",\"subtype\":\"Figure\",\"type\":\"Plot\"},{\"attributes\":{\"axis\":{\"id\":\"5961\"},\"dimension\":1,\"grid_line_color\":null,\"ticker\":null},\"id\":\"5964\",\"type\":\"Grid\"},{\"attributes\":{},\"id\":\"5840\",\"type\":\"BasicTicker\"},{\"attributes\":{\"active_drag\":\"auto\",\"active_inspect\":\"auto\",\"active_multi\":null,\"active_scroll\":\"auto\",\"active_tap\":\"auto\",\"tools\":[{\"id\":\"5947\"},{\"id\":\"5965\"},{\"id\":\"5966\"},{\"id\":\"5967\"},{\"id\":\"5968\"},{\"id\":\"5969\"}]},\"id\":\"5971\",\"type\":\"Toolbar\"},{\"attributes\":{},\"id\":\"6224\",\"type\":\"BasicTickFormatter\"},{\"attributes\":{},\"id\":\"6203\",\"type\":\"WheelZoomTool\"},{\"attributes\":{},\"id\":\"6078\",\"type\":\"UnionRenderers\"},{\"attributes\":{\"data_source\":{\"id\":\"5856\"},\"glyph\":{\"id\":\"5859\"},\"hover_glyph\":null,\"muted_glyph\":{\"id\":\"5861\"},\"nonselection_glyph\":{\"id\":\"5860\"},\"selection_glyph\":null,\"view\":{\"id\":\"5863\"}},\"id\":\"5862\",\"type\":\"GlyphRenderer\"},{\"attributes\":{},\"id\":\"5866\",\"type\":\"BasicTickFormatter\"},{\"attributes\":{},\"id\":\"6046\",\"type\":\"Selection\"},{\"attributes\":{\"bottom_units\":\"screen\",\"fill_alpha\":0.5,\"fill_color\":\"lightgrey\",\"left_units\":\"screen\",\"level\":\"overlay\",\"line_alpha\":1.0,\"line_color\":\"black\",\"line_dash\":[4,4],\"line_width\":2,\"right_units\":\"screen\",\"top_units\":\"screen\"},\"id\":\"5970\",\"type\":\"BoxAnnotation\"},{\"attributes\":{\"label\":{\"value\":\"gross_rent\"},\"renderers\":[{\"id\":\"6069\"}]},\"id\":\"6081\",\"type\":\"LegendItem\"},{\"attributes\":{\"line_alpha\":0.2,\"line_color\":\"#1f77b3\",\"line_width\":2,\"x\":{\"field\":\"index\"},\"y\":{\"field\":\"sale_price_sqr_foot\"}},\"id\":\"6219\",\"type\":\"Line\"},{\"attributes\":{\"line_color\":\"#1f77b3\",\"line_width\":2,\"x\":{\"field\":\"year\"},\"y\":{\"field\":\"housing_units\"}},\"id\":\"5859\",\"type\":\"Line\"},{\"attributes\":{\"line_color\":\"#1f77b3\",\"line_width\":2,\"x\":{\"field\":\"index\"},\"y\":{\"field\":\"sale_price_sqr_foot\"}},\"id\":\"6217\",\"type\":\"Line\"},{\"attributes\":{\"callback\":null,\"renderers\":[{\"id\":\"6220\"}],\"tags\":[\"hv_created\"],\"tooltips\":[[\"index\",\"@{index}\"],[\"sale_price_sqr_foot\",\"@{sale_price_sqr_foot}\"]]},\"id\":\"6183\",\"type\":\"HoverTool\"},{\"attributes\":{},\"id\":\"5988\",\"type\":\"BasicTickFormatter\"},{\"attributes\":{\"axis_label\":\"\",\"bounds\":\"auto\",\"formatter\":{\"id\":\"6222\"},\"major_label_orientation\":\"horizontal\",\"ticker\":{\"id\":\"6194\"}},\"id\":\"6193\",\"type\":\"LinearAxis\"},{\"attributes\":{},\"id\":\"6043\",\"type\":\"BasicTickFormatter\"},{\"attributes\":{\"line_alpha\":0.2,\"line_color\":\"#1f77b3\",\"line_width\":2,\"x\":{\"field\":\"year\"},\"y\":{\"field\":\"housing_units\"}},\"id\":\"5861\",\"type\":\"Line\"},{\"attributes\":{\"children\":[{\"id\":\"6011\"},{\"id\":\"6176\"}],\"margin\":[0,0,0,0],\"name\":\"Row12307\"},\"id\":\"6006\",\"type\":\"Row\"},{\"attributes\":{\"axis\":{\"id\":\"5839\"},\"dimension\":1,\"grid_line_color\":null,\"ticker\":null},\"id\":\"5842\",\"type\":\"Grid\"},{\"attributes\":{\"text\":\"neighborhood: Union Square District\",\"text_color\":{\"value\":\"black\"},\"text_font_size\":{\"value\":\"12pt\"}},\"id\":\"6185\",\"type\":\"Title\"},{\"attributes\":{\"below\":[{\"id\":\"6193\"}],\"center\":[{\"id\":\"6196\"},{\"id\":\"6200\"}],\"left\":[{\"id\":\"6197\"}],\"margin\":[5,5,5,5],\"min_border_bottom\":10,\"min_border_left\":10,\"min_border_right\":10,\"min_border_top\":10,\"plot_height\":300,\"plot_width\":700,\"renderers\":[{\"id\":\"6220\"}],\"sizing_mode\":\"fixed\",\"title\":{\"id\":\"6185\"},\"toolbar\":{\"id\":\"6207\"},\"x_range\":{\"id\":\"6181\"},\"x_scale\":{\"id\":\"6189\"},\"y_range\":{\"id\":\"5946\"},\"y_scale\":{\"id\":\"6191\"}},\"id\":\"6184\",\"subtype\":\"Figure\",\"type\":\"Plot\"},{\"attributes\":{},\"id\":\"5918\",\"type\":\"Selection\"},{\"attributes\":{\"client_comm_id\":\"b9633abd31124fc0a280ecb1b3fdc869\",\"comm_id\":\"084b3cc29def42018c5ba6dc7e863808\",\"plot_id\":\"5818\"},\"id\":\"6377\",\"type\":\"panel.models.comm_manager.CommManager\"},{\"attributes\":{\"line_alpha\":0.2,\"line_color\":\"#1f77b3\",\"line_width\":2,\"x\":{\"field\":\"year\"},\"y\":{\"field\":\"value\"}},\"id\":\"6050\",\"type\":\"Line\"},{\"attributes\":{\"margin\":[20,20,20,20],\"min_width\":250,\"options\":[\"Alamo Square\",\"Anza Vista\",\"Bayview\",\"Buena Vista Park\",\"Central Richmond\",\"Central Sunset\",\"Corona Heights\",\"Cow Hollow\",\"Croker Amazon\",\"Diamond Heights\",\"Downtown \",\"Eureka Valley/Dolores Heights\",\"Excelsior\",\"Financial District North\",\"Financial District South\",\"Forest Knolls\",\"Glen Park\",\"Golden Gate Heights\",\"Haight Ashbury\",\"Hayes Valley\",\"Hunters Point\",\"Ingleside \",\"Inner Mission\",\"Inner Parkside\",\"Inner Richmond\",\"Inner Sunset\",\"Jordan Park/Laurel Heights\",\"Lake --The Presidio\",\"Lone Mountain\",\"Lower Pacific Heights\",\"Marina\",\"Miraloma Park\",\"Mission Bay\",\"Mission Dolores\",\"Mission Terrace\",\"Nob Hill\",\"Noe Valley\",\"Oceanview\",\"Outer Parkside\",\"Outer Richmond \",\"Outer Sunset\",\"Pacific Heights\",\"Park North\",\"Parkside\",\"Parnassus/Ashbury Heights\",\"Portola\",\"Potrero Hill\",\"Presidio Heights\",\"Russian Hill\",\"South Beach\",\"South of Market\",\"Sunnyside\",\"Telegraph Hill\",\"Twin Peaks\",\"Union Square District\",\"Van Ness/ Civic Center\",\"West Portal\",\"Western Addition\",\"Yerba Buena\",\"Bernal Heights \",\"Clarendon Heights\",\"Duboce Triangle\",\"Ingleside Heights\",\"North Beach\",\"North Waterfront\",\"Outer Mission\",\"Westwood Highlands\",\"Merced Heights\",\"Midtown Terrace\",\"Visitacion Valley\",\"Silver Terrace\",\"Westwood Park\",\"Bayview Heights\"],\"title\":\"neighborhood\",\"value\":\"Alamo Square\",\"width\":250},\"id\":\"6178\",\"type\":\"Select\"},{\"attributes\":{\"callback\":null,\"renderers\":[{\"id\":\"5862\"}],\"tags\":[\"hv_created\"],\"tooltips\":[[\"year\",\"@{year}\"],[\"housing_units\",\"@{housing_units}\"]]},\"id\":\"5825\",\"type\":\"HoverTool\"},{\"attributes\":{\"margin\":[5,5,5,5],\"name\":\"VSpacer12313\",\"sizing_mode\":\"stretch_height\"},\"id\":\"6179\",\"type\":\"Spacer\"},{\"attributes\":{\"data_source\":{\"id\":\"6214\"},\"glyph\":{\"id\":\"6217\"},\"hover_glyph\":null,\"muted_glyph\":{\"id\":\"6219\"},\"nonselection_glyph\":{\"id\":\"6218\"},\"selection_glyph\":null,\"view\":{\"id\":\"6221\"}},\"id\":\"6220\",\"type\":\"GlyphRenderer\"},{\"attributes\":{\"data\":{\"Variable\":[\"sale_price_sqr_foot\",\"sale_price_sqr_foot\",\"sale_price_sqr_foot\",\"sale_price_sqr_foot\",\"sale_price_sqr_foot\",\"sale_price_sqr_foot\",\"sale_price_sqr_foot\"],\"value\":{\"__ndarray__\":\"Dkc7WO0yckCafszcbwhxQIGRs5ot42ZAJzog0LQ8eEAWMinKGEd+QI0V5FDt0IJAVCHcmLVPdUA=\",\"dtype\":\"float64\",\"order\":\"little\",\"shape\":[7]},\"year\":[2010,2011,2012,2013,2014,2015,2016]},\"selected\":{\"id\":\"6046\"},\"selection_policy\":{\"id\":\"6058\"}},\"id\":\"6045\",\"type\":\"ColumnDataSource\"},{\"attributes\":{\"line_alpha\":0.1,\"line_color\":\"#1f77b3\",\"line_width\":2,\"x\":{\"field\":\"index\"},\"y\":{\"field\":\"sale_price_sqr_foot\"}},\"id\":\"6218\",\"type\":\"Line\"},{\"attributes\":{\"text\":\"housing_units\",\"text_color\":{\"value\":\"black\"},\"text_font_size\":{\"value\":\"12pt\"}},\"id\":\"5827\",\"type\":\"Title\"},{\"attributes\":{},\"id\":\"6191\",\"type\":\"LinearScale\"},{\"attributes\":{},\"id\":\"6205\",\"type\":\"ResetTool\"},{\"attributes\":{\"axis_label\":\"\",\"bounds\":\"auto\",\"formatter\":{\"id\":\"5866\"},\"major_label_orientation\":\"horizontal\",\"ticker\":{\"id\":\"5840\"}},\"id\":\"5839\",\"type\":\"LinearAxis\"},{\"attributes\":{\"data_source\":{\"id\":\"6045\"},\"glyph\":{\"id\":\"6048\"},\"hover_glyph\":null,\"muted_glyph\":{\"id\":\"6050\"},\"nonselection_glyph\":{\"id\":\"6049\"},\"selection_glyph\":null,\"view\":{\"id\":\"6052\"}},\"id\":\"6051\",\"type\":\"GlyphRenderer\"},{\"attributes\":{\"overlay\":{\"id\":\"6206\"}},\"id\":\"6204\",\"type\":\"BoxZoomTool\"},{\"attributes\":{},\"id\":\"5833\",\"type\":\"LinearScale\"},{\"attributes\":{\"children\":[{\"id\":\"6177\"},{\"id\":\"6179\"}],\"margin\":[0,0,0,0],\"name\":\"Column12314\"},\"id\":\"6176\",\"type\":\"Column\"},{\"attributes\":{\"line_alpha\":0.1,\"line_color\":\"#1f77b3\",\"line_width\":2,\"x\":{\"field\":\"year\"},\"y\":{\"field\":\"value\"}},\"id\":\"6049\",\"type\":\"Line\"},{\"attributes\":{\"axis\":{\"id\":\"5835\"},\"grid_line_color\":null,\"ticker\":null},\"id\":\"5838\",\"type\":\"Grid\"},{\"attributes\":{\"line_color\":\"#1f77b3\",\"line_width\":2,\"x\":{\"field\":\"year\"},\"y\":{\"field\":\"value\"}},\"id\":\"6048\",\"type\":\"Line\"},{\"attributes\":{},\"id\":\"6041\",\"type\":\"BasicTickFormatter\"},{\"attributes\":{},\"id\":\"5836\",\"type\":\"BasicTicker\"},{\"attributes\":{\"axis\":{\"id\":\"6193\"},\"grid_line_color\":null,\"ticker\":null},\"id\":\"6196\",\"type\":\"Grid\"},{\"attributes\":{\"axis\":{\"id\":\"5900\"},\"dimension\":1,\"grid_line_color\":null,\"ticker\":null},\"id\":\"5903\",\"type\":\"Grid\"},{\"attributes\":{},\"id\":\"6194\",\"type\":\"BasicTicker\"},{\"attributes\":{},\"id\":\"5901\",\"type\":\"BasicTicker\"},{\"attributes\":{\"axis_label\":\"gross_rent\",\"bounds\":\"auto\",\"formatter\":{\"id\":\"5927\"},\"major_label_orientation\":\"horizontal\",\"ticker\":{\"id\":\"5901\"}},\"id\":\"5900\",\"type\":\"LinearAxis\"},{\"attributes\":{},\"id\":\"5873\",\"type\":\"UnionRenderers\"},{\"attributes\":{\"active_drag\":\"auto\",\"active_inspect\":\"auto\",\"active_multi\":null,\"active_scroll\":\"auto\",\"active_tap\":\"auto\",\"tools\":[{\"id\":\"6183\"},{\"id\":\"6201\"},{\"id\":\"6202\"},{\"id\":\"6203\"},{\"id\":\"6204\"},{\"id\":\"6205\"}]},\"id\":\"6207\",\"type\":\"Toolbar\"},{\"attributes\":{\"text\":\"neighborhood: Alamo Square\",\"text_color\":{\"value\":\"black\"},\"text_font_size\":{\"value\":\"12pt\"}},\"id\":\"6012\",\"type\":\"Title\"},{\"attributes\":{\"axis_label\":\"sale_price_sqr_foot\",\"bounds\":\"auto\",\"formatter\":{\"id\":\"6224\"},\"major_label_orientation\":\"horizontal\",\"ticker\":{\"id\":\"6198\"}},\"id\":\"6197\",\"type\":\"LinearAxis\"},{\"attributes\":{},\"id\":\"5934\",\"type\":\"UnionRenderers\"},{\"attributes\":{},\"id\":\"6198\",\"type\":\"BasicTicker\"},{\"attributes\":{},\"id\":\"6016\",\"type\":\"LinearScale\"},{\"attributes\":{\"data\":{\"Variable\":[\"gross_rent\",\"gross_rent\",\"gross_rent\",\"gross_rent\",\"gross_rent\",\"gross_rent\",\"gross_rent\"],\"value\":[1239,1530,2324,2971,3528,3739,4390],\"year\":[2010,2011,2012,2013,2014,2015,2016]},\"selected\":{\"id\":\"6064\"},\"selection_policy\":{\"id\":\"6078\"}},\"id\":\"6063\",\"type\":\"ColumnDataSource\"},{\"attributes\":{\"bottom_units\":\"screen\",\"fill_alpha\":0.5,\"fill_color\":\"lightgrey\",\"left_units\":\"screen\",\"level\":\"overlay\",\"line_alpha\":1.0,\"line_color\":\"black\",\"line_dash\":[4,4],\"line_width\":2,\"right_units\":\"screen\",\"top_units\":\"screen\"},\"id\":\"6206\",\"type\":\"BoxAnnotation\"},{\"attributes\":{\"source\":{\"id\":\"5917\"}},\"id\":\"5924\",\"type\":\"CDSView\"},{\"attributes\":{\"axis_label\":\"year\",\"bounds\":\"auto\",\"formatter\":{\"id\":\"6041\"},\"major_label_orientation\":\"horizontal\",\"ticker\":{\"id\":\"6021\"}},\"id\":\"6020\",\"type\":\"LinearAxis\"},{\"attributes\":{\"data_source\":{\"id\":\"5917\"},\"glyph\":{\"id\":\"5920\"},\"hover_glyph\":null,\"muted_glyph\":{\"id\":\"5922\"},\"nonselection_glyph\":{\"id\":\"5921\"},\"selection_glyph\":null,\"view\":{\"id\":\"5924\"}},\"id\":\"5923\",\"type\":\"GlyphRenderer\"},{\"attributes\":{},\"id\":\"6018\",\"type\":\"LinearScale\"},{\"attributes\":{},\"id\":\"6021\",\"type\":\"BasicTicker\"},{\"attributes\":{\"axis\":{\"id\":\"6024\"},\"dimension\":1,\"grid_line_color\":null,\"ticker\":null},\"id\":\"6027\",\"type\":\"Grid\"},{\"attributes\":{},\"id\":\"6201\",\"type\":\"SaveTool\"},{\"attributes\":{},\"id\":\"5904\",\"type\":\"SaveTool\"},{\"attributes\":{\"callback\":null,\"renderers\":[{\"id\":\"5984\"}],\"tags\":[\"hv_created\"],\"tooltips\":[[\"year\",\"@{year}\"],[\"sale_price_sqr_foot\",\"@{sale_price_sqr_foot}\"]]},\"id\":\"5947\",\"type\":\"HoverTool\"},{\"attributes\":{\"axis\":{\"id\":\"6020\"},\"grid_line_color\":null,\"ticker\":null},\"id\":\"6023\",\"type\":\"Grid\"},{\"attributes\":{},\"id\":\"5905\",\"type\":\"PanTool\"},{\"attributes\":{},\"id\":\"5908\",\"type\":\"ResetTool\"},{\"attributes\":{\"source\":{\"id\":\"6214\"}},\"id\":\"6221\",\"type\":\"CDSView\"},{\"attributes\":{},\"id\":\"5906\",\"type\":\"WheelZoomTool\"},{\"attributes\":{},\"id\":\"6025\",\"type\":\"BasicTicker\"},{\"attributes\":{\"axis_label\":\"\",\"bounds\":\"auto\",\"formatter\":{\"id\":\"6043\"},\"major_label_orientation\":\"horizontal\",\"ticker\":{\"id\":\"6025\"}},\"id\":\"6024\",\"type\":\"LinearAxis\"},{\"attributes\":{\"overlay\":{\"id\":\"5909\"}},\"id\":\"5907\",\"type\":\"BoxZoomTool\"},{\"attributes\":{\"active_drag\":\"auto\",\"active_inspect\":\"auto\",\"active_multi\":null,\"active_scroll\":\"auto\",\"active_tap\":\"auto\",\"tools\":[{\"id\":\"5825\"},{\"id\":\"5843\"},{\"id\":\"5844\"},{\"id\":\"5845\"},{\"id\":\"5846\"},{\"id\":\"5847\"}]},\"id\":\"5849\",\"type\":\"Toolbar\"},{\"attributes\":{\"children\":[{\"id\":\"5822\"},{\"id\":\"5826\"},{\"id\":\"5887\"},{\"id\":\"5948\"},{\"id\":\"6006\"},{\"id\":\"6180\"}],\"margin\":[0,0,0,0],\"name\":\"Column12324\"},\"id\":\"5821\",\"type\":\"Column\"},{\"attributes\":{\"axis\":{\"id\":\"6197\"},\"dimension\":1,\"grid_line_color\":null,\"ticker\":null},\"id\":\"6200\",\"type\":\"Grid\"},{\"attributes\":{\"data\":{\"housing_units\":[372560,374507,376454,378401,380348,382295,384242],\"year\":[2010,2011,2012,2013,2014,2015,2016]},\"selected\":{\"id\":\"5857\"},\"selection_policy\":{\"id\":\"5873\"}},\"id\":\"5856\",\"type\":\"ColumnDataSource\"},{\"attributes\":{\"below\":[{\"id\":\"5957\"}],\"center\":[{\"id\":\"5960\"},{\"id\":\"5964\"}],\"left\":[{\"id\":\"5961\"}],\"margin\":[5,5,5,5],\"min_border_bottom\":10,\"min_border_left\":10,\"min_border_right\":10,\"min_border_top\":10,\"plot_height\":300,\"plot_width\":700,\"renderers\":[{\"id\":\"5984\"}],\"sizing_mode\":\"fixed\",\"title\":{\"id\":\"5949\"},\"toolbar\":{\"id\":\"5971\"},\"x_range\":{\"id\":\"5823\"},\"x_scale\":{\"id\":\"5953\"},\"y_range\":{\"id\":\"5946\"},\"y_scale\":{\"id\":\"5955\"}},\"id\":\"5948\",\"subtype\":\"Figure\",\"type\":\"Plot\"},{\"attributes\":{},\"id\":\"6215\",\"type\":\"Selection\"},{\"attributes\":{\"child\":{\"id\":\"5819\"},\"name\":\"Markdown12325\",\"title\":\"Markdown\"},\"id\":\"5820\",\"type\":\"Panel\"},{\"attributes\":{},\"id\":\"5925\",\"type\":\"BasicTickFormatter\"},{\"attributes\":{},\"id\":\"6058\",\"type\":\"UnionRenderers\"},{\"attributes\":{\"end\":2355.5259045335265,\"reset_end\":733.2177371101802,\"reset_start\":306.3294011864627,\"start\":306.3294011864627,\"tags\":[[[\"sale_price_sqr_foot\",\"sale_price_sqr_foot\",null]]]},\"id\":\"5946\",\"type\":\"Range1d\"},{\"attributes\":{},\"id\":\"6028\",\"type\":\"SaveTool\"},{\"attributes\":{},\"id\":\"6029\",\"type\":\"PanTool\"},{\"attributes\":{},\"id\":\"5986\",\"type\":\"BasicTickFormatter\"},{\"attributes\":{},\"id\":\"6032\",\"type\":\"ResetTool\"},{\"attributes\":{},\"id\":\"6030\",\"type\":\"WheelZoomTool\"},{\"attributes\":{\"line_alpha\":0.1,\"line_color\":\"#1f77b3\",\"line_width\":2,\"x\":{\"field\":\"year\"},\"y\":{\"field\":\"gross_rent\"}},\"id\":\"5921\",\"type\":\"Line\"},{\"attributes\":{\"active_drag\":\"auto\",\"active_inspect\":\"auto\",\"active_multi\":null,\"active_scroll\":\"auto\",\"active_tap\":\"auto\",\"tools\":[{\"id\":\"5886\"},{\"id\":\"5904\"},{\"id\":\"5905\"},{\"id\":\"5906\"},{\"id\":\"5907\"},{\"id\":\"5908\"}]},\"id\":\"5910\",\"type\":\"Toolbar\"},{\"attributes\":{\"end\":4705.1,\"reset_end\":4705.1,\"reset_start\":923.9,\"start\":923.9,\"tags\":[[[\"gross_rent\",\"gross_rent\",null]]]},\"id\":\"5885\",\"type\":\"Range1d\"},{\"attributes\":{\"overlay\":{\"id\":\"6033\"}},\"id\":\"6031\",\"type\":\"BoxZoomTool\"},{\"attributes\":{\"line_alpha\":0.2,\"line_color\":\"#1f77b3\",\"line_width\":2,\"x\":{\"field\":\"year\"},\"y\":{\"field\":\"gross_rent\"}},\"id\":\"5922\",\"type\":\"Line\"},{\"attributes\":{\"line_color\":\"#1f77b3\",\"line_width\":2,\"x\":{\"field\":\"year\"},\"y\":{\"field\":\"sale_price_sqr_foot\"}},\"id\":\"5981\",\"type\":\"Line\"},{\"attributes\":{\"text\":\"\",\"text_color\":{\"value\":\"black\"},\"text_font_size\":{\"value\":\"12pt\"}},\"id\":\"5949\",\"type\":\"Title\"},{\"attributes\":{\"callback\":null,\"renderers\":[{\"id\":\"5923\"}],\"tags\":[\"hv_created\"],\"tooltips\":[[\"year\",\"@{year}\"],[\"gross_rent\",\"@{gross_rent}\"]]},\"id\":\"5886\",\"type\":\"HoverTool\"},{\"attributes\":{\"bottom_units\":\"screen\",\"fill_alpha\":0.5,\"fill_color\":\"lightgrey\",\"left_units\":\"screen\",\"level\":\"overlay\",\"line_alpha\":1.0,\"line_color\":\"black\",\"line_dash\":[4,4],\"line_width\":2,\"right_units\":\"screen\",\"top_units\":\"screen\"},\"id\":\"5909\",\"type\":\"BoxAnnotation\"},{\"attributes\":{\"line_alpha\":0.1,\"line_color\":\"#1f77b3\",\"line_width\":2,\"x\":{\"field\":\"year\"},\"y\":{\"field\":\"sale_price_sqr_foot\"}},\"id\":\"5982\",\"type\":\"Line\"},{\"attributes\":{},\"id\":\"5857\",\"type\":\"Selection\"},{\"attributes\":{\"line_alpha\":0.1,\"line_color\":\"#ff7e0e\",\"line_width\":2,\"x\":{\"field\":\"year\"},\"y\":{\"field\":\"value\"}},\"id\":\"6067\",\"type\":\"Line\"},{\"attributes\":{\"line_alpha\":0.2,\"line_color\":\"#1f77b3\",\"line_width\":2,\"x\":{\"field\":\"year\"},\"y\":{\"field\":\"sale_price_sqr_foot\"}},\"id\":\"5983\",\"type\":\"Line\"},{\"attributes\":{\"children\":[{\"id\":\"6178\"}],\"css_classes\":[\"panel-widget-box\"],\"margin\":[5,5,5,5],\"name\":\"WidgetBox12308\"},\"id\":\"6177\",\"type\":\"Column\"},{\"attributes\":{\"bottom_units\":\"screen\",\"fill_alpha\":0.5,\"fill_color\":\"lightgrey\",\"left_units\":\"screen\",\"level\":\"overlay\",\"line_alpha\":1.0,\"line_color\":\"black\",\"line_dash\":[4,4],\"line_width\":2,\"right_units\":\"screen\",\"top_units\":\"screen\"},\"id\":\"5848\",\"type\":\"BoxAnnotation\"},{\"attributes\":{},\"id\":\"6064\",\"type\":\"Selection\"},{\"attributes\":{\"click_policy\":\"mute\",\"items\":[{\"id\":\"6062\"},{\"id\":\"6081\"}],\"location\":[0,0],\"title\":\"Variable\"},\"id\":\"6061\",\"type\":\"Legend\"},{\"attributes\":{\"text\":\"\",\"text_color\":{\"value\":\"black\"},\"text_font_size\":{\"value\":\"12pt\"}},\"id\":\"5888\",\"type\":\"Title\"},{\"attributes\":{},\"id\":\"5927\",\"type\":\"BasicTickFormatter\"},{\"attributes\":{\"label\":{\"value\":\"sale_price_sqr_foot\"},\"renderers\":[{\"id\":\"6051\"}]},\"id\":\"6062\",\"type\":\"LegendItem\"},{\"attributes\":{\"data_source\":{\"id\":\"6063\"},\"glyph\":{\"id\":\"6066\"},\"hover_glyph\":null,\"muted_glyph\":{\"id\":\"6068\"},\"nonselection_glyph\":{\"id\":\"6067\"},\"selection_glyph\":null,\"view\":{\"id\":\"6070\"}},\"id\":\"6069\",\"type\":\"GlyphRenderer\"},{\"attributes\":{\"below\":[{\"id\":\"5896\"}],\"center\":[{\"id\":\"5899\"},{\"id\":\"5903\"}],\"left\":[{\"id\":\"5900\"}],\"margin\":[5,5,5,5],\"min_border_bottom\":10,\"min_border_left\":10,\"min_border_right\":10,\"min_border_top\":10,\"plot_height\":300,\"plot_width\":700,\"renderers\":[{\"id\":\"5923\"}],\"sizing_mode\":\"fixed\",\"title\":{\"id\":\"5888\"},\"toolbar\":{\"id\":\"5910\"},\"x_range\":{\"id\":\"5823\"},\"x_scale\":{\"id\":\"5892\"},\"y_range\":{\"id\":\"5885\"},\"y_scale\":{\"id\":\"5894\"}},\"id\":\"5887\",\"subtype\":\"Figure\",\"type\":\"Plot\"},{\"attributes\":{},\"id\":\"6202\",\"type\":\"PanTool\"},{\"attributes\":{},\"id\":\"5953\",\"type\":\"LinearScale\"},{\"attributes\":{\"source\":{\"id\":\"6045\"}},\"id\":\"6052\",\"type\":\"CDSView\"},{\"attributes\":{\"children\":[{\"id\":\"6247\"},{\"id\":\"6249\"}],\"margin\":[0,0,0,0],\"name\":\"Column12323\"},\"id\":\"6246\",\"type\":\"Column\"},{\"attributes\":{\"active_drag\":\"auto\",\"active_inspect\":\"auto\",\"active_multi\":null,\"active_scroll\":\"auto\",\"active_tap\":\"auto\",\"tools\":[{\"id\":\"6009\"},{\"id\":\"6028\"},{\"id\":\"6029\"},{\"id\":\"6030\"},{\"id\":\"6031\"},{\"id\":\"6032\"}]},\"id\":\"6034\",\"type\":\"Toolbar\"},{\"attributes\":{\"end\":346.0,\"reset_end\":346.0,\"reset_start\":226.0,\"start\":226.0,\"tags\":[[[\"index\",\"index\",null]]]},\"id\":\"6181\",\"type\":\"Range1d\"},{\"attributes\":{\"axis_label\":\"year\",\"bounds\":\"auto\",\"formatter\":{\"id\":\"5986\"},\"major_label_orientation\":\"horizontal\",\"ticker\":{\"id\":\"5958\"}},\"id\":\"5957\",\"type\":\"LinearAxis\"},{\"attributes\":{},\"id\":\"5979\",\"type\":\"Selection\"},{\"attributes\":{},\"id\":\"6222\",\"type\":\"BasicTickFormatter\"},{\"attributes\":{\"end\":2016.0,\"reset_end\":2016.0,\"reset_start\":2010.0,\"start\":2010.0,\"tags\":[[[\"year\",\"year\",null]]]},\"id\":\"5823\",\"type\":\"Range1d\"},{\"attributes\":{},\"id\":\"5955\",\"type\":\"LinearScale\"},{\"attributes\":{\"line_color\":\"#1f77b3\",\"line_width\":2,\"x\":{\"field\":\"year\"},\"y\":{\"field\":\"gross_rent\"}},\"id\":\"5920\",\"type\":\"Line\"},{\"attributes\":{\"line_alpha\":0.2,\"line_color\":\"#ff7e0e\",\"line_width\":2,\"x\":{\"field\":\"year\"},\"y\":{\"field\":\"value\"}},\"id\":\"6068\",\"type\":\"Line\"},{\"attributes\":{\"data\":{\"gross_rent\":[1239,1530,2324,2971,3528,3739,4390],\"year\":[2010,2011,2012,2013,2014,2015,2016]},\"selected\":{\"id\":\"5918\"},\"selection_policy\":{\"id\":\"5934\"}},\"id\":\"5917\",\"type\":\"ColumnDataSource\"},{\"attributes\":{},\"id\":\"5958\",\"type\":\"BasicTicker\"},{\"attributes\":{\"children\":[{\"id\":\"6248\"}],\"css_classes\":[\"panel-widget-box\"],\"margin\":[5,5,5,5],\"name\":\"WidgetBox12317\"},\"id\":\"6247\",\"type\":\"Column\"},{\"attributes\":{\"line_color\":\"#ff7e0e\",\"line_width\":2,\"x\":{\"field\":\"year\"},\"y\":{\"field\":\"value\"}},\"id\":\"6066\",\"type\":\"Line\"},{\"attributes\":{},\"id\":\"5892\",\"type\":\"LinearScale\"},{\"attributes\":{\"callback\":null,\"renderers\":[{\"id\":\"6051\"},{\"id\":\"6069\"}],\"tags\":[\"hv_created\"],\"tooltips\":[[\"Variable\",\"@{Variable}\"],[\"year\",\"@{year}\"],[\"value\",\"@{value}\"]]},\"id\":\"6009\",\"type\":\"HoverTool\"},{\"attributes\":{\"bottom_units\":\"screen\",\"fill_alpha\":0.5,\"fill_color\":\"lightgrey\",\"left_units\":\"screen\",\"level\":\"overlay\",\"line_alpha\":1.0,\"line_color\":\"black\",\"line_dash\":[4,4],\"line_width\":2,\"right_units\":\"screen\",\"top_units\":\"screen\"},\"id\":\"6033\",\"type\":\"BoxAnnotation\"},{\"attributes\":{\"axis\":{\"id\":\"5957\"},\"grid_line_color\":null,\"ticker\":null},\"id\":\"5960\",\"type\":\"Grid\"},{\"attributes\":{\"data\":{\"sale_price_sqr_foot\":{\"__ndarray__\":\"tQKjeIIVd0Do7CdydF51QGdijk899nhAaBKk2Jo5fkDGKCTbN2KBQPETFqRSxINAUB33UCbNhUA=\",\"dtype\":\"float64\",\"order\":\"little\",\"shape\":[7]},\"year\":[2010,2011,2012,2013,2014,2015,2016]},\"selected\":{\"id\":\"5979\"},\"selection_policy\":{\"id\":\"5995\"}},\"id\":\"5978\",\"type\":\"ColumnDataSource\"},{\"attributes\":{\"axis_label\":\"year\",\"bounds\":\"auto\",\"formatter\":{\"id\":\"5925\"},\"major_label_orientation\":\"horizontal\",\"ticker\":{\"id\":\"5897\"}},\"id\":\"5896\",\"type\":\"LinearAxis\"},{\"attributes\":{\"margin\":[20,20,20,20],\"min_width\":250,\"options\":[\"Union Square District\",\"Presidio Heights\",\"Merced Heights\",\"Miraloma Park\",\"Parnassus/Ashbury Heights\",\"Outer Richmond \",\"Marina\",\"South of Market\",\"Corona Heights\"],\"title\":\"neighborhood\",\"value\":\"Union Square District\",\"width\":250},\"id\":\"6248\",\"type\":\"Select\"},{\"attributes\":{},\"id\":\"6235\",\"type\":\"UnionRenderers\"},{\"attributes\":{},\"id\":\"5894\",\"type\":\"LinearScale\"},{\"attributes\":{},\"id\":\"5962\",\"type\":\"BasicTicker\"},{\"attributes\":{\"margin\":[5,5,5,5],\"name\":\"VSpacer12322\",\"sizing_mode\":\"stretch_height\"},\"id\":\"6249\",\"type\":\"Spacer\"},{\"attributes\":{\"axis\":{\"id\":\"5896\"},\"grid_line_color\":null,\"ticker\":null},\"id\":\"5899\",\"type\":\"Grid\"},{\"attributes\":{\"axis_label\":\"sale_price_sqr_foot\",\"bounds\":\"auto\",\"formatter\":{\"id\":\"5988\"},\"major_label_orientation\":\"horizontal\",\"ticker\":{\"id\":\"5962\"}},\"id\":\"5961\",\"type\":\"LinearAxis\"},{\"attributes\":{\"end\":4810.690068306854,\"reset_end\":4810.690068306854,\"reset_start\":-237.59075137539728,\"start\":-237.59075137539728,\"tags\":[[[\"value\",\"value\",null]]]},\"id\":\"6008\",\"type\":\"Range1d\"},{\"attributes\":{},\"id\":\"5897\",\"type\":\"BasicTicker\"}],\"root_ids\":[\"5818\",\"6377\"]},\"title\":\"Bokeh Application\",\"version\":\"2.2.3\"}};\n",
       "    var render_items = [{\"docid\":\"9d37faac-15ce-4321-948a-b9fa36bcc645\",\"root_ids\":[\"5818\"],\"roots\":{\"5818\":\"a3eea7f3-6069-40e2-9c41-c4ed1e53b006\"}}];\n",
       "    root.Bokeh.embed.embed_items_notebook(docs_json, render_items);\n",
       "  }\n",
       "  if (root.Bokeh !== undefined && root.Bokeh.Panel !== undefined && root['Plotly'] !== undefined ) {\n",
       "    embed_document(root);\n",
       "  } else {\n",
       "    var attempts = 0;\n",
       "    var timer = setInterval(function(root) {\n",
       "      if (root.Bokeh !== undefined && root.Bokeh.Panel !== undefined && root['Plotly'] !== undefined) {\n",
       "        clearInterval(timer);\n",
       "        embed_document(root);\n",
       "      } else if (document.readyState == \"complete\") {\n",
       "        attempts++;\n",
       "        if (attempts > 100) {\n",
       "          clearInterval(timer);\n",
       "          console.log(\"Bokeh: ERROR: Unable to run BokehJS code because BokehJS library is missing\");\n",
       "        }\n",
       "      }\n",
       "    }, 10, root)\n",
       "  }\n",
       "})(window);</script>"
      ],
      "text/plain": [
       "Tabs\n",
       "    [0] Markdown(str)\n",
       "    [1] Column\n",
       "        [0] Markdown(str)\n",
       "        [1] HoloViews(Curve)\n",
       "        [2] HoloViews(Curve)\n",
       "        [3] HoloViews(Curve)\n",
       "        [4] Row\n",
       "            [0] HoloViews(DynamicMap)\n",
       "            [1] Column\n",
       "                [0] WidgetBox\n",
       "                    [0] Select(margin=(20, 20, 20, 20), name='neighborhood', options=['Alamo Square', ...], value='Alamo Square', width=250)\n",
       "                [1] VSpacer()\n",
       "        [5] Row\n",
       "            [0] HoloViews(DynamicMap)\n",
       "            [1] Column\n",
       "                [0] WidgetBox\n",
       "                    [0] Select(margin=(20, 20, 20, 20), name='neighborhood', options=['Union Square District', ...], value='Union Square District', width=250)\n",
       "                [1] VSpacer()"
      ]
     },
     "execution_count": 124,
     "metadata": {
      "application/vnd.holoviews_exec.v0+json": {
       "id": "5818"
      }
     },
     "output_type": "execute_result"
    }
   ],
   "source": [
    "# Serve the# dashboard\n",
    "sf_dashboard.servable()"
   ]
  },
  {
   "cell_type": "markdown",
   "metadata": {},
   "source": [
    "# Debugging\n",
    "\n",
    "Note: Some of the Plotly express plots may not render in the notebook through the panel functions.\n",
    "\n",
    "However, you can test each plot by uncommenting the following code"
   ]
  },
  {
   "cell_type": "code",
   "execution_count": 111,
   "metadata": {},
   "outputs": [
    {
     "data": {
      "text/plain": [
       "<matplotlib.axes._subplots.AxesSubplot at 0x22132a7acc8>"
      ]
     },
     "execution_count": 111,
     "metadata": {},
     "output_type": "execute_result"
    },
    {
     "data": {
      "image/png": "[encoded data removed]",
      "text/plain": [
       "<Figure size 432x288 with 1 Axes>"
      ]
     },
     "metadata": {
      "needs_background": "light"
     },
     "output_type": "display_data"
    }
   ],
   "source": [
    "housing_units_per_year()"
   ]
  },
  {
   "cell_type": "code",
   "execution_count": 112,
   "metadata": {},
   "outputs": [
    {
     "data": {
      "text/plain": [
       "<matplotlib.axes._subplots.AxesSubplot at 0x22132aedd08>"
      ]
     },
     "execution_count": 112,
     "metadata": {},
     "output_type": "execute_result"
    },
    {
     "data": {
      "image/png": "[encoded data removed]",
      "text/plain": [
       "<Figure size 432x288 with 1 Axes>"
      ]
     },
     "metadata": {
      "needs_background": "light"
     },
     "output_type": "display_data"
    }
   ],
   "source": [
    "average_gross_rent()"
   ]
  },
  {
   "cell_type": "code",
   "execution_count": 113,
   "metadata": {},
   "outputs": [
    {
     "data": {},
     "metadata": {},
     "output_type": "display_data"
    },
    {
     "data": {
      "application/vnd.holoviews_exec.v0+json": "",
      "text/html": [
       "<div id='3713'>\n",
       "\n",
       "\n",
       "\n",
       "\n",
       "\n",
       "  <div class=\"bk-root\" id=\"5c3b7619-5f42-47c6-be0b-becbad48e420\" data-root-id=\"3713\"></div>\n",
       "</div>\n",
       "<script type=\"application/javascript\">(function(root) {\n",
       "  function embed_document(root) {\n",
       "    var docs_json = {\"d989c82a-f533-4a03-866b-c121e2b28976\":{\"roots\":{\"references\":[{\"attributes\":{\"source\":{\"id\":\"3753\"}},\"id\":\"3760\",\"type\":\"CDSView\"},{\"attributes\":{\"active_drag\":\"auto\",\"active_inspect\":\"auto\",\"active_multi\":null,\"active_scroll\":\"auto\",\"active_tap\":\"auto\",\"tools\":[{\"id\":\"3717\"},{\"id\":\"3736\"},{\"id\":\"3737\"},{\"id\":\"3738\"},{\"id\":\"3739\"},{\"id\":\"3740\"}]},\"id\":\"3742\",\"type\":\"Toolbar\"},{\"attributes\":{\"line_alpha\":0.1,\"line_color\":\"#1f77b3\",\"line_width\":2,\"x\":{\"field\":\"year\"},\"y\":{\"field\":\"value\"}},\"id\":\"3757\",\"type\":\"Line\"},{\"attributes\":{\"source\":{\"id\":\"3771\"}},\"id\":\"3778\",\"type\":\"CDSView\"},{\"attributes\":{\"bottom_units\":\"screen\",\"fill_alpha\":0.5,\"fill_color\":\"lightgrey\",\"left_units\":\"screen\",\"level\":\"overlay\",\"line_alpha\":1.0,\"line_color\":\"black\",\"line_dash\":[4,4],\"line_width\":2,\"right_units\":\"screen\",\"top_units\":\"screen\"},\"id\":\"3741\",\"type\":\"BoxAnnotation\"},{\"attributes\":{\"data_source\":{\"id\":\"3771\"},\"glyph\":{\"id\":\"3774\"},\"hover_glyph\":null,\"muted_glyph\":{\"id\":\"3776\"},\"nonselection_glyph\":{\"id\":\"3775\"},\"selection_glyph\":null,\"view\":{\"id\":\"3778\"}},\"id\":\"3777\",\"type\":\"GlyphRenderer\"},{\"attributes\":{\"data_source\":{\"id\":\"3753\"},\"glyph\":{\"id\":\"3756\"},\"hover_glyph\":null,\"muted_glyph\":{\"id\":\"3758\"},\"nonselection_glyph\":{\"id\":\"3757\"},\"selection_glyph\":null,\"view\":{\"id\":\"3760\"}},\"id\":\"3759\",\"type\":\"GlyphRenderer\"},{\"attributes\":{\"margin\":[5,5,5,5],\"name\":\"HSpacer08026\",\"sizing_mode\":\"stretch_width\"},\"id\":\"3714\",\"type\":\"Spacer\"},{\"attributes\":{\"children\":[{\"id\":\"3714\"},{\"id\":\"3719\"},{\"id\":\"3880\"}],\"margin\":[0,0,0,0],\"name\":\"Row08022\",\"tags\":[\"embedded\"]},\"id\":\"3713\",\"type\":\"Row\"},{\"attributes\":{\"data\":{\"Variable\":[\"gross_rent\",\"gross_rent\",\"gross_rent\",\"gross_rent\",\"gross_rent\",\"gross_rent\",\"gross_rent\"],\"value\":[1239,1530,2324,2971,3528,3739,4390],\"year\":[2010,2011,2012,2013,2014,2015,2016]},\"selected\":{\"id\":\"3772\"},\"selection_policy\":{\"id\":\"3786\"}},\"id\":\"3771\",\"type\":\"ColumnDataSource\"},{\"attributes\":{\"line_color\":\"#ff7e0e\",\"line_width\":2,\"x\":{\"field\":\"year\"},\"y\":{\"field\":\"value\"}},\"id\":\"3774\",\"type\":\"Line\"},{\"attributes\":{},\"id\":\"3786\",\"type\":\"UnionRenderers\"},{\"attributes\":{},\"id\":\"3766\",\"type\":\"UnionRenderers\"},{\"attributes\":{},\"id\":\"3736\",\"type\":\"SaveTool\"},{\"attributes\":{},\"id\":\"3737\",\"type\":\"PanTool\"},{\"attributes\":{\"label\":{\"value\":\"gross_rent\"},\"renderers\":[{\"id\":\"3777\"}]},\"id\":\"3789\",\"type\":\"LegendItem\"},{\"attributes\":{},\"id\":\"3740\",\"type\":\"ResetTool\"},{\"attributes\":{\"label\":{\"value\":\"sale_price_sqr_foot\"},\"renderers\":[{\"id\":\"3759\"}]},\"id\":\"3770\",\"type\":\"LegendItem\"},{\"attributes\":{\"click_policy\":\"mute\",\"items\":[{\"id\":\"3770\"},{\"id\":\"3789\"}],\"location\":[0,0],\"title\":\"Variable\"},\"id\":\"3769\",\"type\":\"Legend\"},{\"attributes\":{},\"id\":\"3738\",\"type\":\"WheelZoomTool\"},{\"attributes\":{},\"id\":\"3749\",\"type\":\"BasicTickFormatter\"},{\"attributes\":{\"axis_label\":\"year\",\"bounds\":\"auto\",\"formatter\":{\"id\":\"3749\"},\"major_label_orientation\":\"horizontal\",\"ticker\":{\"id\":\"3729\"}},\"id\":\"3728\",\"type\":\"LinearAxis\"},{\"attributes\":{\"overlay\":{\"id\":\"3741\"}},\"id\":\"3739\",\"type\":\"BoxZoomTool\"},{\"attributes\":{},\"id\":\"3751\",\"type\":\"BasicTickFormatter\"},{\"attributes\":{\"line_alpha\":0.2,\"line_color\":\"#1f77b3\",\"line_width\":2,\"x\":{\"field\":\"year\"},\"y\":{\"field\":\"value\"}},\"id\":\"3758\",\"type\":\"Line\"},{\"attributes\":{\"line_alpha\":0.2,\"line_color\":\"#ff7e0e\",\"line_width\":2,\"x\":{\"field\":\"year\"},\"y\":{\"field\":\"value\"}},\"id\":\"3776\",\"type\":\"Line\"},{\"attributes\":{\"below\":[{\"id\":\"3728\"}],\"center\":[{\"id\":\"3731\"},{\"id\":\"3735\"}],\"left\":[{\"id\":\"3732\"}],\"margin\":[5,5,5,5],\"min_border_bottom\":10,\"min_border_left\":10,\"min_border_right\":10,\"min_border_top\":10,\"plot_height\":300,\"plot_width\":700,\"renderers\":[{\"id\":\"3759\"},{\"id\":\"3777\"}],\"right\":[{\"id\":\"3769\"}],\"sizing_mode\":\"fixed\",\"title\":{\"id\":\"3720\"},\"toolbar\":{\"id\":\"3742\"},\"x_range\":{\"id\":\"3715\"},\"x_scale\":{\"id\":\"3724\"},\"y_range\":{\"id\":\"3716\"},\"y_scale\":{\"id\":\"3726\"}},\"id\":\"3719\",\"subtype\":\"Figure\",\"type\":\"Plot\"},{\"attributes\":{},\"id\":\"3772\",\"type\":\"Selection\"},{\"attributes\":{\"text\":\"\",\"text_color\":{\"value\":\"black\"},\"text_font_size\":{\"value\":\"12pt\"}},\"id\":\"3720\",\"type\":\"Title\"},{\"attributes\":{\"end\":2016.0,\"reset_end\":2016.0,\"reset_start\":2010.0,\"start\":2010.0,\"tags\":[[[\"year\",\"year\",null]]]},\"id\":\"3715\",\"type\":\"Range1d\"},{\"attributes\":{},\"id\":\"3724\",\"type\":\"LinearScale\"},{\"attributes\":{\"line_color\":\"#1f77b3\",\"line_width\":2,\"x\":{\"field\":\"year\"},\"y\":{\"field\":\"value\"}},\"id\":\"3756\",\"type\":\"Line\"},{\"attributes\":{\"callback\":null,\"renderers\":[{\"id\":\"3759\"},{\"id\":\"3777\"}],\"tags\":[\"hv_created\"],\"tooltips\":[[\"Variable\",\"@{Variable}\"],[\"year\",\"@{year}\"],[\"value\",\"@{value}\"]]},\"id\":\"3717\",\"type\":\"HoverTool\"},{\"attributes\":{},\"id\":\"3733\",\"type\":\"BasicTicker\"},{\"attributes\":{},\"id\":\"3726\",\"type\":\"LinearScale\"},{\"attributes\":{\"line_alpha\":0.1,\"line_color\":\"#ff7e0e\",\"line_width\":2,\"x\":{\"field\":\"year\"},\"y\":{\"field\":\"value\"}},\"id\":\"3775\",\"type\":\"Line\"},{\"attributes\":{},\"id\":\"3754\",\"type\":\"Selection\"},{\"attributes\":{\"data\":{\"Variable\":[\"sale_price_sqr_foot\",\"sale_price_sqr_foot\",\"sale_price_sqr_foot\",\"sale_price_sqr_foot\",\"sale_price_sqr_foot\",\"sale_price_sqr_foot\",\"sale_price_sqr_foot\"],\"value\":{\"__ndarray__\":\"tQKjeIIVd0Do7CdydF51QGdijk899nhAaBKk2Jo5fkDGKCTbN2KBQPETFqRSxINAUB33UCbNhUA=\",\"dtype\":\"float64\",\"order\":\"little\",\"shape\":[7]},\"year\":[2010,2011,2012,2013,2014,2015,2016]},\"selected\":{\"id\":\"3754\"},\"selection_policy\":{\"id\":\"3766\"}},\"id\":\"3753\",\"type\":\"ColumnDataSource\"},{\"attributes\":{},\"id\":\"3729\",\"type\":\"BasicTicker\"},{\"attributes\":{\"axis\":{\"id\":\"3732\"},\"dimension\":1,\"grid_line_color\":null,\"ticker\":null},\"id\":\"3735\",\"type\":\"Grid\"},{\"attributes\":{\"axis\":{\"id\":\"3728\"},\"grid_line_color\":null,\"ticker\":null},\"id\":\"3731\",\"type\":\"Grid\"},{\"attributes\":{\"margin\":[5,5,5,5],\"name\":\"HSpacer08027\",\"sizing_mode\":\"stretch_width\"},\"id\":\"3880\",\"type\":\"Spacer\"},{\"attributes\":{\"end\":4794.80965708199,\"reset_end\":4794.80965708199,\"reset_start\":-62.9062279018836,\"start\":-62.9062279018836,\"tags\":[[[\"value\",\"value\",null]]]},\"id\":\"3716\",\"type\":\"Range1d\"},{\"attributes\":{\"axis_label\":\"\",\"bounds\":\"auto\",\"formatter\":{\"id\":\"3751\"},\"major_label_orientation\":\"horizontal\",\"ticker\":{\"id\":\"3733\"}},\"id\":\"3732\",\"type\":\"LinearAxis\"}],\"root_ids\":[\"3713\"]},\"title\":\"Bokeh Application\",\"version\":\"2.2.3\"}};\n",
       "    var render_items = [{\"docid\":\"d989c82a-f533-4a03-866b-c121e2b28976\",\"root_ids\":[\"3713\"],\"roots\":{\"3713\":\"5c3b7619-5f42-47c6-be0b-becbad48e420\"}}];\n",
       "    root.Bokeh.embed.embed_items_notebook(docs_json, render_items);\n",
       "  }\n",
       "  if (root.Bokeh !== undefined && root.Bokeh.Panel !== undefined && root['Plotly'] !== undefined ) {\n",
       "    embed_document(root);\n",
       "  } else {\n",
       "    var attempts = 0;\n",
       "    var timer = setInterval(function(root) {\n",
       "      if (root.Bokeh !== undefined && root.Bokeh.Panel !== undefined && root['Plotly'] !== undefined) {\n",
       "        clearInterval(timer);\n",
       "        embed_document(root);\n",
       "      } else if (document.readyState == \"complete\") {\n",
       "        attempts++;\n",
       "        if (attempts > 100) {\n",
       "          clearInterval(timer);\n",
       "          console.log(\"Bokeh: ERROR: Unable to run BokehJS code because BokehJS library is missing\");\n",
       "        }\n",
       "      }\n",
       "    }, 10, root)\n",
       "  }\n",
       "})(window);</script>"
      ],
      "text/plain": [
       ":NdOverlay   [Variable]\n",
       "   :Curve   [year]   (value)"
      ]
     },
     "execution_count": 113,
     "metadata": {
      "application/vnd.holoviews_exec.v0+json": {
       "id": "3713"
      }
     },
     "output_type": "execute_result"
    }
   ],
   "source": [
    "average_sales_price()"
   ]
  },
  {
   "cell_type": "code",
   "execution_count": 114,
   "metadata": {},
   "outputs": [
    {
     "data": {},
     "metadata": {},
     "output_type": "display_data"
    },
    {
     "data": {
      "application/vnd.holoviews_exec.v0+json": "",
      "text/html": [
       "<div id='3932'>\n",
       "\n",
       "\n",
       "\n",
       "\n",
       "\n",
       "  <div class=\"bk-root\" id=\"3134ccfa-6f8c-47f2-9a53-3ae57f04332a\" data-root-id=\"3932\"></div>\n",
       "</div>\n",
       "<script type=\"application/javascript\">(function(root) {\n",
       "  function embed_document(root) {\n",
       "    var docs_json = {\"280c9bdc-5c96-4c16-9e2c-445552f65342\":{\"roots\":{\"references\":[{\"attributes\":{\"callback\":null,\"renderers\":[{\"id\":\"3978\"},{\"id\":\"3996\"}],\"tags\":[\"hv_created\"],\"tooltips\":[[\"Variable\",\"@{Variable}\"],[\"year\",\"@{year}\"],[\"value\",\"@{value}\"]]},\"id\":\"3936\",\"type\":\"HoverTool\"},{\"attributes\":{\"data_source\":{\"id\":\"3972\"},\"glyph\":{\"id\":\"3975\"},\"hover_glyph\":null,\"muted_glyph\":{\"id\":\"3977\"},\"nonselection_glyph\":{\"id\":\"3976\"},\"selection_glyph\":null,\"view\":{\"id\":\"3979\"}},\"id\":\"3978\",\"type\":\"GlyphRenderer\"},{\"attributes\":{\"line_color\":\"#1f77b3\",\"line_width\":2,\"x\":{\"field\":\"year\"},\"y\":{\"field\":\"value\"}},\"id\":\"3975\",\"type\":\"Line\"},{\"attributes\":{\"line_color\":\"#ff7e0e\",\"line_width\":2,\"x\":{\"field\":\"year\"},\"y\":{\"field\":\"value\"}},\"id\":\"3993\",\"type\":\"Line\"},{\"attributes\":{},\"id\":\"4005\",\"type\":\"UnionRenderers\"},{\"attributes\":{\"client_comm_id\":\"72ba12db8f7d4f0b9b660f92e5455ba3\",\"comm_id\":\"92b104a6452340668ede76835a702ec6\",\"plot_id\":\"3932\"},\"id\":\"4139\",\"type\":\"panel.models.comm_manager.CommManager\"},{\"attributes\":{},\"id\":\"3955\",\"type\":\"SaveTool\"},{\"attributes\":{},\"id\":\"3973\",\"type\":\"Selection\"},{\"attributes\":{},\"id\":\"3991\",\"type\":\"Selection\"},{\"attributes\":{\"data\":{\"Variable\":[\"gross_rent\",\"gross_rent\",\"gross_rent\",\"gross_rent\",\"gross_rent\",\"gross_rent\",\"gross_rent\"],\"value\":[1239,1530,2324,2971,3528,3739,4390],\"year\":[2010,2011,2012,2013,2014,2015,2016]},\"selected\":{\"id\":\"3991\"},\"selection_policy\":{\"id\":\"4005\"}},\"id\":\"3990\",\"type\":\"ColumnDataSource\"},{\"attributes\":{},\"id\":\"3956\",\"type\":\"PanTool\"},{\"attributes\":{\"margin\":[20,20,20,20],\"min_width\":250,\"options\":[\"Alamo Square\",\"Anza Vista\",\"Bayview\",\"Buena Vista Park\",\"Central Richmond\",\"Central Sunset\",\"Corona Heights\",\"Cow Hollow\",\"Croker Amazon\",\"Diamond Heights\",\"Downtown \",\"Eureka Valley/Dolores Heights\",\"Excelsior\",\"Financial District North\",\"Financial District South\",\"Forest Knolls\",\"Glen Park\",\"Golden Gate Heights\",\"Haight Ashbury\",\"Hayes Valley\",\"Hunters Point\",\"Ingleside \",\"Inner Mission\",\"Inner Parkside\",\"Inner Richmond\",\"Inner Sunset\",\"Jordan Park/Laurel Heights\",\"Lake --The Presidio\",\"Lone Mountain\",\"Lower Pacific Heights\",\"Marina\",\"Miraloma Park\",\"Mission Bay\",\"Mission Dolores\",\"Mission Terrace\",\"Nob Hill\",\"Noe Valley\",\"Oceanview\",\"Outer Parkside\",\"Outer Richmond \",\"Outer Sunset\",\"Pacific Heights\",\"Park North\",\"Parkside\",\"Parnassus/Ashbury Heights\",\"Portola\",\"Potrero Hill\",\"Presidio Heights\",\"Russian Hill\",\"South Beach\",\"South of Market\",\"Sunnyside\",\"Telegraph Hill\",\"Twin Peaks\",\"Union Square District\",\"Van Ness/ Civic Center\",\"West Portal\",\"Western Addition\",\"Yerba Buena\",\"Bernal Heights \",\"Clarendon Heights\",\"Duboce Triangle\",\"Ingleside Heights\",\"North Beach\",\"North Waterfront\",\"Outer Mission\",\"Westwood Highlands\",\"Merced Heights\",\"Midtown Terrace\",\"Visitacion Valley\",\"Silver Terrace\",\"Westwood Park\",\"Bayview Heights\"],\"title\":\"neighborhood\",\"value\":\"Alamo Square\",\"width\":250},\"id\":\"4107\",\"type\":\"Select\"},{\"attributes\":{},\"id\":\"3959\",\"type\":\"ResetTool\"},{\"attributes\":{\"label\":{\"value\":\"gross_rent\"},\"renderers\":[{\"id\":\"3996\"}]},\"id\":\"4008\",\"type\":\"LegendItem\"},{\"attributes\":{\"line_alpha\":0.2,\"line_color\":\"#1f77b3\",\"line_width\":2,\"x\":{\"field\":\"year\"},\"y\":{\"field\":\"value\"}},\"id\":\"3977\",\"type\":\"Line\"},{\"attributes\":{},\"id\":\"3957\",\"type\":\"WheelZoomTool\"},{\"attributes\":{\"overlay\":{\"id\":\"3960\"}},\"id\":\"3958\",\"type\":\"BoxZoomTool\"},{\"attributes\":{\"children\":[{\"id\":\"3933\"},{\"id\":\"3938\"},{\"id\":\"4103\"},{\"id\":\"4104\"}],\"margin\":[0,0,0,0],\"name\":\"Row08395\"},\"id\":\"3932\",\"type\":\"Row\"},{\"attributes\":{\"source\":{\"id\":\"3972\"}},\"id\":\"3979\",\"type\":\"CDSView\"},{\"attributes\":{\"margin\":[5,5,5,5],\"name\":\"HSpacer08404\",\"sizing_mode\":\"stretch_width\"},\"id\":\"3933\",\"type\":\"Spacer\"},{\"attributes\":{\"line_alpha\":0.1,\"line_color\":\"#1f77b3\",\"line_width\":2,\"x\":{\"field\":\"year\"},\"y\":{\"field\":\"value\"}},\"id\":\"3976\",\"type\":\"Line\"},{\"attributes\":{},\"id\":\"3970\",\"type\":\"BasicTickFormatter\"},{\"attributes\":{\"text\":\"neighborhood: Alamo Square\",\"text_color\":{\"value\":\"black\"},\"text_font_size\":{\"value\":\"12pt\"}},\"id\":\"3939\",\"type\":\"Title\"},{\"attributes\":{},\"id\":\"3943\",\"type\":\"LinearScale\"},{\"attributes\":{},\"id\":\"3985\",\"type\":\"UnionRenderers\"},{\"attributes\":{\"axis_label\":\"year\",\"bounds\":\"auto\",\"formatter\":{\"id\":\"3968\"},\"major_label_orientation\":\"horizontal\",\"ticker\":{\"id\":\"3948\"}},\"id\":\"3947\",\"type\":\"LinearAxis\"},{\"attributes\":{\"line_alpha\":0.2,\"line_color\":\"#ff7e0e\",\"line_width\":2,\"x\":{\"field\":\"year\"},\"y\":{\"field\":\"value\"}},\"id\":\"3995\",\"type\":\"Line\"},{\"attributes\":{},\"id\":\"3945\",\"type\":\"LinearScale\"},{\"attributes\":{\"label\":{\"value\":\"sale_price_sqr_foot\"},\"renderers\":[{\"id\":\"3978\"}]},\"id\":\"3989\",\"type\":\"LegendItem\"},{\"attributes\":{\"data_source\":{\"id\":\"3990\"},\"glyph\":{\"id\":\"3993\"},\"hover_glyph\":null,\"muted_glyph\":{\"id\":\"3995\"},\"nonselection_glyph\":{\"id\":\"3994\"},\"selection_glyph\":null,\"view\":{\"id\":\"3997\"}},\"id\":\"3996\",\"type\":\"GlyphRenderer\"},{\"attributes\":{\"click_policy\":\"mute\",\"items\":[{\"id\":\"3989\"},{\"id\":\"4008\"}],\"location\":[0,0],\"title\":\"Variable\"},\"id\":\"3988\",\"type\":\"Legend\"},{\"attributes\":{\"margin\":[5,5,5,5],\"name\":\"VSpacer08401\",\"sizing_mode\":\"stretch_height\"},\"id\":\"4105\",\"type\":\"Spacer\"},{\"attributes\":{},\"id\":\"3948\",\"type\":\"BasicTicker\"},{\"attributes\":{\"axis\":{\"id\":\"3951\"},\"dimension\":1,\"grid_line_color\":null,\"ticker\":null},\"id\":\"3954\",\"type\":\"Grid\"},{\"attributes\":{\"axis\":{\"id\":\"3947\"},\"grid_line_color\":null,\"ticker\":null},\"id\":\"3950\",\"type\":\"Grid\"},{\"attributes\":{\"children\":[{\"id\":\"4107\"}],\"css_classes\":[\"panel-widget-box\"],\"margin\":[5,5,5,5],\"name\":\"WidgetBox08396\"},\"id\":\"4106\",\"type\":\"Column\"},{\"attributes\":{},\"id\":\"3968\",\"type\":\"BasicTickFormatter\"},{\"attributes\":{\"active_drag\":\"auto\",\"active_inspect\":\"auto\",\"active_multi\":null,\"active_scroll\":\"auto\",\"active_tap\":\"auto\",\"tools\":[{\"id\":\"3936\"},{\"id\":\"3955\"},{\"id\":\"3956\"},{\"id\":\"3957\"},{\"id\":\"3958\"},{\"id\":\"3959\"}]},\"id\":\"3961\",\"type\":\"Toolbar\"},{\"attributes\":{},\"id\":\"3952\",\"type\":\"BasicTicker\"},{\"attributes\":{\"end\":2016.0,\"reset_end\":2016.0,\"reset_start\":2010.0,\"start\":2010.0,\"tags\":[[[\"year\",\"year\",null]]]},\"id\":\"3934\",\"type\":\"Range1d\"},{\"attributes\":{\"axis_label\":\"\",\"bounds\":\"auto\",\"formatter\":{\"id\":\"3970\"},\"major_label_orientation\":\"horizontal\",\"ticker\":{\"id\":\"3952\"}},\"id\":\"3951\",\"type\":\"LinearAxis\"},{\"attributes\":{\"margin\":[5,5,5,5],\"name\":\"VSpacer08402\",\"sizing_mode\":\"stretch_height\"},\"id\":\"4108\",\"type\":\"Spacer\"},{\"attributes\":{\"line_alpha\":0.1,\"line_color\":\"#ff7e0e\",\"line_width\":2,\"x\":{\"field\":\"year\"},\"y\":{\"field\":\"value\"}},\"id\":\"3994\",\"type\":\"Line\"},{\"attributes\":{\"below\":[{\"id\":\"3947\"}],\"center\":[{\"id\":\"3950\"},{\"id\":\"3954\"}],\"left\":[{\"id\":\"3951\"}],\"margin\":[5,5,5,5],\"min_border_bottom\":10,\"min_border_left\":10,\"min_border_right\":10,\"min_border_top\":10,\"plot_height\":300,\"plot_width\":700,\"renderers\":[{\"id\":\"3978\"},{\"id\":\"3996\"}],\"right\":[{\"id\":\"3988\"}],\"sizing_mode\":\"fixed\",\"title\":{\"id\":\"3939\"},\"toolbar\":{\"id\":\"3961\"},\"x_range\":{\"id\":\"3934\"},\"x_scale\":{\"id\":\"3943\"},\"y_range\":{\"id\":\"3935\"},\"y_scale\":{\"id\":\"3945\"}},\"id\":\"3938\",\"subtype\":\"Figure\",\"type\":\"Plot\"},{\"attributes\":{\"margin\":[5,5,5,5],\"name\":\"HSpacer08405\",\"sizing_mode\":\"stretch_width\"},\"id\":\"4103\",\"type\":\"Spacer\"},{\"attributes\":{\"end\":4810.690068306854,\"reset_end\":4810.690068306854,\"reset_start\":-237.59075137539728,\"start\":-237.59075137539728,\"tags\":[[[\"value\",\"value\",null]]]},\"id\":\"3935\",\"type\":\"Range1d\"},{\"attributes\":{\"bottom_units\":\"screen\",\"fill_alpha\":0.5,\"fill_color\":\"lightgrey\",\"left_units\":\"screen\",\"level\":\"overlay\",\"line_alpha\":1.0,\"line_color\":\"black\",\"line_dash\":[4,4],\"line_width\":2,\"right_units\":\"screen\",\"top_units\":\"screen\"},\"id\":\"3960\",\"type\":\"BoxAnnotation\"},{\"attributes\":{\"children\":[{\"id\":\"4105\"},{\"id\":\"4106\"},{\"id\":\"4108\"}],\"margin\":[0,0,0,0],\"name\":\"Column08403\"},\"id\":\"4104\",\"type\":\"Column\"},{\"attributes\":{\"source\":{\"id\":\"3990\"}},\"id\":\"3997\",\"type\":\"CDSView\"},{\"attributes\":{\"data\":{\"Variable\":[\"sale_price_sqr_foot\",\"sale_price_sqr_foot\",\"sale_price_sqr_foot\",\"sale_price_sqr_foot\",\"sale_price_sqr_foot\",\"sale_price_sqr_foot\",\"sale_price_sqr_foot\"],\"value\":{\"__ndarray__\":\"Dkc7WO0yckCafszcbwhxQIGRs5ot42ZAJzog0LQ8eEAWMinKGEd+QI0V5FDt0IJAVCHcmLVPdUA=\",\"dtype\":\"float64\",\"order\":\"little\",\"shape\":[7]},\"year\":[2010,2011,2012,2013,2014,2015,2016]},\"selected\":{\"id\":\"3973\"},\"selection_policy\":{\"id\":\"3985\"}},\"id\":\"3972\",\"type\":\"ColumnDataSource\"}],\"root_ids\":[\"3932\",\"4139\"]},\"title\":\"Bokeh Application\",\"version\":\"2.2.3\"}};\n",
       "    var render_items = [{\"docid\":\"280c9bdc-5c96-4c16-9e2c-445552f65342\",\"root_ids\":[\"3932\"],\"roots\":{\"3932\":\"3134ccfa-6f8c-47f2-9a53-3ae57f04332a\"}}];\n",
       "    root.Bokeh.embed.embed_items_notebook(docs_json, render_items);\n",
       "  }\n",
       "  if (root.Bokeh !== undefined && root.Bokeh.Panel !== undefined && root['Plotly'] !== undefined ) {\n",
       "    embed_document(root);\n",
       "  } else {\n",
       "    var attempts = 0;\n",
       "    var timer = setInterval(function(root) {\n",
       "      if (root.Bokeh !== undefined && root.Bokeh.Panel !== undefined && root['Plotly'] !== undefined) {\n",
       "        clearInterval(timer);\n",
       "        embed_document(root);\n",
       "      } else if (document.readyState == \"complete\") {\n",
       "        attempts++;\n",
       "        if (attempts > 100) {\n",
       "          clearInterval(timer);\n",
       "          console.log(\"Bokeh: ERROR: Unable to run BokehJS code because BokehJS library is missing\");\n",
       "        }\n",
       "      }\n",
       "    }, 10, root)\n",
       "  }\n",
       "})(window);</script>"
      ],
      "text/plain": [
       ":DynamicMap   [neighborhood]\n",
       "   :NdOverlay   [Variable]\n",
       "      :Curve   [year]   (value)"
      ]
     },
     "execution_count": 114,
     "metadata": {
      "application/vnd.holoviews_exec.v0+json": {
       "id": "3932"
      }
     },
     "output_type": "execute_result"
    }
   ],
   "source": [
    "average_price_by_neighborhood()"
   ]
  },
  {
   "cell_type": "code",
   "execution_count": 115,
   "metadata": {},
   "outputs": [
    {
     "data": {},
     "metadata": {},
     "output_type": "display_data"
    },
    {
     "data": {
      "application/vnd.holoviews_exec.v0+json": "",
      "text/html": [
       "<div id='4190'>\n",
       "\n",
       "\n",
       "\n",
       "\n",
       "\n",
       "  <div class=\"bk-root\" id=\"9b5325d5-adcc-4fa4-a362-12a43baf1637\" data-root-id=\"4190\"></div>\n",
       "</div>\n",
       "<script type=\"application/javascript\">(function(root) {\n",
       "  function embed_document(root) {\n",
       "    var docs_json = {\"2978fe8a-079b-4c26-b0f1-19cb69b02199\":{\"roots\":{\"references\":[{\"attributes\":{\"text\":\"neighborhood: Union Square District\",\"text_color\":{\"value\":\"black\"},\"text_font_size\":{\"value\":\"12pt\"}},\"id\":\"4196\",\"type\":\"Title\"},{\"attributes\":{},\"id\":\"4235\",\"type\":\"BasicTickFormatter\"},{\"attributes\":{\"margin\":[5,5,5,5],\"name\":\"VSpacer09040\",\"sizing_mode\":\"stretch_height\"},\"id\":\"4262\",\"type\":\"Spacer\"},{\"attributes\":{},\"id\":\"4212\",\"type\":\"SaveTool\"},{\"attributes\":{},\"id\":\"4213\",\"type\":\"PanTool\"},{\"attributes\":{\"margin\":[20,20,20,20],\"min_width\":250,\"options\":[\"Union Square District\",\"Presidio Heights\",\"Merced Heights\",\"Miraloma Park\",\"Parnassus/Ashbury Heights\",\"Outer Richmond \",\"Marina\",\"South of Market\",\"Corona Heights\"],\"title\":\"neighborhood\",\"value\":\"Union Square District\",\"width\":250},\"id\":\"4261\",\"type\":\"Select\"},{\"attributes\":{},\"id\":\"4216\",\"type\":\"ResetTool\"},{\"attributes\":{},\"id\":\"4214\",\"type\":\"WheelZoomTool\"},{\"attributes\":{\"children\":[{\"id\":\"4191\"},{\"id\":\"4195\"},{\"id\":\"4257\"},{\"id\":\"4258\"}],\"margin\":[0,0,0,0],\"name\":\"Row09033\"},\"id\":\"4190\",\"type\":\"Row\"},{\"attributes\":{},\"id\":\"4200\",\"type\":\"LinearScale\"},{\"attributes\":{\"overlay\":{\"id\":\"4217\"}},\"id\":\"4215\",\"type\":\"BoxZoomTool\"},{\"attributes\":{\"axis_label\":\"\",\"bounds\":\"auto\",\"formatter\":{\"id\":\"4233\"},\"major_label_orientation\":\"horizontal\",\"ticker\":{\"id\":\"4205\"}},\"id\":\"4204\",\"type\":\"LinearAxis\"},{\"attributes\":{\"margin\":[5,5,5,5],\"name\":\"VSpacer09039\",\"sizing_mode\":\"stretch_height\"},\"id\":\"4259\",\"type\":\"Spacer\"},{\"attributes\":{},\"id\":\"4202\",\"type\":\"LinearScale\"},{\"attributes\":{\"end\":346.0,\"reset_end\":346.0,\"reset_start\":226.0,\"start\":226.0,\"tags\":[[[\"index\",\"index\",null]]]},\"id\":\"4192\",\"type\":\"Range1d\"},{\"attributes\":{},\"id\":\"4205\",\"type\":\"BasicTicker\"},{\"attributes\":{\"client_comm_id\":\"bb2037ab57c0438b99599f77979e82c7\",\"comm_id\":\"5e326ce6407f4186aa411486aeb589dc\",\"plot_id\":\"4190\"},\"id\":\"4287\",\"type\":\"panel.models.comm_manager.CommManager\"},{\"attributes\":{\"children\":[{\"id\":\"4261\"}],\"css_classes\":[\"panel-widget-box\"],\"margin\":[5,5,5,5],\"name\":\"WidgetBox09034\"},\"id\":\"4260\",\"type\":\"Column\"},{\"attributes\":{\"axis_label\":\"sale_price_sqr_foot\",\"bounds\":\"auto\",\"formatter\":{\"id\":\"4235\"},\"major_label_orientation\":\"horizontal\",\"ticker\":{\"id\":\"4209\"}},\"id\":\"4208\",\"type\":\"LinearAxis\"},{\"attributes\":{\"data\":{\"index\":[346,226],\"sale_price_sqr_foot\":{\"__ndarray__\":\"CX+Y2WeloUAwvuxv4ymUQA==\",\"dtype\":\"float64\",\"order\":\"little\",\"shape\":[2]}},\"selected\":{\"id\":\"4226\"},\"selection_policy\":{\"id\":\"4246\"}},\"id\":\"4225\",\"type\":\"ColumnDataSource\"},{\"attributes\":{},\"id\":\"4226\",\"type\":\"Selection\"},{\"attributes\":{\"axis\":{\"id\":\"4204\"},\"grid_line_color\":null,\"ticker\":null},\"id\":\"4207\",\"type\":\"Grid\"},{\"attributes\":{},\"id\":\"4233\",\"type\":\"BasicTickFormatter\"},{\"attributes\":{\"children\":[{\"id\":\"4259\"},{\"id\":\"4260\"},{\"id\":\"4262\"}],\"margin\":[0,0,0,0],\"name\":\"Column09041\"},\"id\":\"4258\",\"type\":\"Column\"},{\"attributes\":{\"end\":2355.5259045335265,\"reset_end\":2355.5259045335265,\"reset_start\":1193.6490341114695,\"start\":1193.6490341114695,\"tags\":[[[\"sale_price_sqr_foot\",\"sale_price_sqr_foot\",null]]]},\"id\":\"4193\",\"type\":\"Range1d\"},{\"attributes\":{},\"id\":\"4209\",\"type\":\"BasicTicker\"},{\"attributes\":{\"axis\":{\"id\":\"4208\"},\"dimension\":1,\"grid_line_color\":null,\"ticker\":null},\"id\":\"4211\",\"type\":\"Grid\"},{\"attributes\":{\"line_color\":\"#1f77b3\",\"line_width\":2,\"x\":{\"field\":\"index\"},\"y\":{\"field\":\"sale_price_sqr_foot\"}},\"id\":\"4228\",\"type\":\"Line\"},{\"attributes\":{\"line_alpha\":0.1,\"line_color\":\"#1f77b3\",\"line_width\":2,\"x\":{\"field\":\"index\"},\"y\":{\"field\":\"sale_price_sqr_foot\"}},\"id\":\"4229\",\"type\":\"Line\"},{\"attributes\":{\"active_drag\":\"auto\",\"active_inspect\":\"auto\",\"active_multi\":null,\"active_scroll\":\"auto\",\"active_tap\":\"auto\",\"tools\":[{\"id\":\"4194\"},{\"id\":\"4212\"},{\"id\":\"4213\"},{\"id\":\"4214\"},{\"id\":\"4215\"},{\"id\":\"4216\"}]},\"id\":\"4218\",\"type\":\"Toolbar\"},{\"attributes\":{\"callback\":null,\"renderers\":[{\"id\":\"4231\"}],\"tags\":[\"hv_created\"],\"tooltips\":[[\"index\",\"@{index}\"],[\"sale_price_sqr_foot\",\"@{sale_price_sqr_foot}\"]]},\"id\":\"4194\",\"type\":\"HoverTool\"},{\"attributes\":{\"data_source\":{\"id\":\"4225\"},\"glyph\":{\"id\":\"4228\"},\"hover_glyph\":null,\"muted_glyph\":{\"id\":\"4230\"},\"nonselection_glyph\":{\"id\":\"4229\"},\"selection_glyph\":null,\"view\":{\"id\":\"4232\"}},\"id\":\"4231\",\"type\":\"GlyphRenderer\"},{\"attributes\":{\"line_alpha\":0.2,\"line_color\":\"#1f77b3\",\"line_width\":2,\"x\":{\"field\":\"index\"},\"y\":{\"field\":\"sale_price_sqr_foot\"}},\"id\":\"4230\",\"type\":\"Line\"},{\"attributes\":{\"margin\":[5,5,5,5],\"name\":\"HSpacer09043\",\"sizing_mode\":\"stretch_width\"},\"id\":\"4257\",\"type\":\"Spacer\"},{\"attributes\":{\"bottom_units\":\"screen\",\"fill_alpha\":0.5,\"fill_color\":\"lightgrey\",\"left_units\":\"screen\",\"level\":\"overlay\",\"line_alpha\":1.0,\"line_color\":\"black\",\"line_dash\":[4,4],\"line_width\":2,\"right_units\":\"screen\",\"top_units\":\"screen\"},\"id\":\"4217\",\"type\":\"BoxAnnotation\"},{\"attributes\":{\"margin\":[5,5,5,5],\"name\":\"HSpacer09042\",\"sizing_mode\":\"stretch_width\"},\"id\":\"4191\",\"type\":\"Spacer\"},{\"attributes\":{\"source\":{\"id\":\"4225\"}},\"id\":\"4232\",\"type\":\"CDSView\"},{\"attributes\":{},\"id\":\"4246\",\"type\":\"UnionRenderers\"},{\"attributes\":{\"below\":[{\"id\":\"4204\"}],\"center\":[{\"id\":\"4207\"},{\"id\":\"4211\"}],\"left\":[{\"id\":\"4208\"}],\"margin\":[5,5,5,5],\"min_border_bottom\":10,\"min_border_left\":10,\"min_border_right\":10,\"min_border_top\":10,\"plot_height\":300,\"plot_width\":700,\"renderers\":[{\"id\":\"4231\"}],\"sizing_mode\":\"fixed\",\"title\":{\"id\":\"4196\"},\"toolbar\":{\"id\":\"4218\"},\"x_range\":{\"id\":\"4192\"},\"x_scale\":{\"id\":\"4200\"},\"y_range\":{\"id\":\"4193\"},\"y_scale\":{\"id\":\"4202\"}},\"id\":\"4195\",\"subtype\":\"Figure\",\"type\":\"Plot\"}],\"root_ids\":[\"4190\",\"4287\"]},\"title\":\"Bokeh Application\",\"version\":\"2.2.3\"}};\n",
       "    var render_items = [{\"docid\":\"2978fe8a-079b-4c26-b0f1-19cb69b02199\",\"root_ids\":[\"4190\"],\"roots\":{\"4190\":\"9b5325d5-adcc-4fa4-a362-12a43baf1637\"}}];\n",
       "    root.Bokeh.embed.embed_items_notebook(docs_json, render_items);\n",
       "  }\n",
       "  if (root.Bokeh !== undefined && root.Bokeh.Panel !== undefined && root['Plotly'] !== undefined ) {\n",
       "    embed_document(root);\n",
       "  } else {\n",
       "    var attempts = 0;\n",
       "    var timer = setInterval(function(root) {\n",
       "      if (root.Bokeh !== undefined && root.Bokeh.Panel !== undefined && root['Plotly'] !== undefined) {\n",
       "        clearInterval(timer);\n",
       "        embed_document(root);\n",
       "      } else if (document.readyState == \"complete\") {\n",
       "        attempts++;\n",
       "        if (attempts > 100) {\n",
       "          clearInterval(timer);\n",
       "          console.log(\"Bokeh: ERROR: Unable to run BokehJS code because BokehJS library is missing\");\n",
       "        }\n",
       "      }\n",
       "    }, 10, root)\n",
       "  }\n",
       "})(window);</script>"
      ],
      "text/plain": [
       ":DynamicMap   [neighborhood]\n",
       "   :Curve   [index]   (sale_price_sqr_foot)"
      ]
     },
     "execution_count": 115,
     "metadata": {
      "application/vnd.holoviews_exec.v0+json": {
       "id": "4190"
      }
     },
     "output_type": "execute_result"
    }
   ],
   "source": [
    "top_most_expensive_neighborhoods()"
   ]
  },
  {
   "cell_type": "code",
   "execution_count": 116,
   "metadata": {},
   "outputs": [],
   "source": [
    "# most_expensive_neighborhoods_rent_sales()"
   ]
  },
  {
   "cell_type": "code",
   "execution_count": 85,
   "metadata": {},
   "outputs": [],
   "source": [
    "# neighborhood_map().show()"
   ]
  },
  {
   "cell_type": "code",
   "execution_count": null,
   "metadata": {},
   "outputs": [],
   "source": [
    "# parallel_categories()"
   ]
  },
  {
   "cell_type": "code",
   "execution_count": null,
   "metadata": {},
   "outputs": [],
   "source": [
    "# parallel_coordinates()"
   ]
  },
  {
   "cell_type": "code",
   "execution_count": null,
   "metadata": {},
   "outputs": [],
   "source": [
    "# sunburst()"
   ]
  },
  {
   "cell_type": "code",
   "execution_count": null,
   "metadata": {},
   "outputs": [],
   "source": []
  }
 ],
 "metadata": {
  "file_extension": ".py",
  "kernelspec": {
   "display_name": "Python 3",
   "language": "python",
   "name": "python3"
  },
  "language_info": {
   "codemirror_mode": {
    "name": "ipython",
    "version": 3
   },
   "file_extension": ".py",
   "mimetype": "text/x-python",
   "name": "python",
   "nbconvert_exporter": "python",
   "pygments_lexer": "ipython3",
   "version": "3.7.9"
  },
  "mimetype": "text/x-python",
  "name": "python",
  "npconvert_exporter": "python",
  "pygments_lexer": "ipython3",
  "version": 3
 },
 "nbformat": 4,
 "nbformat_minor": 4
}
