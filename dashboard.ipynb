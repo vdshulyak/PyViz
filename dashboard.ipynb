{
 "cells": [
  {
   "cell_type": "markdown",
   "metadata": {},
   "source": [
    "# San Francisco Rental Prices Dashboard\n",
    "\n",
    "In this notebook, you will compile the visualizations from the previous analysis into functions that can be used for a Panel dashboard."
   ]
  },
  {
   "cell_type": "code",
   "execution_count": 13,
   "metadata": {},
   "outputs": [],
   "source": [
    "# imports\n",
    "import panel as pn\n",
    "pn.extension('plotly')\n",
    "import plotly.express as px\n",
    "import pandas as pd\n",
    "import hvplot.pandas\n",
    "import matplotlib.pyplot as plt\n",
    "import os\n",
    "from pathlib import Path\n",
    "from dotenv import load_dotenv"
   ]
  },
  {
   "cell_type": "code",
   "execution_count": 14,
   "metadata": {},
   "outputs": [],
   "source": [
    "# Read the Mapbox API key\n",
    "load_dotenv()\n",
    "map_box_api = os.getenv(\"mapbox\")\n",
    "px.set_mapbox_access_token(map_box_api)"
   ]
  },
  {
   "cell_type": "markdown",
   "metadata": {},
   "source": [
    "# Import Data"
   ]
  },
  {
   "cell_type": "code",
   "execution_count": 15,
   "metadata": {},
   "outputs": [],
   "source": [
    "# Import the necessary CSVs to Pandas DataFrames\n",
    "file_path = Path(\"Data/sfo_neighborhoods_census_data.csv\")\n",
    "sfo_data = pd.read_csv(file_path, index_col=\"year\")\n",
    "n_path = Path(\"Data/neighborhoods_coordinates.csv\")\n",
    "neighb_df = pd.read_csv(n_path)\n",
    "neighb_df = neighb_df.rename(columns = {'Neighborhood':'neighborhood'})\n",
    "neighb_df = neighb_df.set_index('neighborhood')                 "
   ]
  },
  {
   "cell_type": "markdown",
   "metadata": {},
   "source": [
    "- - -"
   ]
  },
  {
   "cell_type": "markdown",
   "metadata": {},
   "source": [
    "## Panel Visualizations\n",
    "\n",
    "In this section, you will copy the code for each plot type from your analysis notebook and place it into separate functions that Panel can use to create panes for the dashboard. \n",
    "\n",
    "These functions will convert the plot object to a Panel pane.\n",
    "\n",
    "Be sure to include any DataFrame transformation/manipulation code required along with the plotting code.\n",
    "\n",
    "Return a Panel pane object from each function that can be used to build the dashboard.\n",
    "\n",
    "Note: Remove any `.show()` lines from the code. We want to return the plots instead of showing them. The Panel dashboard will then display the plots."
   ]
  },
  {
   "cell_type": "code",
   "execution_count": 16,
   "metadata": {},
   "outputs": [],
   "source": [
    "# Define Panel Visualization Functions\n",
    "def housing_units_per_year():\n",
    "    \"\"\"Housing Units Per Year.\"\"\"\n",
    "    # YOUR CODE HERE!\n",
    "    sum_housing_units = sfo_data[\"housing_units\"].groupby(by = \"year\").max()\n",
    "    x = sum_housing_units.hvplot.line()\n",
    "    return(x)\n",
    "\n",
    "def average_gross_rent():\n",
    "#     \"\"\"Average Gross Rent in San Francisco Per Year.\"\"\"   \n",
    "    avg_list = [\"sale_price_sqr_foot\", \"gross_rent\"]\n",
    "    avg_df = sfo_data[avg_list].groupby(by = \"year\").mean()\n",
    "    avg_df = avg_df.hvplot.line(y=\"gross_rent\")\n",
    "    return (avg_df)\n",
    "\n",
    "def average_sales_price():\n",
    "#     \"\"\"Average Sales Price Per Year.\"\"\"\n",
    "  \n",
    "    avg_list = [\"sale_price_sqr_foot\", \"gross_rent\"]\n",
    "    avg_df = sfo_data[avg_list].groupby(by = \"year\").mean()\n",
    "    avg_df = avg_df.hvplot.line(y=\"sale_price_sqr_foot\")\n",
    "    return (avg_df)\n",
    "\n",
    "def average_price_by_neighborhood():\n",
    "    #     \"\"\"Average Prices by Neighborhood.\"\"\"\n",
    "    \n",
    "    gr_list = ['year','neighborhood']\n",
    "    avg_list = [\"sale_price_sqr_foot\",\"gross_rent\"]\n",
    "    List_of_n=sfo_data[\"neighborhood\"].tolist()\n",
    "    mean_values = sfo_data.reset_index()\n",
    "\n",
    "    x=mean_values.set_index(keys = gr_list)\n",
    "\n",
    "    avg_prices = x[avg_list].groupby(by=gr_list).mean()\n",
    "    # avg_prices=avg_prices.reset_index\n",
    "    avg_prices.head()\n",
    "\n",
    "    return (avg_prices.hvplot.line(groupby='neighborhood'))\n",
    " \n",
    "    \n",
    "    \n",
    "    \n",
    "\n",
    "def top_most_expensive_neighborhoods():\n",
    "#     \"\"\"Top 10 Most Expensive Neighborhoods.\"\"\"\n",
    "    gr_list = ['year','neighborhood']\n",
    "    avg_list = [\"sale_price_sqr_foot\",\"gross_rent\"]\n",
    "    List_of_n=sfo_data[\"neighborhood\"].tolist()\n",
    "    mean_values = sfo_data.reset_index()\n",
    "\n",
    "    x=mean_values.set_index(keys = gr_list)\n",
    "\n",
    "    avg_prices = x[avg_list].groupby(by=gr_list).mean()\n",
    "    avg_prices_exp = avg_prices.reset_index()\n",
    "    avg_prices_exp = avg_prices_exp[[\"neighborhood\",\"sale_price_sqr_foot\"]]\n",
    "    avg_prices_exp = avg_prices_exp.sort_values(by = \"sale_price_sqr_foot\" ,ascending=False)\n",
    "    most_exp_10 = avg_prices_exp[:10]\n",
    "    return(most_exp_10.hvplot.line(groupby='neighborhood'))\n",
    "\n",
    "# def most_expensive_neighborhoods_rent_sales():\n",
    "#     \"\"\"Comparison of Rent and Sales Prices of Most Expensive Neighborhoods.\"\"\"   \n",
    "    \n",
    "#     # YOUR CODE HERE!\n",
    "\n",
    "    \n",
    "    \n",
    "# def parallel_coordinates():\n",
    "#     \"\"\"Parallel Coordinates Plot.\"\"\"\n",
    "\n",
    "#     # YOUR CODE HERE!\n",
    "\n",
    "\n",
    "\n",
    "# def parallel_categories():\n",
    "#     \"\"\"Parallel Categories Plot.\"\"\"\n",
    "    \n",
    "#     # YOUR CODE HERE!\n",
    "\n",
    "\n",
    "\n",
    "# def neighborhood_map():\n",
    "#     \"\"\"Neighborhood Map.\"\"\"\n",
    "\n",
    "#     # YOUR CODE HERE!\n",
    "\n",
    "\n",
    "# def sunburst():\n",
    "#     \"\"\"Sunburst Plot.\"\"\"\n",
    "    \n",
    "    # YOUR CODE HERE!"
   ]
  },
  {
   "cell_type": "markdown",
   "metadata": {},
   "source": [
    "## Panel Dashboard\n",
    "\n",
    "In this section, you will combine all of the plots into a single dashboard view using Panel. Be creative with your dashboard design!"
   ]
  },
  {
   "cell_type": "code",
   "execution_count": 17,
   "metadata": {},
   "outputs": [],
   "source": [
    "# Create a Title for the Dashboard\n",
    "# YOUR CODE HERE!\n",
    "\n",
    "\n",
    "# Create a tab layout for the dashboard\n",
    "tab = pn.Column(\"## PLOTS\", housing_units_per_year() ,average_gross_rent(),average_sales_price(),average_price_by_neighborhood(),top_most_expensive_neighborhoods())\n",
    "  \n",
    "# Create the dashboard\n",
    "sf_dashboard = pn.Tabs(\"SF Data\", tab)\n"
   ]
  },
  {
   "cell_type": "markdown",
   "metadata": {},
   "source": [
    "## Serve the Panel Dashboard"
   ]
  },
  {
   "cell_type": "code",
   "execution_count": 18,
   "metadata": {
    "scrolled": true
   },
   "outputs": [
    {
     "data": {},
     "metadata": {},
     "output_type": "display_data"
    },
    {
     "data": {},
     "metadata": {},
     "output_type": "display_data"
    },
    {
     "data": {
      "application/vnd.holoviews_exec.v0+json": "",
      "text/html": [
       "<div id='2567'>\n",
       "\n",
       "\n",
       "\n",
       "\n",
       "\n",
       "  <div class=\"bk-root\" id=\"0930431b-0061-42d0-ac26-739d0b7158f5\" data-root-id=\"2567\"></div>\n",
       "</div>\n",
       "<script type=\"application/javascript\">(function(root) {\n",
       "  function embed_document(root) {\n",
       "    var docs_json = {\"d2ed024c-23c3-4f93-8218-0b789cc020c0\":{\"roots\":{\"references\":[{\"attributes\":{},\"id\":\"2646\",\"type\":\"BasicTicker\"},{\"attributes\":{\"label\":{\"value\":\"sale_price_sqr_foot\"},\"renderers\":[{\"id\":\"2800\"}]},\"id\":\"2811\",\"type\":\"LegendItem\"},{\"attributes\":{\"axis\":{\"id\":\"2649\"},\"dimension\":1,\"grid_line_color\":null,\"ticker\":null},\"id\":\"2652\",\"type\":\"Grid\"},{\"attributes\":{\"axis\":{\"id\":\"2645\"},\"grid_line_color\":null,\"ticker\":null},\"id\":\"2648\",\"type\":\"Grid\"},{\"attributes\":{\"click_policy\":\"mute\",\"items\":[{\"id\":\"2811\"},{\"id\":\"2830\"}],\"location\":[0,0],\"title\":\"Variable\"},\"id\":\"2810\",\"type\":\"Legend\"},{\"attributes\":{\"line_color\":\"#1f77b3\",\"line_width\":2,\"x\":{\"field\":\"year\"},\"y\":{\"field\":\"value\"}},\"id\":\"2797\",\"type\":\"Line\"},{\"attributes\":{\"source\":{\"id\":\"2794\"}},\"id\":\"2801\",\"type\":\"CDSView\"},{\"attributes\":{\"bottom_units\":\"screen\",\"fill_alpha\":0.5,\"fill_color\":\"lightgrey\",\"left_units\":\"screen\",\"level\":\"overlay\",\"line_alpha\":1.0,\"line_color\":\"black\",\"line_dash\":[4,4],\"line_width\":2,\"right_units\":\"screen\",\"top_units\":\"screen\"},\"id\":\"2782\",\"type\":\"BoxAnnotation\"},{\"attributes\":{},\"id\":\"2650\",\"type\":\"BasicTicker\"},{\"attributes\":{\"axis_label\":\"gross_rent\",\"bounds\":\"auto\",\"formatter\":{\"id\":\"2676\"},\"major_label_orientation\":\"horizontal\",\"ticker\":{\"id\":\"2650\"}},\"id\":\"2649\",\"type\":\"LinearAxis\"},{\"attributes\":{\"source\":{\"id\":\"2666\"}},\"id\":\"2673\",\"type\":\"CDSView\"},{\"attributes\":{\"end\":2016.0,\"reset_end\":2016.0,\"reset_start\":2010.0,\"start\":2010.0,\"tags\":[[[\"year\",\"year\",null]]]},\"id\":\"2572\",\"type\":\"Range1d\"},{\"attributes\":{\"data_source\":{\"id\":\"2666\"},\"glyph\":{\"id\":\"2669\"},\"hover_glyph\":null,\"muted_glyph\":{\"id\":\"2671\"},\"nonselection_glyph\":{\"id\":\"2670\"},\"selection_glyph\":null,\"view\":{\"id\":\"2673\"}},\"id\":\"2672\",\"type\":\"GlyphRenderer\"},{\"attributes\":{\"data\":{\"gross_rent\":[1239,1530,2324,2971,3528,3739,4390],\"year\":[2010,2011,2012,2013,2014,2015,2016]},\"selected\":{\"id\":\"2667\"},\"selection_policy\":{\"id\":\"2683\"}},\"id\":\"2666\",\"type\":\"ColumnDataSource\"},{\"attributes\":{\"line_color\":\"#ff7e0e\",\"line_width\":2,\"x\":{\"field\":\"year\"},\"y\":{\"field\":\"value\"}},\"id\":\"2815\",\"type\":\"Line\"},{\"attributes\":{\"source\":{\"id\":\"2605\"}},\"id\":\"2612\",\"type\":\"CDSView\"},{\"attributes\":{\"line_color\":\"#1f77b3\",\"line_width\":2,\"x\":{\"field\":\"year\"},\"y\":{\"field\":\"housing_units\"}},\"id\":\"2608\",\"type\":\"Line\"},{\"attributes\":{\"line_alpha\":0.1,\"line_color\":\"#1f77b3\",\"line_width\":2,\"x\":{\"field\":\"year\"},\"y\":{\"field\":\"housing_units\"}},\"id\":\"2609\",\"type\":\"Line\"},{\"attributes\":{\"line_alpha\":0.1,\"line_color\":\"#1f77b3\",\"line_width\":2,\"x\":{\"field\":\"year\"},\"y\":{\"field\":\"value\"}},\"id\":\"2798\",\"type\":\"Line\"},{\"attributes\":{\"client_comm_id\":\"6e38f1afef0b47b3bef8eda5a648001c\",\"comm_id\":\"d72800d105b14bd6ad27ea23b2752c86\",\"plot_id\":\"2567\"},\"id\":\"3126\",\"type\":\"panel.models.comm_manager.CommManager\"},{\"attributes\":{\"end\":385410.2,\"reset_end\":385410.2,\"reset_start\":371391.8,\"start\":371391.8,\"tags\":[[[\"housing_units\",\"housing_units\",null]]]},\"id\":\"2573\",\"type\":\"Range1d\"},{\"attributes\":{\"data_source\":{\"id\":\"2794\"},\"glyph\":{\"id\":\"2797\"},\"hover_glyph\":null,\"muted_glyph\":{\"id\":\"2799\"},\"nonselection_glyph\":{\"id\":\"2798\"},\"selection_glyph\":null,\"view\":{\"id\":\"2801\"}},\"id\":\"2800\",\"type\":\"GlyphRenderer\"},{\"attributes\":{},\"id\":\"2653\",\"type\":\"SaveTool\"},{\"attributes\":{\"below\":[{\"id\":\"2584\"}],\"center\":[{\"id\":\"2587\"},{\"id\":\"2591\"}],\"left\":[{\"id\":\"2588\"}],\"margin\":[5,5,5,5],\"min_border_bottom\":10,\"min_border_left\":10,\"min_border_right\":10,\"min_border_top\":10,\"plot_height\":300,\"plot_width\":700,\"renderers\":[{\"id\":\"2611\"}],\"sizing_mode\":\"fixed\",\"title\":{\"id\":\"2576\"},\"toolbar\":{\"id\":\"2598\"},\"x_range\":{\"id\":\"2572\"},\"x_scale\":{\"id\":\"2580\"},\"y_range\":{\"id\":\"2573\"},\"y_scale\":{\"id\":\"2582\"}},\"id\":\"2575\",\"subtype\":\"Figure\",\"type\":\"Plot\"},{\"attributes\":{},\"id\":\"2654\",\"type\":\"PanTool\"},{\"attributes\":{},\"id\":\"2657\",\"type\":\"ResetTool\"},{\"attributes\":{},\"id\":\"2655\",\"type\":\"WheelZoomTool\"},{\"attributes\":{},\"id\":\"2613\",\"type\":\"BasicTickFormatter\"},{\"attributes\":{\"overlay\":{\"id\":\"2658\"}},\"id\":\"2656\",\"type\":\"BoxZoomTool\"},{\"attributes\":{\"overlay\":{\"id\":\"2597\"}},\"id\":\"2595\",\"type\":\"BoxZoomTool\"},{\"attributes\":{},\"id\":\"2676\",\"type\":\"BasicTickFormatter\"},{\"attributes\":{},\"id\":\"2580\",\"type\":\"LinearScale\"},{\"attributes\":{},\"id\":\"2594\",\"type\":\"WheelZoomTool\"},{\"attributes\":{\"children\":[{\"id\":\"2760\"},{\"id\":\"2925\"}],\"margin\":[0,0,0,0],\"name\":\"Row04629\"},\"id\":\"2755\",\"type\":\"Row\"},{\"attributes\":{},\"id\":\"2596\",\"type\":\"ResetTool\"},{\"attributes\":{\"children\":[{\"id\":\"2571\"},{\"id\":\"2575\"},{\"id\":\"2636\"},{\"id\":\"2697\"},{\"id\":\"2755\"},{\"id\":\"2929\"}],\"margin\":[0,0,0,0],\"name\":\"Column04646\"},\"id\":\"2570\",\"type\":\"Column\"},{\"attributes\":{},\"id\":\"2593\",\"type\":\"PanTool\"},{\"attributes\":{},\"id\":\"2592\",\"type\":\"SaveTool\"},{\"attributes\":{\"line_alpha\":0.2,\"line_color\":\"#1f77b3\",\"line_width\":2,\"x\":{\"field\":\"year\"},\"y\":{\"field\":\"housing_units\"}},\"id\":\"2610\",\"type\":\"Line\"},{\"attributes\":{\"end\":4810.690068306854,\"reset_end\":4810.690068306854,\"reset_start\":-237.59075137539728,\"start\":-237.59075137539728,\"tags\":[[[\"value\",\"value\",null]]]},\"id\":\"2757\",\"type\":\"Range1d\"},{\"attributes\":{},\"id\":\"2622\",\"type\":\"UnionRenderers\"},{\"attributes\":{},\"id\":\"2728\",\"type\":\"Selection\"},{\"attributes\":{\"active_drag\":\"auto\",\"active_inspect\":\"auto\",\"active_multi\":null,\"active_scroll\":\"auto\",\"active_tap\":\"auto\",\"tools\":[{\"id\":\"2635\"},{\"id\":\"2653\"},{\"id\":\"2654\"},{\"id\":\"2655\"},{\"id\":\"2656\"},{\"id\":\"2657\"}]},\"id\":\"2659\",\"type\":\"Toolbar\"},{\"attributes\":{\"child\":{\"id\":\"2570\"},\"name\":\"Column04646\",\"title\":\"Column04646\"},\"id\":\"2999\",\"type\":\"Panel\"},{\"attributes\":{\"axis_label\":\"\",\"bounds\":\"auto\",\"formatter\":{\"id\":\"2615\"},\"major_label_orientation\":\"horizontal\",\"ticker\":{\"id\":\"2589\"}},\"id\":\"2588\",\"type\":\"LinearAxis\"},{\"attributes\":{\"bottom_units\":\"screen\",\"fill_alpha\":0.5,\"fill_color\":\"lightgrey\",\"left_units\":\"screen\",\"level\":\"overlay\",\"line_alpha\":1.0,\"line_color\":\"black\",\"line_dash\":[4,4],\"line_width\":2,\"right_units\":\"screen\",\"top_units\":\"screen\"},\"id\":\"2658\",\"type\":\"BoxAnnotation\"},{\"attributes\":{\"axis\":{\"id\":\"2584\"},\"grid_line_color\":null,\"ticker\":null},\"id\":\"2587\",\"type\":\"Grid\"},{\"attributes\":{\"data_source\":{\"id\":\"2605\"},\"glyph\":{\"id\":\"2608\"},\"hover_glyph\":null,\"muted_glyph\":{\"id\":\"2610\"},\"nonselection_glyph\":{\"id\":\"2609\"},\"selection_glyph\":null,\"view\":{\"id\":\"2612\"}},\"id\":\"2611\",\"type\":\"GlyphRenderer\"},{\"attributes\":{},\"id\":\"2795\",\"type\":\"Selection\"},{\"attributes\":{\"line_alpha\":0.2,\"line_color\":\"#1f77b3\",\"line_width\":2,\"x\":{\"field\":\"year\"},\"y\":{\"field\":\"value\"}},\"id\":\"2799\",\"type\":\"Line\"},{\"attributes\":{\"children\":[{\"id\":\"2996\"},{\"id\":\"2998\"}],\"margin\":[0,0,0,0],\"name\":\"Column04645\"},\"id\":\"2995\",\"type\":\"Column\"},{\"attributes\":{\"margin\":[5,5,5,5],\"name\":\"VSpacer04635\",\"sizing_mode\":\"stretch_height\"},\"id\":\"2928\",\"type\":\"Spacer\"},{\"attributes\":{\"text\":\"housing_units\",\"text_color\":{\"value\":\"black\"},\"text_font_size\":{\"value\":\"12pt\"}},\"id\":\"2576\",\"type\":\"Title\"},{\"attributes\":{\"active_drag\":\"auto\",\"active_inspect\":\"auto\",\"active_multi\":null,\"active_scroll\":\"auto\",\"active_tap\":\"auto\",\"tools\":[{\"id\":\"2574\"},{\"id\":\"2592\"},{\"id\":\"2593\"},{\"id\":\"2594\"},{\"id\":\"2595\"},{\"id\":\"2596\"}]},\"id\":\"2598\",\"type\":\"Toolbar\"},{\"attributes\":{},\"id\":\"2589\",\"type\":\"BasicTicker\"},{\"attributes\":{\"axis\":{\"id\":\"2588\"},\"dimension\":1,\"grid_line_color\":null,\"ticker\":null},\"id\":\"2591\",\"type\":\"Grid\"},{\"attributes\":{\"source\":{\"id\":\"2963\"}},\"id\":\"2970\",\"type\":\"CDSView\"},{\"attributes\":{},\"id\":\"2807\",\"type\":\"UnionRenderers\"},{\"attributes\":{},\"id\":\"2585\",\"type\":\"BasicTicker\"},{\"attributes\":{\"line_alpha\":0.1,\"line_color\":\"#ff7e0e\",\"line_width\":2,\"x\":{\"field\":\"year\"},\"y\":{\"field\":\"value\"}},\"id\":\"2816\",\"type\":\"Line\"},{\"attributes\":{\"axis_label\":\"year\",\"bounds\":\"auto\",\"formatter\":{\"id\":\"2613\"},\"major_label_orientation\":\"horizontal\",\"ticker\":{\"id\":\"2585\"}},\"id\":\"2584\",\"type\":\"LinearAxis\"},{\"attributes\":{},\"id\":\"2582\",\"type\":\"LinearScale\"},{\"attributes\":{\"css_classes\":[\"markdown\"],\"margin\":[5,5,5,5],\"name\":\"Markdown04647\",\"text\":\"&lt;p&gt;SF Data&lt;/p&gt;\"},\"id\":\"2568\",\"type\":\"panel.models.markup.HTML\"},{\"attributes\":{},\"id\":\"2943\",\"type\":\"BasicTicker\"},{\"attributes\":{\"data_source\":{\"id\":\"2727\"},\"glyph\":{\"id\":\"2730\"},\"hover_glyph\":null,\"muted_glyph\":{\"id\":\"2732\"},\"nonselection_glyph\":{\"id\":\"2731\"},\"selection_glyph\":null,\"view\":{\"id\":\"2734\"}},\"id\":\"2733\",\"type\":\"GlyphRenderer\"},{\"attributes\":{\"axis\":{\"id\":\"2710\"},\"dimension\":1,\"grid_line_color\":null,\"ticker\":null},\"id\":\"2713\",\"type\":\"Grid\"},{\"attributes\":{\"axis_label\":\"sale_price_sqr_foot\",\"bounds\":\"auto\",\"formatter\":{\"id\":\"2973\"},\"major_label_orientation\":\"horizontal\",\"ticker\":{\"id\":\"2947\"}},\"id\":\"2946\",\"type\":\"LinearAxis\"},{\"attributes\":{\"axis\":{\"id\":\"2942\"},\"grid_line_color\":null,\"ticker\":null},\"id\":\"2945\",\"type\":\"Grid\"},{\"attributes\":{\"source\":{\"id\":\"2812\"}},\"id\":\"2819\",\"type\":\"CDSView\"},{\"attributes\":{\"active_drag\":\"auto\",\"active_inspect\":\"auto\",\"active_multi\":null,\"active_scroll\":\"auto\",\"active_tap\":\"auto\",\"tools\":[{\"id\":\"2932\"},{\"id\":\"2950\"},{\"id\":\"2951\"},{\"id\":\"2952\"},{\"id\":\"2953\"},{\"id\":\"2954\"}]},\"id\":\"2956\",\"type\":\"Toolbar\"},{\"attributes\":{\"source\":{\"id\":\"2727\"}},\"id\":\"2734\",\"type\":\"CDSView\"},{\"attributes\":{},\"id\":\"2947\",\"type\":\"BasicTicker\"},{\"attributes\":{\"axis\":{\"id\":\"2946\"},\"dimension\":1,\"grid_line_color\":null,\"ticker\":null},\"id\":\"2949\",\"type\":\"Grid\"},{\"attributes\":{},\"id\":\"2714\",\"type\":\"SaveTool\"},{\"attributes\":{},\"id\":\"2715\",\"type\":\"PanTool\"},{\"attributes\":{},\"id\":\"2718\",\"type\":\"ResetTool\"},{\"attributes\":{},\"id\":\"2716\",\"type\":\"WheelZoomTool\"},{\"attributes\":{\"overlay\":{\"id\":\"2719\"}},\"id\":\"2717\",\"type\":\"BoxZoomTool\"},{\"attributes\":{\"data\":{\"Variable\":[\"sale_price_sqr_foot\",\"sale_price_sqr_foot\",\"sale_price_sqr_foot\",\"sale_price_sqr_foot\",\"sale_price_sqr_foot\",\"sale_price_sqr_foot\",\"sale_price_sqr_foot\"],\"value\":{\"__ndarray__\":\"Dkc7WO0yckCafszcbwhxQIGRs5ot42ZAJzog0LQ8eEAWMinKGEd+QI0V5FDt0IJAVCHcmLVPdUA=\",\"dtype\":\"float64\",\"order\":\"little\",\"shape\":[7]},\"year\":[2010,2011,2012,2013,2014,2015,2016]},\"selected\":{\"id\":\"2795\"},\"selection_policy\":{\"id\":\"2807\"}},\"id\":\"2794\",\"type\":\"ColumnDataSource\"},{\"attributes\":{\"data_source\":{\"id\":\"2812\"},\"glyph\":{\"id\":\"2815\"},\"hover_glyph\":null,\"muted_glyph\":{\"id\":\"2817\"},\"nonselection_glyph\":{\"id\":\"2816\"},\"selection_glyph\":null,\"view\":{\"id\":\"2819\"}},\"id\":\"2818\",\"type\":\"GlyphRenderer\"},{\"attributes\":{\"data\":{\"Variable\":[\"gross_rent\",\"gross_rent\",\"gross_rent\",\"gross_rent\",\"gross_rent\",\"gross_rent\",\"gross_rent\"],\"value\":[1239,1530,2324,2971,3528,3739,4390],\"year\":[2010,2011,2012,2013,2014,2015,2016]},\"selected\":{\"id\":\"2813\"},\"selection_policy\":{\"id\":\"2827\"}},\"id\":\"2812\",\"type\":\"ColumnDataSource\"},{\"attributes\":{\"margin\":[0,0,0,0],\"tabs\":[{\"id\":\"2569\"},{\"id\":\"2999\"}]},\"id\":\"2567\",\"type\":\"Tabs\"},{\"attributes\":{\"line_color\":\"#1f77b3\",\"line_width\":2,\"x\":{\"field\":\"index\"},\"y\":{\"field\":\"sale_price_sqr_foot\"}},\"id\":\"2966\",\"type\":\"Line\"},{\"attributes\":{},\"id\":\"2950\",\"type\":\"SaveTool\"},{\"attributes\":{},\"id\":\"2951\",\"type\":\"PanTool\"},{\"attributes\":{},\"id\":\"2674\",\"type\":\"BasicTickFormatter\"},{\"attributes\":{\"text\":\"neighborhood: Alamo Square\",\"text_color\":{\"value\":\"black\"},\"text_font_size\":{\"value\":\"12pt\"}},\"id\":\"2761\",\"type\":\"Title\"},{\"attributes\":{},\"id\":\"2954\",\"type\":\"ResetTool\"},{\"attributes\":{\"child\":{\"id\":\"2568\"},\"name\":\"Markdown04647\",\"title\":\"Markdown\"},\"id\":\"2569\",\"type\":\"Panel\"},{\"attributes\":{},\"id\":\"2952\",\"type\":\"WheelZoomTool\"},{\"attributes\":{\"margin\":[20,20,20,20],\"min_width\":250,\"options\":[\"Union Square District\",\"Presidio Heights\",\"Merced Heights\",\"Miraloma Park\",\"Parnassus/Ashbury Heights\",\"Outer Richmond \",\"Marina\",\"South of Market\",\"Corona Heights\"],\"title\":\"neighborhood\",\"value\":\"Union Square District\",\"width\":250},\"id\":\"2997\",\"type\":\"Select\"},{\"attributes\":{},\"id\":\"2765\",\"type\":\"LinearScale\"},{\"attributes\":{\"axis_label\":\"year\",\"bounds\":\"auto\",\"formatter\":{\"id\":\"2790\"},\"major_label_orientation\":\"horizontal\",\"ticker\":{\"id\":\"2770\"}},\"id\":\"2769\",\"type\":\"LinearAxis\"},{\"attributes\":{\"overlay\":{\"id\":\"2955\"}},\"id\":\"2953\",\"type\":\"BoxZoomTool\"},{\"attributes\":{},\"id\":\"2767\",\"type\":\"LinearScale\"},{\"attributes\":{\"active_drag\":\"auto\",\"active_inspect\":\"auto\",\"active_multi\":null,\"active_scroll\":\"auto\",\"active_tap\":\"auto\",\"tools\":[{\"id\":\"2696\"},{\"id\":\"2714\"},{\"id\":\"2715\"},{\"id\":\"2716\"},{\"id\":\"2717\"},{\"id\":\"2718\"}]},\"id\":\"2720\",\"type\":\"Toolbar\"},{\"attributes\":{\"line_color\":\"#1f77b3\",\"line_width\":2,\"x\":{\"field\":\"year\"},\"y\":{\"field\":\"sale_price_sqr_foot\"}},\"id\":\"2730\",\"type\":\"Line\"},{\"attributes\":{},\"id\":\"2770\",\"type\":\"BasicTicker\"},{\"attributes\":{\"end\":2355.5259045335265,\"reset_end\":733.2177371101802,\"reset_start\":306.3294011864627,\"start\":306.3294011864627,\"tags\":[[[\"sale_price_sqr_foot\",\"sale_price_sqr_foot\",null]]]},\"id\":\"2695\",\"type\":\"Range1d\"},{\"attributes\":{\"data\":{\"sale_price_sqr_foot\":{\"__ndarray__\":\"tQKjeIIVd0Do7CdydF51QGdijk899nhAaBKk2Jo5fkDGKCTbN2KBQPETFqRSxINAUB33UCbNhUA=\",\"dtype\":\"float64\",\"order\":\"little\",\"shape\":[7]},\"year\":[2010,2011,2012,2013,2014,2015,2016]},\"selected\":{\"id\":\"2728\"},\"selection_policy\":{\"id\":\"2744\"}},\"id\":\"2727\",\"type\":\"ColumnDataSource\"},{\"attributes\":{\"axis\":{\"id\":\"2773\"},\"dimension\":1,\"grid_line_color\":null,\"ticker\":null},\"id\":\"2776\",\"type\":\"Grid\"},{\"attributes\":{\"line_alpha\":0.1,\"line_color\":\"#1f77b3\",\"line_width\":2,\"x\":{\"field\":\"year\"},\"y\":{\"field\":\"sale_price_sqr_foot\"}},\"id\":\"2731\",\"type\":\"Line\"},{\"attributes\":{\"axis\":{\"id\":\"2769\"},\"grid_line_color\":null,\"ticker\":null},\"id\":\"2772\",\"type\":\"Grid\"},{\"attributes\":{\"callback\":null,\"renderers\":[{\"id\":\"2733\"}],\"tags\":[\"hv_created\"],\"tooltips\":[[\"year\",\"@{year}\"],[\"sale_price_sqr_foot\",\"@{sale_price_sqr_foot}\"]]},\"id\":\"2696\",\"type\":\"HoverTool\"},{\"attributes\":{\"data\":{\"index\":[346,226],\"sale_price_sqr_foot\":{\"__ndarray__\":\"CX+Y2WeloUAwvuxv4ymUQA==\",\"dtype\":\"float64\",\"order\":\"little\",\"shape\":[2]}},\"selected\":{\"id\":\"2964\"},\"selection_policy\":{\"id\":\"2984\"}},\"id\":\"2963\",\"type\":\"ColumnDataSource\"},{\"attributes\":{\"bottom_units\":\"screen\",\"fill_alpha\":0.5,\"fill_color\":\"lightgrey\",\"left_units\":\"screen\",\"level\":\"overlay\",\"line_alpha\":1.0,\"line_color\":\"black\",\"line_dash\":[4,4],\"line_width\":2,\"right_units\":\"screen\",\"top_units\":\"screen\"},\"id\":\"2719\",\"type\":\"BoxAnnotation\"},{\"attributes\":{},\"id\":\"2964\",\"type\":\"Selection\"},{\"attributes\":{\"children\":[{\"id\":\"2997\"}],\"css_classes\":[\"panel-widget-box\"],\"margin\":[5,5,5,5],\"name\":\"WidgetBox04639\"},\"id\":\"2996\",\"type\":\"Column\"},{\"attributes\":{},\"id\":\"2774\",\"type\":\"BasicTicker\"},{\"attributes\":{\"axis_label\":\"\",\"bounds\":\"auto\",\"formatter\":{\"id\":\"2792\"},\"major_label_orientation\":\"horizontal\",\"ticker\":{\"id\":\"2774\"}},\"id\":\"2773\",\"type\":\"LinearAxis\"},{\"attributes\":{\"children\":[{\"id\":\"2933\"},{\"id\":\"2995\"}],\"margin\":[0,0,0,0],\"name\":\"Row04638\"},\"id\":\"2929\",\"type\":\"Row\"},{\"attributes\":{\"line_color\":\"#1f77b3\",\"line_width\":2,\"x\":{\"field\":\"year\"},\"y\":{\"field\":\"gross_rent\"}},\"id\":\"2669\",\"type\":\"Line\"},{\"attributes\":{\"end\":346.0,\"reset_end\":346.0,\"reset_start\":226.0,\"start\":226.0,\"tags\":[[[\"index\",\"index\",null]]]},\"id\":\"2930\",\"type\":\"Range1d\"},{\"attributes\":{\"line_alpha\":0.2,\"line_color\":\"#ff7e0e\",\"line_width\":2,\"x\":{\"field\":\"year\"},\"y\":{\"field\":\"value\"}},\"id\":\"2817\",\"type\":\"Line\"},{\"attributes\":{\"css_classes\":[\"markdown\"],\"margin\":[5,5,5,5],\"name\":\"Markdown04611\",\"text\":\"&lt;h2&gt;PLOTS&lt;/h2&gt;\"},\"id\":\"2571\",\"type\":\"panel.models.markup.HTML\"},{\"attributes\":{\"end\":4705.1,\"reset_end\":4705.1,\"reset_start\":923.9,\"start\":923.9,\"tags\":[[[\"gross_rent\",\"gross_rent\",null]]]},\"id\":\"2634\",\"type\":\"Range1d\"},{\"attributes\":{\"text\":\"\",\"text_color\":{\"value\":\"black\"},\"text_font_size\":{\"value\":\"12pt\"}},\"id\":\"2698\",\"type\":\"Title\"},{\"attributes\":{\"line_alpha\":0.1,\"line_color\":\"#1f77b3\",\"line_width\":2,\"x\":{\"field\":\"index\"},\"y\":{\"field\":\"sale_price_sqr_foot\"}},\"id\":\"2967\",\"type\":\"Line\"},{\"attributes\":{\"below\":[{\"id\":\"2706\"}],\"center\":[{\"id\":\"2709\"},{\"id\":\"2713\"}],\"left\":[{\"id\":\"2710\"}],\"margin\":[5,5,5,5],\"min_border_bottom\":10,\"min_border_left\":10,\"min_border_right\":10,\"min_border_top\":10,\"plot_height\":300,\"plot_width\":700,\"renderers\":[{\"id\":\"2733\"}],\"sizing_mode\":\"fixed\",\"title\":{\"id\":\"2698\"},\"toolbar\":{\"id\":\"2720\"},\"x_range\":{\"id\":\"2572\"},\"x_scale\":{\"id\":\"2702\"},\"y_range\":{\"id\":\"2695\"},\"y_scale\":{\"id\":\"2704\"}},\"id\":\"2697\",\"subtype\":\"Figure\",\"type\":\"Plot\"},{\"attributes\":{\"margin\":[20,20,20,20],\"min_width\":250,\"options\":[\"Alamo Square\",\"Anza Vista\",\"Bayview\",\"Buena Vista Park\",\"Central Richmond\",\"Central Sunset\",\"Corona Heights\",\"Cow Hollow\",\"Croker Amazon\",\"Diamond Heights\",\"Downtown \",\"Eureka Valley/Dolores Heights\",\"Excelsior\",\"Financial District North\",\"Financial District South\",\"Forest Knolls\",\"Glen Park\",\"Golden Gate Heights\",\"Haight Ashbury\",\"Hayes Valley\",\"Hunters Point\",\"Ingleside \",\"Inner Mission\",\"Inner Parkside\",\"Inner Richmond\",\"Inner Sunset\",\"Jordan Park/Laurel Heights\",\"Lake --The Presidio\",\"Lone Mountain\",\"Lower Pacific Heights\",\"Marina\",\"Miraloma Park\",\"Mission Bay\",\"Mission Dolores\",\"Mission Terrace\",\"Nob Hill\",\"Noe Valley\",\"Oceanview\",\"Outer Parkside\",\"Outer Richmond \",\"Outer Sunset\",\"Pacific Heights\",\"Park North\",\"Parkside\",\"Parnassus/Ashbury Heights\",\"Portola\",\"Potrero Hill\",\"Presidio Heights\",\"Russian Hill\",\"South Beach\",\"South of Market\",\"Sunnyside\",\"Telegraph Hill\",\"Twin Peaks\",\"Union Square District\",\"Van Ness/ Civic Center\",\"West Portal\",\"Western Addition\",\"Yerba Buena\",\"Bernal Heights \",\"Clarendon Heights\",\"Duboce Triangle\",\"Ingleside Heights\",\"North Beach\",\"North Waterfront\",\"Outer Mission\",\"Westwood Highlands\",\"Merced Heights\",\"Midtown Terrace\",\"Visitacion Valley\",\"Silver Terrace\",\"Westwood Park\",\"Bayview Heights\"],\"title\":\"neighborhood\",\"value\":\"Alamo Square\",\"width\":250},\"id\":\"2927\",\"type\":\"Select\"},{\"attributes\":{},\"id\":\"2973\",\"type\":\"BasicTickFormatter\"},{\"attributes\":{\"callback\":null,\"renderers\":[{\"id\":\"2969\"}],\"tags\":[\"hv_created\"],\"tooltips\":[[\"index\",\"@{index}\"],[\"sale_price_sqr_foot\",\"@{sale_price_sqr_foot}\"]]},\"id\":\"2932\",\"type\":\"HoverTool\"},{\"attributes\":{\"callback\":null,\"renderers\":[{\"id\":\"2672\"}],\"tags\":[\"hv_created\"],\"tooltips\":[[\"year\",\"@{year}\"],[\"gross_rent\",\"@{gross_rent}\"]]},\"id\":\"2635\",\"type\":\"HoverTool\"},{\"attributes\":{},\"id\":\"2737\",\"type\":\"BasicTickFormatter\"},{\"attributes\":{\"data_source\":{\"id\":\"2963\"},\"glyph\":{\"id\":\"2966\"},\"hover_glyph\":null,\"muted_glyph\":{\"id\":\"2968\"},\"nonselection_glyph\":{\"id\":\"2967\"},\"selection_glyph\":null,\"view\":{\"id\":\"2970\"}},\"id\":\"2969\",\"type\":\"GlyphRenderer\"},{\"attributes\":{},\"id\":\"2792\",\"type\":\"BasicTickFormatter\"},{\"attributes\":{\"below\":[{\"id\":\"2942\"}],\"center\":[{\"id\":\"2945\"},{\"id\":\"2949\"}],\"left\":[{\"id\":\"2946\"}],\"margin\":[5,5,5,5],\"min_border_bottom\":10,\"min_border_left\":10,\"min_border_right\":10,\"min_border_top\":10,\"plot_height\":300,\"plot_width\":700,\"renderers\":[{\"id\":\"2969\"}],\"sizing_mode\":\"fixed\",\"title\":{\"id\":\"2934\"},\"toolbar\":{\"id\":\"2956\"},\"x_range\":{\"id\":\"2930\"},\"x_scale\":{\"id\":\"2938\"},\"y_range\":{\"id\":\"2695\"},\"y_scale\":{\"id\":\"2940\"}},\"id\":\"2933\",\"subtype\":\"Figure\",\"type\":\"Plot\"},{\"attributes\":{},\"id\":\"2827\",\"type\":\"UnionRenderers\"},{\"attributes\":{\"data\":{\"housing_units\":[372560,374507,376454,378401,380348,382295,384242],\"year\":[2010,2011,2012,2013,2014,2015,2016]},\"selected\":{\"id\":\"2606\"},\"selection_policy\":{\"id\":\"2622\"}},\"id\":\"2605\",\"type\":\"ColumnDataSource\"},{\"attributes\":{\"active_drag\":\"auto\",\"active_inspect\":\"auto\",\"active_multi\":null,\"active_scroll\":\"auto\",\"active_tap\":\"auto\",\"tools\":[{\"id\":\"2758\"},{\"id\":\"2777\"},{\"id\":\"2778\"},{\"id\":\"2779\"},{\"id\":\"2780\"},{\"id\":\"2781\"}]},\"id\":\"2783\",\"type\":\"Toolbar\"},{\"attributes\":{\"children\":[{\"id\":\"2927\"}],\"css_classes\":[\"panel-widget-box\"],\"margin\":[5,5,5,5],\"name\":\"WidgetBox04630\"},\"id\":\"2926\",\"type\":\"Column\"},{\"attributes\":{\"bottom_units\":\"screen\",\"fill_alpha\":0.5,\"fill_color\":\"lightgrey\",\"left_units\":\"screen\",\"level\":\"overlay\",\"line_alpha\":1.0,\"line_color\":\"black\",\"line_dash\":[4,4],\"line_width\":2,\"right_units\":\"screen\",\"top_units\":\"screen\"},\"id\":\"2597\",\"type\":\"BoxAnnotation\"},{\"attributes\":{\"label\":{\"value\":\"gross_rent\"},\"renderers\":[{\"id\":\"2818\"}]},\"id\":\"2830\",\"type\":\"LegendItem\"},{\"attributes\":{\"bottom_units\":\"screen\",\"fill_alpha\":0.5,\"fill_color\":\"lightgrey\",\"left_units\":\"screen\",\"level\":\"overlay\",\"line_alpha\":1.0,\"line_color\":\"black\",\"line_dash\":[4,4],\"line_width\":2,\"right_units\":\"screen\",\"top_units\":\"screen\"},\"id\":\"2955\",\"type\":\"BoxAnnotation\"},{\"attributes\":{\"line_alpha\":0.2,\"line_color\":\"#1f77b3\",\"line_width\":2,\"x\":{\"field\":\"year\"},\"y\":{\"field\":\"sale_price_sqr_foot\"}},\"id\":\"2732\",\"type\":\"Line\"},{\"attributes\":{},\"id\":\"2777\",\"type\":\"SaveTool\"},{\"attributes\":{},\"id\":\"2606\",\"type\":\"Selection\"},{\"attributes\":{},\"id\":\"2667\",\"type\":\"Selection\"},{\"attributes\":{\"callback\":null,\"renderers\":[{\"id\":\"2800\"},{\"id\":\"2818\"}],\"tags\":[\"hv_created\"],\"tooltips\":[[\"Variable\",\"@{Variable}\"],[\"year\",\"@{year}\"],[\"value\",\"@{value}\"]]},\"id\":\"2758\",\"type\":\"HoverTool\"},{\"attributes\":{},\"id\":\"2778\",\"type\":\"PanTool\"},{\"attributes\":{\"callback\":null,\"renderers\":[{\"id\":\"2611\"}],\"tags\":[\"hv_created\"],\"tooltips\":[[\"year\",\"@{year}\"],[\"housing_units\",\"@{housing_units}\"]]},\"id\":\"2574\",\"type\":\"HoverTool\"},{\"attributes\":{},\"id\":\"2781\",\"type\":\"ResetTool\"},{\"attributes\":{\"text\":\"\",\"text_color\":{\"value\":\"black\"},\"text_font_size\":{\"value\":\"12pt\"}},\"id\":\"2637\",\"type\":\"Title\"},{\"attributes\":{},\"id\":\"2702\",\"type\":\"LinearScale\"},{\"attributes\":{},\"id\":\"2779\",\"type\":\"WheelZoomTool\"},{\"attributes\":{\"text\":\"neighborhood: Union Square District\",\"text_color\":{\"value\":\"black\"},\"text_font_size\":{\"value\":\"12pt\"}},\"id\":\"2934\",\"type\":\"Title\"},{\"attributes\":{\"below\":[{\"id\":\"2645\"}],\"center\":[{\"id\":\"2648\"},{\"id\":\"2652\"}],\"left\":[{\"id\":\"2649\"}],\"margin\":[5,5,5,5],\"min_border_bottom\":10,\"min_border_left\":10,\"min_border_right\":10,\"min_border_top\":10,\"plot_height\":300,\"plot_width\":700,\"renderers\":[{\"id\":\"2672\"}],\"sizing_mode\":\"fixed\",\"title\":{\"id\":\"2637\"},\"toolbar\":{\"id\":\"2659\"},\"x_range\":{\"id\":\"2572\"},\"x_scale\":{\"id\":\"2641\"},\"y_range\":{\"id\":\"2634\"},\"y_scale\":{\"id\":\"2643\"}},\"id\":\"2636\",\"subtype\":\"Figure\",\"type\":\"Plot\"},{\"attributes\":{\"below\":[{\"id\":\"2769\"}],\"center\":[{\"id\":\"2772\"},{\"id\":\"2776\"}],\"left\":[{\"id\":\"2773\"}],\"margin\":[5,5,5,5],\"min_border_bottom\":10,\"min_border_left\":10,\"min_border_right\":10,\"min_border_top\":10,\"plot_height\":300,\"plot_width\":700,\"renderers\":[{\"id\":\"2800\"},{\"id\":\"2818\"}],\"right\":[{\"id\":\"2810\"}],\"sizing_mode\":\"fixed\",\"title\":{\"id\":\"2761\"},\"toolbar\":{\"id\":\"2783\"},\"x_range\":{\"id\":\"2572\"},\"x_scale\":{\"id\":\"2765\"},\"y_range\":{\"id\":\"2757\"},\"y_scale\":{\"id\":\"2767\"}},\"id\":\"2760\",\"subtype\":\"Figure\",\"type\":\"Plot\"},{\"attributes\":{\"overlay\":{\"id\":\"2782\"}},\"id\":\"2780\",\"type\":\"BoxZoomTool\"},{\"attributes\":{\"line_alpha\":0.2,\"line_color\":\"#1f77b3\",\"line_width\":2,\"x\":{\"field\":\"index\"},\"y\":{\"field\":\"sale_price_sqr_foot\"}},\"id\":\"2968\",\"type\":\"Line\"},{\"attributes\":{\"axis_label\":\"year\",\"bounds\":\"auto\",\"formatter\":{\"id\":\"2735\"},\"major_label_orientation\":\"horizontal\",\"ticker\":{\"id\":\"2707\"}},\"id\":\"2706\",\"type\":\"LinearAxis\"},{\"attributes\":{},\"id\":\"2735\",\"type\":\"BasicTickFormatter\"},{\"attributes\":{\"axis_label\":\"sale_price_sqr_foot\",\"bounds\":\"auto\",\"formatter\":{\"id\":\"2737\"},\"major_label_orientation\":\"horizontal\",\"ticker\":{\"id\":\"2711\"}},\"id\":\"2710\",\"type\":\"LinearAxis\"},{\"attributes\":{},\"id\":\"2704\",\"type\":\"LinearScale\"},{\"attributes\":{},\"id\":\"2683\",\"type\":\"UnionRenderers\"},{\"attributes\":{},\"id\":\"2984\",\"type\":\"UnionRenderers\"},{\"attributes\":{\"axis_label\":\"year\",\"bounds\":\"auto\",\"formatter\":{\"id\":\"2674\"},\"major_label_orientation\":\"horizontal\",\"ticker\":{\"id\":\"2646\"}},\"id\":\"2645\",\"type\":\"LinearAxis\"},{\"attributes\":{\"line_alpha\":0.1,\"line_color\":\"#1f77b3\",\"line_width\":2,\"x\":{\"field\":\"year\"},\"y\":{\"field\":\"gross_rent\"}},\"id\":\"2670\",\"type\":\"Line\"},{\"attributes\":{},\"id\":\"2707\",\"type\":\"BasicTicker\"},{\"attributes\":{},\"id\":\"2615\",\"type\":\"BasicTickFormatter\"},{\"attributes\":{\"line_alpha\":0.2,\"line_color\":\"#1f77b3\",\"line_width\":2,\"x\":{\"field\":\"year\"},\"y\":{\"field\":\"gross_rent\"}},\"id\":\"2671\",\"type\":\"Line\"},{\"attributes\":{},\"id\":\"2711\",\"type\":\"BasicTicker\"},{\"attributes\":{\"axis\":{\"id\":\"2706\"},\"grid_line_color\":null,\"ticker\":null},\"id\":\"2709\",\"type\":\"Grid\"},{\"attributes\":{},\"id\":\"2938\",\"type\":\"LinearScale\"},{\"attributes\":{},\"id\":\"2971\",\"type\":\"BasicTickFormatter\"},{\"attributes\":{},\"id\":\"2641\",\"type\":\"LinearScale\"},{\"attributes\":{\"children\":[{\"id\":\"2926\"},{\"id\":\"2928\"}],\"margin\":[0,0,0,0],\"name\":\"Column04636\"},\"id\":\"2925\",\"type\":\"Column\"},{\"attributes\":{\"margin\":[5,5,5,5],\"name\":\"VSpacer04644\",\"sizing_mode\":\"stretch_height\"},\"id\":\"2998\",\"type\":\"Spacer\"},{\"attributes\":{},\"id\":\"2790\",\"type\":\"BasicTickFormatter\"},{\"attributes\":{\"axis_label\":\"\",\"bounds\":\"auto\",\"formatter\":{\"id\":\"2971\"},\"major_label_orientation\":\"horizontal\",\"ticker\":{\"id\":\"2943\"}},\"id\":\"2942\",\"type\":\"LinearAxis\"},{\"attributes\":{},\"id\":\"2744\",\"type\":\"UnionRenderers\"},{\"attributes\":{},\"id\":\"2813\",\"type\":\"Selection\"},{\"attributes\":{},\"id\":\"2643\",\"type\":\"LinearScale\"},{\"attributes\":{},\"id\":\"2940\",\"type\":\"LinearScale\"}],\"root_ids\":[\"2567\",\"3126\"]},\"title\":\"Bokeh Application\",\"version\":\"2.2.3\"}};\n",
       "    var render_items = [{\"docid\":\"d2ed024c-23c3-4f93-8218-0b789cc020c0\",\"root_ids\":[\"2567\"],\"roots\":{\"2567\":\"0930431b-0061-42d0-ac26-739d0b7158f5\"}}];\n",
       "    root.Bokeh.embed.embed_items_notebook(docs_json, render_items);\n",
       "  }\n",
       "  if (root.Bokeh !== undefined && root.Bokeh.Panel !== undefined && root['Plotly'] !== undefined ) {\n",
       "    embed_document(root);\n",
       "  } else {\n",
       "    var attempts = 0;\n",
       "    var timer = setInterval(function(root) {\n",
       "      if (root.Bokeh !== undefined && root.Bokeh.Panel !== undefined && root['Plotly'] !== undefined) {\n",
       "        clearInterval(timer);\n",
       "        embed_document(root);\n",
       "      } else if (document.readyState == \"complete\") {\n",
       "        attempts++;\n",
       "        if (attempts > 100) {\n",
       "          clearInterval(timer);\n",
       "          console.log(\"Bokeh: ERROR: Unable to run BokehJS code because BokehJS library is missing\");\n",
       "        }\n",
       "      }\n",
       "    }, 10, root)\n",
       "  }\n",
       "})(window);</script>"
      ],
      "text/plain": [
       "Tabs\n",
       "    [0] Markdown(str)\n",
       "    [1] Column\n",
       "        [0] Markdown(str)\n",
       "        [1] HoloViews(Curve)\n",
       "        [2] HoloViews(Curve)\n",
       "        [3] HoloViews(Curve)\n",
       "        [4] Row\n",
       "            [0] HoloViews(DynamicMap)\n",
       "            [1] Column\n",
       "                [0] WidgetBox\n",
       "                    [0] Select(margin=(20, 20, 20, 20), name='neighborhood', options=['Alamo Square', ...], value='Alamo Square', width=250)\n",
       "                [1] VSpacer()\n",
       "        [5] Row\n",
       "            [0] HoloViews(DynamicMap)\n",
       "            [1] Column\n",
       "                [0] WidgetBox\n",
       "                    [0] Select(margin=(20, 20, 20, 20), name='neighborhood', options=['Union Square District', ...], value='Union Square District', width=250)\n",
       "                [1] VSpacer()"
      ]
     },
     "execution_count": 18,
     "metadata": {
      "application/vnd.holoviews_exec.v0+json": {
       "id": "2567"
      }
     },
     "output_type": "execute_result"
    }
   ],
   "source": [
    "# Serve the# dashboard\n",
    "sf_dashboard.servable()"
   ]
  },
  {
   "cell_type": "markdown",
   "metadata": {},
   "source": [
    "# Debugging\n",
    "\n",
    "Note: Some of the Plotly express plots may not render in the notebook through the panel functions.\n",
    "\n",
    "However, you can test each plot by uncommenting the following code"
   ]
  },
  {
   "cell_type": "code",
   "execution_count": 19,
   "metadata": {},
   "outputs": [
    {
     "data": {},
     "metadata": {},
     "output_type": "display_data"
    },
    {
     "data": {
      "application/vnd.holoviews_exec.v0+json": "",
      "text/html": [
       "<div id='3337'>\n",
       "\n",
       "\n",
       "\n",
       "\n",
       "\n",
       "  <div class=\"bk-root\" id=\"6d9147d9-6381-4dd8-a35d-f02dfcfc1c79\" data-root-id=\"3337\"></div>\n",
       "</div>\n",
       "<script type=\"application/javascript\">(function(root) {\n",
       "  function embed_document(root) {\n",
       "    var docs_json = {\"135615f1-bf37-4215-be57-aa527356336e\":{\"roots\":{\"references\":[{\"attributes\":{\"line_alpha\":0.1,\"line_color\":\"#1f77b3\",\"line_width\":2,\"x\":{\"field\":\"year\"},\"y\":{\"field\":\"housing_units\"}},\"id\":\"3376\",\"type\":\"Line\"},{\"attributes\":{},\"id\":\"3349\",\"type\":\"LinearScale\"},{\"attributes\":{},\"id\":\"3356\",\"type\":\"BasicTicker\"},{\"attributes\":{},\"id\":\"3389\",\"type\":\"UnionRenderers\"},{\"attributes\":{\"axis_label\":\"year\",\"bounds\":\"auto\",\"formatter\":{\"id\":\"3380\"},\"major_label_orientation\":\"horizontal\",\"ticker\":{\"id\":\"3352\"}},\"id\":\"3351\",\"type\":\"LinearAxis\"},{\"attributes\":{},\"id\":\"3359\",\"type\":\"SaveTool\"},{\"attributes\":{\"axis\":{\"id\":\"3351\"},\"grid_line_color\":null,\"ticker\":null},\"id\":\"3354\",\"type\":\"Grid\"},{\"attributes\":{},\"id\":\"3352\",\"type\":\"BasicTicker\"},{\"attributes\":{\"axis_label\":\"\",\"bounds\":\"auto\",\"formatter\":{\"id\":\"3382\"},\"major_label_orientation\":\"horizontal\",\"ticker\":{\"id\":\"3356\"}},\"id\":\"3355\",\"type\":\"LinearAxis\"},{\"attributes\":{\"margin\":[5,5,5,5],\"name\":\"HSpacer05840\",\"sizing_mode\":\"stretch_width\"},\"id\":\"3338\",\"type\":\"Spacer\"},{\"attributes\":{\"margin\":[5,5,5,5],\"name\":\"HSpacer05841\",\"sizing_mode\":\"stretch_width\"},\"id\":\"3400\",\"type\":\"Spacer\"},{\"attributes\":{\"axis\":{\"id\":\"3355\"},\"dimension\":1,\"grid_line_color\":null,\"ticker\":null},\"id\":\"3358\",\"type\":\"Grid\"},{\"attributes\":{\"bottom_units\":\"screen\",\"fill_alpha\":0.5,\"fill_color\":\"lightgrey\",\"left_units\":\"screen\",\"level\":\"overlay\",\"line_alpha\":1.0,\"line_color\":\"black\",\"line_dash\":[4,4],\"line_width\":2,\"right_units\":\"screen\",\"top_units\":\"screen\"},\"id\":\"3364\",\"type\":\"BoxAnnotation\"},{\"attributes\":{\"end\":2016.0,\"reset_end\":2016.0,\"reset_start\":2010.0,\"start\":2010.0,\"tags\":[[[\"year\",\"year\",null]]]},\"id\":\"3339\",\"type\":\"Range1d\"},{\"attributes\":{},\"id\":\"3382\",\"type\":\"BasicTickFormatter\"},{\"attributes\":{\"callback\":null,\"renderers\":[{\"id\":\"3378\"}],\"tags\":[\"hv_created\"],\"tooltips\":[[\"year\",\"@{year}\"],[\"housing_units\",\"@{housing_units}\"]]},\"id\":\"3341\",\"type\":\"HoverTool\"},{\"attributes\":{\"line_alpha\":0.2,\"line_color\":\"#1f77b3\",\"line_width\":2,\"x\":{\"field\":\"year\"},\"y\":{\"field\":\"housing_units\"}},\"id\":\"3377\",\"type\":\"Line\"},{\"attributes\":{},\"id\":\"3361\",\"type\":\"WheelZoomTool\"},{\"attributes\":{\"data\":{\"housing_units\":[372560,374507,376454,378401,380348,382295,384242],\"year\":[2010,2011,2012,2013,2014,2015,2016]},\"selected\":{\"id\":\"3373\"},\"selection_policy\":{\"id\":\"3389\"}},\"id\":\"3372\",\"type\":\"ColumnDataSource\"},{\"attributes\":{},\"id\":\"3363\",\"type\":\"ResetTool\"},{\"attributes\":{\"end\":385410.2,\"reset_end\":385410.2,\"reset_start\":371391.8,\"start\":371391.8,\"tags\":[[[\"housing_units\",\"housing_units\",null]]]},\"id\":\"3340\",\"type\":\"Range1d\"},{\"attributes\":{},\"id\":\"3373\",\"type\":\"Selection\"},{\"attributes\":{\"text\":\"housing_units\",\"text_color\":{\"value\":\"black\"},\"text_font_size\":{\"value\":\"12pt\"}},\"id\":\"3343\",\"type\":\"Title\"},{\"attributes\":{},\"id\":\"3380\",\"type\":\"BasicTickFormatter\"},{\"attributes\":{\"below\":[{\"id\":\"3351\"}],\"center\":[{\"id\":\"3354\"},{\"id\":\"3358\"}],\"left\":[{\"id\":\"3355\"}],\"margin\":[5,5,5,5],\"min_border_bottom\":10,\"min_border_left\":10,\"min_border_right\":10,\"min_border_top\":10,\"plot_height\":300,\"plot_width\":700,\"renderers\":[{\"id\":\"3378\"}],\"sizing_mode\":\"fixed\",\"title\":{\"id\":\"3343\"},\"toolbar\":{\"id\":\"3365\"},\"x_range\":{\"id\":\"3339\"},\"x_scale\":{\"id\":\"3347\"},\"y_range\":{\"id\":\"3340\"},\"y_scale\":{\"id\":\"3349\"}},\"id\":\"3342\",\"subtype\":\"Figure\",\"type\":\"Plot\"},{\"attributes\":{\"line_color\":\"#1f77b3\",\"line_width\":2,\"x\":{\"field\":\"year\"},\"y\":{\"field\":\"housing_units\"}},\"id\":\"3375\",\"type\":\"Line\"},{\"attributes\":{\"children\":[{\"id\":\"3338\"},{\"id\":\"3342\"},{\"id\":\"3400\"}],\"margin\":[0,0,0,0],\"name\":\"Row05836\",\"tags\":[\"embedded\"]},\"id\":\"3337\",\"type\":\"Row\"},{\"attributes\":{\"source\":{\"id\":\"3372\"}},\"id\":\"3379\",\"type\":\"CDSView\"},{\"attributes\":{},\"id\":\"3360\",\"type\":\"PanTool\"},{\"attributes\":{},\"id\":\"3347\",\"type\":\"LinearScale\"},{\"attributes\":{\"overlay\":{\"id\":\"3364\"}},\"id\":\"3362\",\"type\":\"BoxZoomTool\"},{\"attributes\":{\"data_source\":{\"id\":\"3372\"},\"glyph\":{\"id\":\"3375\"},\"hover_glyph\":null,\"muted_glyph\":{\"id\":\"3377\"},\"nonselection_glyph\":{\"id\":\"3376\"},\"selection_glyph\":null,\"view\":{\"id\":\"3379\"}},\"id\":\"3378\",\"type\":\"GlyphRenderer\"},{\"attributes\":{\"active_drag\":\"auto\",\"active_inspect\":\"auto\",\"active_multi\":null,\"active_scroll\":\"auto\",\"active_tap\":\"auto\",\"tools\":[{\"id\":\"3341\"},{\"id\":\"3359\"},{\"id\":\"3360\"},{\"id\":\"3361\"},{\"id\":\"3362\"},{\"id\":\"3363\"}]},\"id\":\"3365\",\"type\":\"Toolbar\"}],\"root_ids\":[\"3337\"]},\"title\":\"Bokeh Application\",\"version\":\"2.2.3\"}};\n",
       "    var render_items = [{\"docid\":\"135615f1-bf37-4215-be57-aa527356336e\",\"root_ids\":[\"3337\"],\"roots\":{\"3337\":\"6d9147d9-6381-4dd8-a35d-f02dfcfc1c79\"}}];\n",
       "    root.Bokeh.embed.embed_items_notebook(docs_json, render_items);\n",
       "  }\n",
       "  if (root.Bokeh !== undefined && root.Bokeh.Panel !== undefined && root['Plotly'] !== undefined ) {\n",
       "    embed_document(root);\n",
       "  } else {\n",
       "    var attempts = 0;\n",
       "    var timer = setInterval(function(root) {\n",
       "      if (root.Bokeh !== undefined && root.Bokeh.Panel !== undefined && root['Plotly'] !== undefined) {\n",
       "        clearInterval(timer);\n",
       "        embed_document(root);\n",
       "      } else if (document.readyState == \"complete\") {\n",
       "        attempts++;\n",
       "        if (attempts > 100) {\n",
       "          clearInterval(timer);\n",
       "          console.log(\"Bokeh: ERROR: Unable to run BokehJS code because BokehJS library is missing\");\n",
       "        }\n",
       "      }\n",
       "    }, 10, root)\n",
       "  }\n",
       "})(window);</script>"
      ],
      "text/plain": [
       ":Curve   [year]   (housing_units)"
      ]
     },
     "execution_count": 19,
     "metadata": {
      "application/vnd.holoviews_exec.v0+json": {
       "id": "3337"
      }
     },
     "output_type": "execute_result"
    }
   ],
   "source": [
    "housing_units_per_year()"
   ]
  },
  {
   "cell_type": "code",
   "execution_count": 20,
   "metadata": {},
   "outputs": [
    {
     "data": {},
     "metadata": {},
     "output_type": "display_data"
    },
    {
     "data": {
      "application/vnd.holoviews_exec.v0+json": "",
      "text/html": [
       "<div id='3442'>\n",
       "\n",
       "\n",
       "\n",
       "\n",
       "\n",
       "  <div class=\"bk-root\" id=\"f8e9cf79-ffa2-4940-bc18-e24e87cc0d5c\" data-root-id=\"3442\"></div>\n",
       "</div>\n",
       "<script type=\"application/javascript\">(function(root) {\n",
       "  function embed_document(root) {\n",
       "    var docs_json = {\"dc661060-7542-4bdc-860a-b86ca3b9b5e5\":{\"roots\":{\"references\":[{\"attributes\":{\"axis\":{\"id\":\"3460\"},\"dimension\":1,\"grid_line_color\":null,\"ticker\":null},\"id\":\"3463\",\"type\":\"Grid\"},{\"attributes\":{},\"id\":\"3466\",\"type\":\"WheelZoomTool\"},{\"attributes\":{},\"id\":\"3478\",\"type\":\"Selection\"},{\"attributes\":{\"end\":2016.0,\"reset_end\":2016.0,\"reset_start\":2010.0,\"start\":2010.0,\"tags\":[[[\"year\",\"year\",null]]]},\"id\":\"3444\",\"type\":\"Range1d\"},{\"attributes\":{},\"id\":\"3468\",\"type\":\"ResetTool\"},{\"attributes\":{},\"id\":\"3494\",\"type\":\"UnionRenderers\"},{\"attributes\":{},\"id\":\"3487\",\"type\":\"BasicTickFormatter\"},{\"attributes\":{},\"id\":\"3485\",\"type\":\"BasicTickFormatter\"},{\"attributes\":{\"data\":{\"gross_rent\":[1239,1530,2324,2971,3528,3739,4390],\"year\":[2010,2011,2012,2013,2014,2015,2016]},\"selected\":{\"id\":\"3478\"},\"selection_policy\":{\"id\":\"3494\"}},\"id\":\"3477\",\"type\":\"ColumnDataSource\"},{\"attributes\":{\"overlay\":{\"id\":\"3469\"}},\"id\":\"3467\",\"type\":\"BoxZoomTool\"},{\"attributes\":{},\"id\":\"3461\",\"type\":\"BasicTicker\"},{\"attributes\":{\"callback\":null,\"renderers\":[{\"id\":\"3483\"}],\"tags\":[\"hv_created\"],\"tooltips\":[[\"year\",\"@{year}\"],[\"gross_rent\",\"@{gross_rent}\"]]},\"id\":\"3446\",\"type\":\"HoverTool\"},{\"attributes\":{},\"id\":\"3464\",\"type\":\"SaveTool\"},{\"attributes\":{\"end\":4705.1,\"reset_end\":4705.1,\"reset_start\":923.9,\"start\":923.9,\"tags\":[[[\"gross_rent\",\"gross_rent\",null]]]},\"id\":\"3445\",\"type\":\"Range1d\"},{\"attributes\":{},\"id\":\"3457\",\"type\":\"BasicTicker\"},{\"attributes\":{\"line_color\":\"#1f77b3\",\"line_width\":2,\"x\":{\"field\":\"year\"},\"y\":{\"field\":\"gross_rent\"}},\"id\":\"3480\",\"type\":\"Line\"},{\"attributes\":{\"text\":\"\",\"text_color\":{\"value\":\"black\"},\"text_font_size\":{\"value\":\"12pt\"}},\"id\":\"3448\",\"type\":\"Title\"},{\"attributes\":{\"children\":[{\"id\":\"3443\"},{\"id\":\"3447\"},{\"id\":\"3505\"}],\"margin\":[0,0,0,0],\"name\":\"Row06015\",\"tags\":[\"embedded\"]},\"id\":\"3442\",\"type\":\"Row\"},{\"attributes\":{\"line_alpha\":0.1,\"line_color\":\"#1f77b3\",\"line_width\":2,\"x\":{\"field\":\"year\"},\"y\":{\"field\":\"gross_rent\"}},\"id\":\"3481\",\"type\":\"Line\"},{\"attributes\":{\"active_drag\":\"auto\",\"active_inspect\":\"auto\",\"active_multi\":null,\"active_scroll\":\"auto\",\"active_tap\":\"auto\",\"tools\":[{\"id\":\"3446\"},{\"id\":\"3464\"},{\"id\":\"3465\"},{\"id\":\"3466\"},{\"id\":\"3467\"},{\"id\":\"3468\"}]},\"id\":\"3470\",\"type\":\"Toolbar\"},{\"attributes\":{},\"id\":\"3452\",\"type\":\"LinearScale\"},{\"attributes\":{},\"id\":\"3465\",\"type\":\"PanTool\"},{\"attributes\":{\"below\":[{\"id\":\"3456\"}],\"center\":[{\"id\":\"3459\"},{\"id\":\"3463\"}],\"left\":[{\"id\":\"3460\"}],\"margin\":[5,5,5,5],\"min_border_bottom\":10,\"min_border_left\":10,\"min_border_right\":10,\"min_border_top\":10,\"plot_height\":300,\"plot_width\":700,\"renderers\":[{\"id\":\"3483\"}],\"sizing_mode\":\"fixed\",\"title\":{\"id\":\"3448\"},\"toolbar\":{\"id\":\"3470\"},\"x_range\":{\"id\":\"3444\"},\"x_scale\":{\"id\":\"3452\"},\"y_range\":{\"id\":\"3445\"},\"y_scale\":{\"id\":\"3454\"}},\"id\":\"3447\",\"subtype\":\"Figure\",\"type\":\"Plot\"},{\"attributes\":{\"margin\":[5,5,5,5],\"name\":\"HSpacer06019\",\"sizing_mode\":\"stretch_width\"},\"id\":\"3443\",\"type\":\"Spacer\"},{\"attributes\":{},\"id\":\"3454\",\"type\":\"LinearScale\"},{\"attributes\":{\"bottom_units\":\"screen\",\"fill_alpha\":0.5,\"fill_color\":\"lightgrey\",\"left_units\":\"screen\",\"level\":\"overlay\",\"line_alpha\":1.0,\"line_color\":\"black\",\"line_dash\":[4,4],\"line_width\":2,\"right_units\":\"screen\",\"top_units\":\"screen\"},\"id\":\"3469\",\"type\":\"BoxAnnotation\"},{\"attributes\":{\"line_alpha\":0.2,\"line_color\":\"#1f77b3\",\"line_width\":2,\"x\":{\"field\":\"year\"},\"y\":{\"field\":\"gross_rent\"}},\"id\":\"3482\",\"type\":\"Line\"},{\"attributes\":{\"axis_label\":\"gross_rent\",\"bounds\":\"auto\",\"formatter\":{\"id\":\"3487\"},\"major_label_orientation\":\"horizontal\",\"ticker\":{\"id\":\"3461\"}},\"id\":\"3460\",\"type\":\"LinearAxis\"},{\"attributes\":{\"data_source\":{\"id\":\"3477\"},\"glyph\":{\"id\":\"3480\"},\"hover_glyph\":null,\"muted_glyph\":{\"id\":\"3482\"},\"nonselection_glyph\":{\"id\":\"3481\"},\"selection_glyph\":null,\"view\":{\"id\":\"3484\"}},\"id\":\"3483\",\"type\":\"GlyphRenderer\"},{\"attributes\":{\"margin\":[5,5,5,5],\"name\":\"HSpacer06020\",\"sizing_mode\":\"stretch_width\"},\"id\":\"3505\",\"type\":\"Spacer\"},{\"attributes\":{\"axis\":{\"id\":\"3456\"},\"grid_line_color\":null,\"ticker\":null},\"id\":\"3459\",\"type\":\"Grid\"},{\"attributes\":{\"source\":{\"id\":\"3477\"}},\"id\":\"3484\",\"type\":\"CDSView\"},{\"attributes\":{\"axis_label\":\"year\",\"bounds\":\"auto\",\"formatter\":{\"id\":\"3485\"},\"major_label_orientation\":\"horizontal\",\"ticker\":{\"id\":\"3457\"}},\"id\":\"3456\",\"type\":\"LinearAxis\"}],\"root_ids\":[\"3442\"]},\"title\":\"Bokeh Application\",\"version\":\"2.2.3\"}};\n",
       "    var render_items = [{\"docid\":\"dc661060-7542-4bdc-860a-b86ca3b9b5e5\",\"root_ids\":[\"3442\"],\"roots\":{\"3442\":\"f8e9cf79-ffa2-4940-bc18-e24e87cc0d5c\"}}];\n",
       "    root.Bokeh.embed.embed_items_notebook(docs_json, render_items);\n",
       "  }\n",
       "  if (root.Bokeh !== undefined && root.Bokeh.Panel !== undefined && root['Plotly'] !== undefined ) {\n",
       "    embed_document(root);\n",
       "  } else {\n",
       "    var attempts = 0;\n",
       "    var timer = setInterval(function(root) {\n",
       "      if (root.Bokeh !== undefined && root.Bokeh.Panel !== undefined && root['Plotly'] !== undefined) {\n",
       "        clearInterval(timer);\n",
       "        embed_document(root);\n",
       "      } else if (document.readyState == \"complete\") {\n",
       "        attempts++;\n",
       "        if (attempts > 100) {\n",
       "          clearInterval(timer);\n",
       "          console.log(\"Bokeh: ERROR: Unable to run BokehJS code because BokehJS library is missing\");\n",
       "        }\n",
       "      }\n",
       "    }, 10, root)\n",
       "  }\n",
       "})(window);</script>"
      ],
      "text/plain": [
       ":Curve   [year]   (gross_rent)"
      ]
     },
     "execution_count": 20,
     "metadata": {
      "application/vnd.holoviews_exec.v0+json": {
       "id": "3442"
      }
     },
     "output_type": "execute_result"
    }
   ],
   "source": [
    "average_gross_rent()"
   ]
  },
  {
   "cell_type": "code",
   "execution_count": 21,
   "metadata": {},
   "outputs": [
    {
     "data": {},
     "metadata": {},
     "output_type": "display_data"
    },
    {
     "data": {
      "application/vnd.holoviews_exec.v0+json": "",
      "text/html": [
       "<div id='3547'>\n",
       "\n",
       "\n",
       "\n",
       "\n",
       "\n",
       "  <div class=\"bk-root\" id=\"dc474d86-74ae-4791-8fba-e50412c5aa9d\" data-root-id=\"3547\"></div>\n",
       "</div>\n",
       "<script type=\"application/javascript\">(function(root) {\n",
       "  function embed_document(root) {\n",
       "    var docs_json = {\"43e4a2de-efa4-47dd-8c0c-97cd8fccf1c7\":{\"roots\":{\"references\":[{\"attributes\":{\"text\":\"\",\"text_color\":{\"value\":\"black\"},\"text_font_size\":{\"value\":\"12pt\"}},\"id\":\"3553\",\"type\":\"Title\"},{\"attributes\":{},\"id\":\"3599\",\"type\":\"UnionRenderers\"},{\"attributes\":{\"bottom_units\":\"screen\",\"fill_alpha\":0.5,\"fill_color\":\"lightgrey\",\"left_units\":\"screen\",\"level\":\"overlay\",\"line_alpha\":1.0,\"line_color\":\"black\",\"line_dash\":[4,4],\"line_width\":2,\"right_units\":\"screen\",\"top_units\":\"screen\"},\"id\":\"3574\",\"type\":\"BoxAnnotation\"},{\"attributes\":{\"data_source\":{\"id\":\"3582\"},\"glyph\":{\"id\":\"3585\"},\"hover_glyph\":null,\"muted_glyph\":{\"id\":\"3587\"},\"nonselection_glyph\":{\"id\":\"3586\"},\"selection_glyph\":null,\"view\":{\"id\":\"3589\"}},\"id\":\"3588\",\"type\":\"GlyphRenderer\"},{\"attributes\":{\"below\":[{\"id\":\"3561\"}],\"center\":[{\"id\":\"3564\"},{\"id\":\"3568\"}],\"left\":[{\"id\":\"3565\"}],\"margin\":[5,5,5,5],\"min_border_bottom\":10,\"min_border_left\":10,\"min_border_right\":10,\"min_border_top\":10,\"plot_height\":300,\"plot_width\":700,\"renderers\":[{\"id\":\"3588\"}],\"sizing_mode\":\"fixed\",\"title\":{\"id\":\"3553\"},\"toolbar\":{\"id\":\"3575\"},\"x_range\":{\"id\":\"3549\"},\"x_scale\":{\"id\":\"3557\"},\"y_range\":{\"id\":\"3550\"},\"y_scale\":{\"id\":\"3559\"}},\"id\":\"3552\",\"subtype\":\"Figure\",\"type\":\"Plot\"},{\"attributes\":{\"line_color\":\"#1f77b3\",\"line_width\":2,\"x\":{\"field\":\"year\"},\"y\":{\"field\":\"sale_price_sqr_foot\"}},\"id\":\"3585\",\"type\":\"Line\"},{\"attributes\":{},\"id\":\"3592\",\"type\":\"BasicTickFormatter\"},{\"attributes\":{},\"id\":\"3590\",\"type\":\"BasicTickFormatter\"},{\"attributes\":{\"active_drag\":\"auto\",\"active_inspect\":\"auto\",\"active_multi\":null,\"active_scroll\":\"auto\",\"active_tap\":\"auto\",\"tools\":[{\"id\":\"3551\"},{\"id\":\"3569\"},{\"id\":\"3570\"},{\"id\":\"3571\"},{\"id\":\"3572\"},{\"id\":\"3573\"}]},\"id\":\"3575\",\"type\":\"Toolbar\"},{\"attributes\":{\"source\":{\"id\":\"3582\"}},\"id\":\"3589\",\"type\":\"CDSView\"},{\"attributes\":{\"line_alpha\":0.2,\"line_color\":\"#1f77b3\",\"line_width\":2,\"x\":{\"field\":\"year\"},\"y\":{\"field\":\"sale_price_sqr_foot\"}},\"id\":\"3587\",\"type\":\"Line\"},{\"attributes\":{},\"id\":\"3569\",\"type\":\"SaveTool\"},{\"attributes\":{\"end\":2016.0,\"reset_end\":2016.0,\"reset_start\":2010.0,\"start\":2010.0,\"tags\":[[[\"year\",\"year\",null]]]},\"id\":\"3549\",\"type\":\"Range1d\"},{\"attributes\":{},\"id\":\"3570\",\"type\":\"PanTool\"},{\"attributes\":{\"children\":[{\"id\":\"3548\"},{\"id\":\"3552\"},{\"id\":\"3610\"}],\"margin\":[0,0,0,0],\"name\":\"Row06194\",\"tags\":[\"embedded\"]},\"id\":\"3547\",\"type\":\"Row\"},{\"attributes\":{},\"id\":\"3573\",\"type\":\"ResetTool\"},{\"attributes\":{},\"id\":\"3571\",\"type\":\"WheelZoomTool\"},{\"attributes\":{},\"id\":\"3557\",\"type\":\"LinearScale\"},{\"attributes\":{\"overlay\":{\"id\":\"3574\"}},\"id\":\"3572\",\"type\":\"BoxZoomTool\"},{\"attributes\":{\"margin\":[5,5,5,5],\"name\":\"HSpacer06198\",\"sizing_mode\":\"stretch_width\"},\"id\":\"3548\",\"type\":\"Spacer\"},{\"attributes\":{\"axis_label\":\"year\",\"bounds\":\"auto\",\"formatter\":{\"id\":\"3590\"},\"major_label_orientation\":\"horizontal\",\"ticker\":{\"id\":\"3562\"}},\"id\":\"3561\",\"type\":\"LinearAxis\"},{\"attributes\":{},\"id\":\"3559\",\"type\":\"LinearScale\"},{\"attributes\":{\"data\":{\"sale_price_sqr_foot\":{\"__ndarray__\":\"tQKjeIIVd0Do7CdydF51QGdijk899nhAaBKk2Jo5fkDGKCTbN2KBQPETFqRSxINAUB33UCbNhUA=\",\"dtype\":\"float64\",\"order\":\"little\",\"shape\":[7]},\"year\":[2010,2011,2012,2013,2014,2015,2016]},\"selected\":{\"id\":\"3583\"},\"selection_policy\":{\"id\":\"3599\"}},\"id\":\"3582\",\"type\":\"ColumnDataSource\"},{\"attributes\":{},\"id\":\"3562\",\"type\":\"BasicTicker\"},{\"attributes\":{},\"id\":\"3583\",\"type\":\"Selection\"},{\"attributes\":{\"axis_label\":\"sale_price_sqr_foot\",\"bounds\":\"auto\",\"formatter\":{\"id\":\"3592\"},\"major_label_orientation\":\"horizontal\",\"ticker\":{\"id\":\"3566\"}},\"id\":\"3565\",\"type\":\"LinearAxis\"},{\"attributes\":{\"axis\":{\"id\":\"3561\"},\"grid_line_color\":null,\"ticker\":null},\"id\":\"3564\",\"type\":\"Grid\"},{\"attributes\":{\"end\":733.2177371101802,\"reset_end\":733.2177371101802,\"reset_start\":306.3294011864627,\"start\":306.3294011864627,\"tags\":[[[\"sale_price_sqr_foot\",\"sale_price_sqr_foot\",null]]]},\"id\":\"3550\",\"type\":\"Range1d\"},{\"attributes\":{},\"id\":\"3566\",\"type\":\"BasicTicker\"},{\"attributes\":{\"line_alpha\":0.1,\"line_color\":\"#1f77b3\",\"line_width\":2,\"x\":{\"field\":\"year\"},\"y\":{\"field\":\"sale_price_sqr_foot\"}},\"id\":\"3586\",\"type\":\"Line\"},{\"attributes\":{\"axis\":{\"id\":\"3565\"},\"dimension\":1,\"grid_line_color\":null,\"ticker\":null},\"id\":\"3568\",\"type\":\"Grid\"},{\"attributes\":{\"callback\":null,\"renderers\":[{\"id\":\"3588\"}],\"tags\":[\"hv_created\"],\"tooltips\":[[\"year\",\"@{year}\"],[\"sale_price_sqr_foot\",\"@{sale_price_sqr_foot}\"]]},\"id\":\"3551\",\"type\":\"HoverTool\"},{\"attributes\":{\"margin\":[5,5,5,5],\"name\":\"HSpacer06199\",\"sizing_mode\":\"stretch_width\"},\"id\":\"3610\",\"type\":\"Spacer\"}],\"root_ids\":[\"3547\"]},\"title\":\"Bokeh Application\",\"version\":\"2.2.3\"}};\n",
       "    var render_items = [{\"docid\":\"43e4a2de-efa4-47dd-8c0c-97cd8fccf1c7\",\"root_ids\":[\"3547\"],\"roots\":{\"3547\":\"dc474d86-74ae-4791-8fba-e50412c5aa9d\"}}];\n",
       "    root.Bokeh.embed.embed_items_notebook(docs_json, render_items);\n",
       "  }\n",
       "  if (root.Bokeh !== undefined && root.Bokeh.Panel !== undefined && root['Plotly'] !== undefined ) {\n",
       "    embed_document(root);\n",
       "  } else {\n",
       "    var attempts = 0;\n",
       "    var timer = setInterval(function(root) {\n",
       "      if (root.Bokeh !== undefined && root.Bokeh.Panel !== undefined && root['Plotly'] !== undefined) {\n",
       "        clearInterval(timer);\n",
       "        embed_document(root);\n",
       "      } else if (document.readyState == \"complete\") {\n",
       "        attempts++;\n",
       "        if (attempts > 100) {\n",
       "          clearInterval(timer);\n",
       "          console.log(\"Bokeh: ERROR: Unable to run BokehJS code because BokehJS library is missing\");\n",
       "        }\n",
       "      }\n",
       "    }, 10, root)\n",
       "  }\n",
       "})(window);</script>"
      ],
      "text/plain": [
       ":Curve   [year]   (sale_price_sqr_foot)"
      ]
     },
     "execution_count": 21,
     "metadata": {
      "application/vnd.holoviews_exec.v0+json": {
       "id": "3547"
      }
     },
     "output_type": "execute_result"
    }
   ],
   "source": [
    "average_sales_price()"
   ]
  },
  {
   "cell_type": "code",
   "execution_count": 22,
   "metadata": {},
   "outputs": [
    {
     "data": {},
     "metadata": {},
     "output_type": "display_data"
    },
    {
     "data": {
      "application/vnd.holoviews_exec.v0+json": "",
      "text/html": [
       "<div id='3652'>\n",
       "\n",
       "\n",
       "\n",
       "\n",
       "\n",
       "  <div class=\"bk-root\" id=\"02f3ed76-982a-4645-a606-207a327184b1\" data-root-id=\"3652\"></div>\n",
       "</div>\n",
       "<script type=\"application/javascript\">(function(root) {\n",
       "  function embed_document(root) {\n",
       "    var docs_json = {\"5f980fa4-ffab-4fe1-9420-a13b9a01a5a5\":{\"roots\":{\"references\":[{\"attributes\":{\"children\":[{\"id\":\"3827\"}],\"css_classes\":[\"panel-widget-box\"],\"margin\":[5,5,5,5],\"name\":\"WidgetBox06323\"},\"id\":\"3826\",\"type\":\"Column\"},{\"attributes\":{},\"id\":\"3675\",\"type\":\"SaveTool\"},{\"attributes\":{},\"id\":\"3676\",\"type\":\"PanTool\"},{\"attributes\":{},\"id\":\"3693\",\"type\":\"Selection\"},{\"attributes\":{},\"id\":\"3679\",\"type\":\"ResetTool\"},{\"attributes\":{\"line_alpha\":0.1,\"line_color\":\"#1f77b3\",\"line_width\":2,\"x\":{\"field\":\"year\"},\"y\":{\"field\":\"value\"}},\"id\":\"3696\",\"type\":\"Line\"},{\"attributes\":{},\"id\":\"3677\",\"type\":\"WheelZoomTool\"},{\"attributes\":{\"data_source\":{\"id\":\"3692\"},\"glyph\":{\"id\":\"3695\"},\"hover_glyph\":null,\"muted_glyph\":{\"id\":\"3697\"},\"nonselection_glyph\":{\"id\":\"3696\"},\"selection_glyph\":null,\"view\":{\"id\":\"3699\"}},\"id\":\"3698\",\"type\":\"GlyphRenderer\"},{\"attributes\":{\"margin\":[5,5,5,5],\"name\":\"VSpacer06329\",\"sizing_mode\":\"stretch_height\"},\"id\":\"3828\",\"type\":\"Spacer\"},{\"attributes\":{\"overlay\":{\"id\":\"3680\"}},\"id\":\"3678\",\"type\":\"BoxZoomTool\"},{\"attributes\":{\"margin\":[20,20,20,20],\"min_width\":250,\"options\":[\"Alamo Square\",\"Anza Vista\",\"Bayview\",\"Buena Vista Park\",\"Central Richmond\",\"Central Sunset\",\"Corona Heights\",\"Cow Hollow\",\"Croker Amazon\",\"Diamond Heights\",\"Downtown \",\"Eureka Valley/Dolores Heights\",\"Excelsior\",\"Financial District North\",\"Financial District South\",\"Forest Knolls\",\"Glen Park\",\"Golden Gate Heights\",\"Haight Ashbury\",\"Hayes Valley\",\"Hunters Point\",\"Ingleside \",\"Inner Mission\",\"Inner Parkside\",\"Inner Richmond\",\"Inner Sunset\",\"Jordan Park/Laurel Heights\",\"Lake --The Presidio\",\"Lone Mountain\",\"Lower Pacific Heights\",\"Marina\",\"Miraloma Park\",\"Mission Bay\",\"Mission Dolores\",\"Mission Terrace\",\"Nob Hill\",\"Noe Valley\",\"Oceanview\",\"Outer Parkside\",\"Outer Richmond \",\"Outer Sunset\",\"Pacific Heights\",\"Park North\",\"Parkside\",\"Parnassus/Ashbury Heights\",\"Portola\",\"Potrero Hill\",\"Presidio Heights\",\"Russian Hill\",\"South Beach\",\"South of Market\",\"Sunnyside\",\"Telegraph Hill\",\"Twin Peaks\",\"Union Square District\",\"Van Ness/ Civic Center\",\"West Portal\",\"Western Addition\",\"Yerba Buena\",\"Bernal Heights \",\"Clarendon Heights\",\"Duboce Triangle\",\"Ingleside Heights\",\"North Beach\",\"North Waterfront\",\"Outer Mission\",\"Westwood Highlands\",\"Merced Heights\",\"Midtown Terrace\",\"Visitacion Valley\",\"Silver Terrace\",\"Westwood Park\",\"Bayview Heights\"],\"title\":\"neighborhood\",\"value\":\"Alamo Square\",\"width\":250},\"id\":\"3827\",\"type\":\"Select\"},{\"attributes\":{\"line_color\":\"#1f77b3\",\"line_width\":2,\"x\":{\"field\":\"year\"},\"y\":{\"field\":\"value\"}},\"id\":\"3695\",\"type\":\"Line\"},{\"attributes\":{\"children\":[{\"id\":\"3653\"},{\"id\":\"3658\"},{\"id\":\"3823\"},{\"id\":\"3824\"}],\"margin\":[0,0,0,0],\"name\":\"Row06322\"},\"id\":\"3652\",\"type\":\"Row\"},{\"attributes\":{\"text\":\"neighborhood: Alamo Square\",\"text_color\":{\"value\":\"black\"},\"text_font_size\":{\"value\":\"12pt\"}},\"id\":\"3659\",\"type\":\"Title\"},{\"attributes\":{\"source\":{\"id\":\"3692\"}},\"id\":\"3699\",\"type\":\"CDSView\"},{\"attributes\":{},\"id\":\"3663\",\"type\":\"LinearScale\"},{\"attributes\":{\"label\":{\"value\":\"sale_price_sqr_foot\"},\"renderers\":[{\"id\":\"3698\"}]},\"id\":\"3709\",\"type\":\"LegendItem\"},{\"attributes\":{\"axis_label\":\"year\",\"bounds\":\"auto\",\"formatter\":{\"id\":\"3688\"},\"major_label_orientation\":\"horizontal\",\"ticker\":{\"id\":\"3668\"}},\"id\":\"3667\",\"type\":\"LinearAxis\"},{\"attributes\":{},\"id\":\"3665\",\"type\":\"LinearScale\"},{\"attributes\":{},\"id\":\"3688\",\"type\":\"BasicTickFormatter\"},{\"attributes\":{},\"id\":\"3705\",\"type\":\"UnionRenderers\"},{\"attributes\":{},\"id\":\"3668\",\"type\":\"BasicTicker\"},{\"attributes\":{\"callback\":null,\"renderers\":[{\"id\":\"3698\"},{\"id\":\"3716\"}],\"tags\":[\"hv_created\"],\"tooltips\":[[\"Variable\",\"@{Variable}\"],[\"year\",\"@{year}\"],[\"value\",\"@{value}\"]]},\"id\":\"3656\",\"type\":\"HoverTool\"},{\"attributes\":{},\"id\":\"3725\",\"type\":\"UnionRenderers\"},{\"attributes\":{\"margin\":[5,5,5,5],\"name\":\"HSpacer06331\",\"sizing_mode\":\"stretch_width\"},\"id\":\"3653\",\"type\":\"Spacer\"},{\"attributes\":{\"click_policy\":\"mute\",\"items\":[{\"id\":\"3709\"},{\"id\":\"3728\"}],\"location\":[0,0],\"title\":\"Variable\"},\"id\":\"3708\",\"type\":\"Legend\"},{\"attributes\":{\"data_source\":{\"id\":\"3710\"},\"glyph\":{\"id\":\"3713\"},\"hover_glyph\":null,\"muted_glyph\":{\"id\":\"3715\"},\"nonselection_glyph\":{\"id\":\"3714\"},\"selection_glyph\":null,\"view\":{\"id\":\"3717\"}},\"id\":\"3716\",\"type\":\"GlyphRenderer\"},{\"attributes\":{\"axis\":{\"id\":\"3671\"},\"dimension\":1,\"grid_line_color\":null,\"ticker\":null},\"id\":\"3674\",\"type\":\"Grid\"},{\"attributes\":{\"end\":4810.690068306854,\"reset_end\":4810.690068306854,\"reset_start\":-237.59075137539728,\"start\":-237.59075137539728,\"tags\":[[[\"value\",\"value\",null]]]},\"id\":\"3655\",\"type\":\"Range1d\"},{\"attributes\":{\"axis\":{\"id\":\"3667\"},\"grid_line_color\":null,\"ticker\":null},\"id\":\"3670\",\"type\":\"Grid\"},{\"attributes\":{\"data\":{\"Variable\":[\"sale_price_sqr_foot\",\"sale_price_sqr_foot\",\"sale_price_sqr_foot\",\"sale_price_sqr_foot\",\"sale_price_sqr_foot\",\"sale_price_sqr_foot\",\"sale_price_sqr_foot\"],\"value\":{\"__ndarray__\":\"Dkc7WO0yckCafszcbwhxQIGRs5ot42ZAJzog0LQ8eEAWMinKGEd+QI0V5FDt0IJAVCHcmLVPdUA=\",\"dtype\":\"float64\",\"order\":\"little\",\"shape\":[7]},\"year\":[2010,2011,2012,2013,2014,2015,2016]},\"selected\":{\"id\":\"3693\"},\"selection_policy\":{\"id\":\"3705\"}},\"id\":\"3692\",\"type\":\"ColumnDataSource\"},{\"attributes\":{\"children\":[{\"id\":\"3825\"},{\"id\":\"3826\"},{\"id\":\"3828\"}],\"margin\":[0,0,0,0],\"name\":\"Column06330\"},\"id\":\"3824\",\"type\":\"Column\"},{\"attributes\":{},\"id\":\"3672\",\"type\":\"BasicTicker\"},{\"attributes\":{\"axis_label\":\"\",\"bounds\":\"auto\",\"formatter\":{\"id\":\"3690\"},\"major_label_orientation\":\"horizontal\",\"ticker\":{\"id\":\"3672\"}},\"id\":\"3671\",\"type\":\"LinearAxis\"},{\"attributes\":{\"active_drag\":\"auto\",\"active_inspect\":\"auto\",\"active_multi\":null,\"active_scroll\":\"auto\",\"active_tap\":\"auto\",\"tools\":[{\"id\":\"3656\"},{\"id\":\"3675\"},{\"id\":\"3676\"},{\"id\":\"3677\"},{\"id\":\"3678\"},{\"id\":\"3679\"}]},\"id\":\"3681\",\"type\":\"Toolbar\"},{\"attributes\":{\"line_alpha\":0.2,\"line_color\":\"#1f77b3\",\"line_width\":2,\"x\":{\"field\":\"year\"},\"y\":{\"field\":\"value\"}},\"id\":\"3697\",\"type\":\"Line\"},{\"attributes\":{\"margin\":[5,5,5,5],\"name\":\"VSpacer06328\",\"sizing_mode\":\"stretch_height\"},\"id\":\"3825\",\"type\":\"Spacer\"},{\"attributes\":{\"source\":{\"id\":\"3710\"}},\"id\":\"3717\",\"type\":\"CDSView\"},{\"attributes\":{\"end\":2016.0,\"reset_end\":2016.0,\"reset_start\":2010.0,\"start\":2010.0,\"tags\":[[[\"year\",\"year\",null]]]},\"id\":\"3654\",\"type\":\"Range1d\"},{\"attributes\":{\"label\":{\"value\":\"gross_rent\"},\"renderers\":[{\"id\":\"3716\"}]},\"id\":\"3728\",\"type\":\"LegendItem\"},{\"attributes\":{},\"id\":\"3711\",\"type\":\"Selection\"},{\"attributes\":{\"client_comm_id\":\"f06a24f115b341e4929bdb2f676c05d5\",\"comm_id\":\"748ee965f93f41548ba4af27aacbb6bd\",\"plot_id\":\"3652\"},\"id\":\"3859\",\"type\":\"panel.models.comm_manager.CommManager\"},{\"attributes\":{\"below\":[{\"id\":\"3667\"}],\"center\":[{\"id\":\"3670\"},{\"id\":\"3674\"}],\"left\":[{\"id\":\"3671\"}],\"margin\":[5,5,5,5],\"min_border_bottom\":10,\"min_border_left\":10,\"min_border_right\":10,\"min_border_top\":10,\"plot_height\":300,\"plot_width\":700,\"renderers\":[{\"id\":\"3698\"},{\"id\":\"3716\"}],\"right\":[{\"id\":\"3708\"}],\"sizing_mode\":\"fixed\",\"title\":{\"id\":\"3659\"},\"toolbar\":{\"id\":\"3681\"},\"x_range\":{\"id\":\"3654\"},\"x_scale\":{\"id\":\"3663\"},\"y_range\":{\"id\":\"3655\"},\"y_scale\":{\"id\":\"3665\"}},\"id\":\"3658\",\"subtype\":\"Figure\",\"type\":\"Plot\"},{\"attributes\":{\"data\":{\"Variable\":[\"gross_rent\",\"gross_rent\",\"gross_rent\",\"gross_rent\",\"gross_rent\",\"gross_rent\",\"gross_rent\"],\"value\":[1239,1530,2324,2971,3528,3739,4390],\"year\":[2010,2011,2012,2013,2014,2015,2016]},\"selected\":{\"id\":\"3711\"},\"selection_policy\":{\"id\":\"3725\"}},\"id\":\"3710\",\"type\":\"ColumnDataSource\"},{\"attributes\":{\"line_alpha\":0.2,\"line_color\":\"#ff7e0e\",\"line_width\":2,\"x\":{\"field\":\"year\"},\"y\":{\"field\":\"value\"}},\"id\":\"3715\",\"type\":\"Line\"},{\"attributes\":{\"bottom_units\":\"screen\",\"fill_alpha\":0.5,\"fill_color\":\"lightgrey\",\"left_units\":\"screen\",\"level\":\"overlay\",\"line_alpha\":1.0,\"line_color\":\"black\",\"line_dash\":[4,4],\"line_width\":2,\"right_units\":\"screen\",\"top_units\":\"screen\"},\"id\":\"3680\",\"type\":\"BoxAnnotation\"},{\"attributes\":{},\"id\":\"3690\",\"type\":\"BasicTickFormatter\"},{\"attributes\":{\"line_color\":\"#ff7e0e\",\"line_width\":2,\"x\":{\"field\":\"year\"},\"y\":{\"field\":\"value\"}},\"id\":\"3713\",\"type\":\"Line\"},{\"attributes\":{\"margin\":[5,5,5,5],\"name\":\"HSpacer06332\",\"sizing_mode\":\"stretch_width\"},\"id\":\"3823\",\"type\":\"Spacer\"},{\"attributes\":{\"line_alpha\":0.1,\"line_color\":\"#ff7e0e\",\"line_width\":2,\"x\":{\"field\":\"year\"},\"y\":{\"field\":\"value\"}},\"id\":\"3714\",\"type\":\"Line\"}],\"root_ids\":[\"3652\",\"3859\"]},\"title\":\"Bokeh Application\",\"version\":\"2.2.3\"}};\n",
       "    var render_items = [{\"docid\":\"5f980fa4-ffab-4fe1-9420-a13b9a01a5a5\",\"root_ids\":[\"3652\"],\"roots\":{\"3652\":\"02f3ed76-982a-4645-a606-207a327184b1\"}}];\n",
       "    root.Bokeh.embed.embed_items_notebook(docs_json, render_items);\n",
       "  }\n",
       "  if (root.Bokeh !== undefined && root.Bokeh.Panel !== undefined && root['Plotly'] !== undefined ) {\n",
       "    embed_document(root);\n",
       "  } else {\n",
       "    var attempts = 0;\n",
       "    var timer = setInterval(function(root) {\n",
       "      if (root.Bokeh !== undefined && root.Bokeh.Panel !== undefined && root['Plotly'] !== undefined) {\n",
       "        clearInterval(timer);\n",
       "        embed_document(root);\n",
       "      } else if (document.readyState == \"complete\") {\n",
       "        attempts++;\n",
       "        if (attempts > 100) {\n",
       "          clearInterval(timer);\n",
       "          console.log(\"Bokeh: ERROR: Unable to run BokehJS code because BokehJS library is missing\");\n",
       "        }\n",
       "      }\n",
       "    }, 10, root)\n",
       "  }\n",
       "})(window);</script>"
      ],
      "text/plain": [
       ":DynamicMap   [neighborhood]\n",
       "   :NdOverlay   [Variable]\n",
       "      :Curve   [year]   (value)"
      ]
     },
     "execution_count": 22,
     "metadata": {
      "application/vnd.holoviews_exec.v0+json": {
       "id": "3652"
      }
     },
     "output_type": "execute_result"
    }
   ],
   "source": [
    "average_price_by_neighborhood()"
   ]
  },
  {
   "cell_type": "code",
   "execution_count": 23,
   "metadata": {},
   "outputs": [
    {
     "data": {},
     "metadata": {},
     "output_type": "display_data"
    },
    {
     "data": {
      "application/vnd.holoviews_exec.v0+json": "",
      "text/html": [
       "<div id='3910'>\n",
       "\n",
       "\n",
       "\n",
       "\n",
       "\n",
       "  <div class=\"bk-root\" id=\"e0233b95-70d2-4631-aa22-a7644d344546\" data-root-id=\"3910\"></div>\n",
       "</div>\n",
       "<script type=\"application/javascript\">(function(root) {\n",
       "  function embed_document(root) {\n",
       "    var docs_json = {\"35bc2e47-87c4-470f-9da4-4b6e6508ba9d\":{\"roots\":{\"references\":[{\"attributes\":{},\"id\":\"3953\",\"type\":\"BasicTickFormatter\"},{\"attributes\":{\"line_color\":\"#1f77b3\",\"line_width\":2,\"x\":{\"field\":\"index\"},\"y\":{\"field\":\"sale_price_sqr_foot\"}},\"id\":\"3948\",\"type\":\"Line\"},{\"attributes\":{\"source\":{\"id\":\"3945\"}},\"id\":\"3952\",\"type\":\"CDSView\"},{\"attributes\":{},\"id\":\"3966\",\"type\":\"UnionRenderers\"},{\"attributes\":{\"text\":\"neighborhood: Union Square District\",\"text_color\":{\"value\":\"black\"},\"text_font_size\":{\"value\":\"12pt\"}},\"id\":\"3916\",\"type\":\"Title\"},{\"attributes\":{\"active_drag\":\"auto\",\"active_inspect\":\"auto\",\"active_multi\":null,\"active_scroll\":\"auto\",\"active_tap\":\"auto\",\"tools\":[{\"id\":\"3914\"},{\"id\":\"3932\"},{\"id\":\"3933\"},{\"id\":\"3934\"},{\"id\":\"3935\"},{\"id\":\"3936\"}]},\"id\":\"3938\",\"type\":\"Toolbar\"},{\"attributes\":{\"line_alpha\":0.2,\"line_color\":\"#1f77b3\",\"line_width\":2,\"x\":{\"field\":\"index\"},\"y\":{\"field\":\"sale_price_sqr_foot\"}},\"id\":\"3950\",\"type\":\"Line\"},{\"attributes\":{\"margin\":[20,20,20,20],\"min_width\":250,\"options\":[\"Union Square District\",\"Presidio Heights\",\"Merced Heights\",\"Miraloma Park\",\"Parnassus/Ashbury Heights\",\"Outer Richmond \",\"Marina\",\"South of Market\",\"Corona Heights\"],\"title\":\"neighborhood\",\"value\":\"Union Square District\",\"width\":250},\"id\":\"3981\",\"type\":\"Select\"},{\"attributes\":{\"line_alpha\":0.1,\"line_color\":\"#1f77b3\",\"line_width\":2,\"x\":{\"field\":\"index\"},\"y\":{\"field\":\"sale_price_sqr_foot\"}},\"id\":\"3949\",\"type\":\"Line\"},{\"attributes\":{\"client_comm_id\":\"7374e28c5cac4fd6984b910ccdc17ff0\",\"comm_id\":\"28cbb2a54cb9461eb0e53b54233e0e56\",\"plot_id\":\"3910\"},\"id\":\"4007\",\"type\":\"panel.models.comm_manager.CommManager\"},{\"attributes\":{},\"id\":\"3932\",\"type\":\"SaveTool\"},{\"attributes\":{},\"id\":\"3933\",\"type\":\"PanTool\"},{\"attributes\":{\"end\":346.0,\"reset_end\":346.0,\"reset_start\":226.0,\"start\":226.0,\"tags\":[[[\"index\",\"index\",null]]]},\"id\":\"3912\",\"type\":\"Range1d\"},{\"attributes\":{\"children\":[{\"id\":\"3981\"}],\"css_classes\":[\"panel-widget-box\"],\"margin\":[5,5,5,5],\"name\":\"WidgetBox06961\"},\"id\":\"3980\",\"type\":\"Column\"},{\"attributes\":{},\"id\":\"3936\",\"type\":\"ResetTool\"},{\"attributes\":{},\"id\":\"3934\",\"type\":\"WheelZoomTool\"},{\"attributes\":{},\"id\":\"3920\",\"type\":\"LinearScale\"},{\"attributes\":{\"overlay\":{\"id\":\"3937\"}},\"id\":\"3935\",\"type\":\"BoxZoomTool\"},{\"attributes\":{},\"id\":\"3955\",\"type\":\"BasicTickFormatter\"},{\"attributes\":{\"children\":[{\"id\":\"3979\"},{\"id\":\"3980\"},{\"id\":\"3982\"}],\"margin\":[0,0,0,0],\"name\":\"Column06968\"},\"id\":\"3978\",\"type\":\"Column\"},{\"attributes\":{\"children\":[{\"id\":\"3911\"},{\"id\":\"3915\"},{\"id\":\"3977\"},{\"id\":\"3978\"}],\"margin\":[0,0,0,0],\"name\":\"Row06960\"},\"id\":\"3910\",\"type\":\"Row\"},{\"attributes\":{\"axis_label\":\"\",\"bounds\":\"auto\",\"formatter\":{\"id\":\"3953\"},\"major_label_orientation\":\"horizontal\",\"ticker\":{\"id\":\"3925\"}},\"id\":\"3924\",\"type\":\"LinearAxis\"},{\"attributes\":{},\"id\":\"3922\",\"type\":\"LinearScale\"},{\"attributes\":{\"margin\":[5,5,5,5],\"name\":\"VSpacer06966\",\"sizing_mode\":\"stretch_height\"},\"id\":\"3979\",\"type\":\"Spacer\"},{\"attributes\":{},\"id\":\"3925\",\"type\":\"BasicTicker\"},{\"attributes\":{\"data\":{\"index\":[346,226],\"sale_price_sqr_foot\":{\"__ndarray__\":\"CX+Y2WeloUAwvuxv4ymUQA==\",\"dtype\":\"float64\",\"order\":\"little\",\"shape\":[2]}},\"selected\":{\"id\":\"3946\"},\"selection_policy\":{\"id\":\"3966\"}},\"id\":\"3945\",\"type\":\"ColumnDataSource\"},{\"attributes\":{\"axis_label\":\"sale_price_sqr_foot\",\"bounds\":\"auto\",\"formatter\":{\"id\":\"3955\"},\"major_label_orientation\":\"horizontal\",\"ticker\":{\"id\":\"3929\"}},\"id\":\"3928\",\"type\":\"LinearAxis\"},{\"attributes\":{},\"id\":\"3946\",\"type\":\"Selection\"},{\"attributes\":{\"axis\":{\"id\":\"3924\"},\"grid_line_color\":null,\"ticker\":null},\"id\":\"3927\",\"type\":\"Grid\"},{\"attributes\":{\"margin\":[5,5,5,5],\"name\":\"HSpacer06969\",\"sizing_mode\":\"stretch_width\"},\"id\":\"3911\",\"type\":\"Spacer\"},{\"attributes\":{\"end\":2355.5259045335265,\"reset_end\":2355.5259045335265,\"reset_start\":1193.6490341114695,\"start\":1193.6490341114695,\"tags\":[[[\"sale_price_sqr_foot\",\"sale_price_sqr_foot\",null]]]},\"id\":\"3913\",\"type\":\"Range1d\"},{\"attributes\":{},\"id\":\"3929\",\"type\":\"BasicTicker\"},{\"attributes\":{\"axis\":{\"id\":\"3928\"},\"dimension\":1,\"grid_line_color\":null,\"ticker\":null},\"id\":\"3931\",\"type\":\"Grid\"},{\"attributes\":{\"margin\":[5,5,5,5],\"name\":\"VSpacer06967\",\"sizing_mode\":\"stretch_height\"},\"id\":\"3982\",\"type\":\"Spacer\"},{\"attributes\":{\"callback\":null,\"renderers\":[{\"id\":\"3951\"}],\"tags\":[\"hv_created\"],\"tooltips\":[[\"index\",\"@{index}\"],[\"sale_price_sqr_foot\",\"@{sale_price_sqr_foot}\"]]},\"id\":\"3914\",\"type\":\"HoverTool\"},{\"attributes\":{\"margin\":[5,5,5,5],\"name\":\"HSpacer06970\",\"sizing_mode\":\"stretch_width\"},\"id\":\"3977\",\"type\":\"Spacer\"},{\"attributes\":{\"data_source\":{\"id\":\"3945\"},\"glyph\":{\"id\":\"3948\"},\"hover_glyph\":null,\"muted_glyph\":{\"id\":\"3950\"},\"nonselection_glyph\":{\"id\":\"3949\"},\"selection_glyph\":null,\"view\":{\"id\":\"3952\"}},\"id\":\"3951\",\"type\":\"GlyphRenderer\"},{\"attributes\":{\"below\":[{\"id\":\"3924\"}],\"center\":[{\"id\":\"3927\"},{\"id\":\"3931\"}],\"left\":[{\"id\":\"3928\"}],\"margin\":[5,5,5,5],\"min_border_bottom\":10,\"min_border_left\":10,\"min_border_right\":10,\"min_border_top\":10,\"plot_height\":300,\"plot_width\":700,\"renderers\":[{\"id\":\"3951\"}],\"sizing_mode\":\"fixed\",\"title\":{\"id\":\"3916\"},\"toolbar\":{\"id\":\"3938\"},\"x_range\":{\"id\":\"3912\"},\"x_scale\":{\"id\":\"3920\"},\"y_range\":{\"id\":\"3913\"},\"y_scale\":{\"id\":\"3922\"}},\"id\":\"3915\",\"subtype\":\"Figure\",\"type\":\"Plot\"},{\"attributes\":{\"bottom_units\":\"screen\",\"fill_alpha\":0.5,\"fill_color\":\"lightgrey\",\"left_units\":\"screen\",\"level\":\"overlay\",\"line_alpha\":1.0,\"line_color\":\"black\",\"line_dash\":[4,4],\"line_width\":2,\"right_units\":\"screen\",\"top_units\":\"screen\"},\"id\":\"3937\",\"type\":\"BoxAnnotation\"}],\"root_ids\":[\"3910\",\"4007\"]},\"title\":\"Bokeh Application\",\"version\":\"2.2.3\"}};\n",
       "    var render_items = [{\"docid\":\"35bc2e47-87c4-470f-9da4-4b6e6508ba9d\",\"root_ids\":[\"3910\"],\"roots\":{\"3910\":\"e0233b95-70d2-4631-aa22-a7644d344546\"}}];\n",
       "    root.Bokeh.embed.embed_items_notebook(docs_json, render_items);\n",
       "  }\n",
       "  if (root.Bokeh !== undefined && root.Bokeh.Panel !== undefined && root['Plotly'] !== undefined ) {\n",
       "    embed_document(root);\n",
       "  } else {\n",
       "    var attempts = 0;\n",
       "    var timer = setInterval(function(root) {\n",
       "      if (root.Bokeh !== undefined && root.Bokeh.Panel !== undefined && root['Plotly'] !== undefined) {\n",
       "        clearInterval(timer);\n",
       "        embed_document(root);\n",
       "      } else if (document.readyState == \"complete\") {\n",
       "        attempts++;\n",
       "        if (attempts > 100) {\n",
       "          clearInterval(timer);\n",
       "          console.log(\"Bokeh: ERROR: Unable to run BokehJS code because BokehJS library is missing\");\n",
       "        }\n",
       "      }\n",
       "    }, 10, root)\n",
       "  }\n",
       "})(window);</script>"
      ],
      "text/plain": [
       ":DynamicMap   [neighborhood]\n",
       "   :Curve   [index]   (sale_price_sqr_foot)"
      ]
     },
     "execution_count": 23,
     "metadata": {
      "application/vnd.holoviews_exec.v0+json": {
       "id": "3910"
      }
     },
     "output_type": "execute_result"
    }
   ],
   "source": [
    "top_most_expensive_neighborhoods()"
   ]
  },
  {
   "cell_type": "code",
   "execution_count": 24,
   "metadata": {},
   "outputs": [],
   "source": [
    "# most_expensive_neighborhoods_rent_sales()"
   ]
  },
  {
   "cell_type": "code",
   "execution_count": 25,
   "metadata": {},
   "outputs": [],
   "source": [
    "# neighborhood_map().show()"
   ]
  },
  {
   "cell_type": "code",
   "execution_count": 26,
   "metadata": {},
   "outputs": [],
   "source": [
    "# parallel_categories()"
   ]
  },
  {
   "cell_type": "code",
   "execution_count": null,
   "metadata": {},
   "outputs": [],
   "source": [
    "# parallel_coordinates()"
   ]
  },
  {
   "cell_type": "code",
   "execution_count": null,
   "metadata": {},
   "outputs": [],
   "source": [
    "# sunburst()"
   ]
  },
  {
   "cell_type": "code",
   "execution_count": null,
   "metadata": {},
   "outputs": [],
   "source": []
  }
 ],
 "metadata": {
  "file_extension": ".py",
  "kernelspec": {
   "display_name": "Python 3",
   "language": "python",
   "name": "python3"
  },
  "language_info": {
   "codemirror_mode": {
    "name": "ipython",
    "version": 3
   },
   "file_extension": ".py",
   "mimetype": "text/x-python",
   "name": "python",
   "nbconvert_exporter": "python",
   "pygments_lexer": "ipython3",
   "version": "3.7.9"
  },
  "mimetype": "text/x-python",
  "name": "python",
  "npconvert_exporter": "python",
  "pygments_lexer": "ipython3",
  "version": 3
 },
 "nbformat": 4,
 "nbformat_minor": 4
}
